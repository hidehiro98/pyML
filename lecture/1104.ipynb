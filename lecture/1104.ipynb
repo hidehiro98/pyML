{
 "cells": [
  {
   "cell_type": "code",
   "execution_count": 1,
   "metadata": {},
   "outputs": [
    {
     "name": "stdout",
     "output_type": "stream",
     "text": [
      "(1797, 8, 8)\n",
      "(1797,)\n",
      "{0: 178, 1: 182, 2: 177, 3: 183, 4: 181, 5: 182, 6: 181, 7: 179, 8: 174, 9: 180}\n",
      "(1797, 8, 8) (1797, 64)\n"
     ]
    }
   ],
   "source": [
    "%matplotlib inline\n",
    "from sklearn import datasets\n",
    "import matplotlib.pyplot as plt\n",
    "import numpy as np\n",
    "\n",
    "digits = datasets.load_digits()\n",
    "x,y = digits.images, digits.target\n",
    "print(x.shape)\n",
    "print(y.shape)\n",
    "print({i:len(y[y==i]) for i in range(10)})\n",
    "print(digits.images.shape, digits.data.shape)"
   ]
  },
  {
   "cell_type": "code",
   "execution_count": 2,
   "metadata": {},
   "outputs": [
    {
     "data": {
      "text/plain": [
       "array([[  0.,   5.,  12.,  13.,  16.,  16.,   2.,   0.],\n",
       "       [  0.,  11.,  16.,  15.,   8.,   4.,   0.,   0.],\n",
       "       [  0.,   8.,  14.,  11.,   1.,   0.,   0.,   0.],\n",
       "       [  0.,   8.,  16.,  16.,  14.,   0.,   0.,   0.],\n",
       "       [  0.,   1.,   6.,   6.,  16.,   0.,   0.,   0.],\n",
       "       [  0.,   0.,   0.,   5.,  16.,   3.,   0.,   0.],\n",
       "       [  0.,   1.,   5.,  15.,  13.,   0.,   0.,   0.],\n",
       "       [  0.,   4.,  15.,  16.,   2.,   0.,   0.,   0.]])"
      ]
     },
     "execution_count": 2,
     "metadata": {},
     "output_type": "execute_result"
    }
   ],
   "source": [
    "x[15]"
   ]
  },
  {
   "cell_type": "code",
   "execution_count": 3,
   "metadata": {},
   "outputs": [
    {
     "data": {
      "text/plain": [
       "5"
      ]
     },
     "execution_count": 3,
     "metadata": {},
     "output_type": "execute_result"
    }
   ],
   "source": [
    "y[15]"
   ]
  },
  {
   "cell_type": "code",
   "execution_count": 4,
   "metadata": {},
   "outputs": [
    {
     "data": {
      "image/png": "[encoded data removed]",
      "text/plain": [
       "<matplotlib.figure.Figure at 0x101dfb128>"
      ]
     },
     "metadata": {},
     "output_type": "display_data"
    }
   ],
   "source": [
    "plt.imshow(x[15],cmap=plt.cm.gray_r)\n",
    "plt.show()"
   ]
  },
  {
   "cell_type": "code",
   "execution_count": 5,
   "metadata": {},
   "outputs": [
    {
     "data": {
      "text/plain": [
       "array([[[  0.,   0.,   5., ...,   1.,   0.,   0.],\n",
       "        [  0.,   0.,  13., ...,  15.,   5.,   0.],\n",
       "        [  0.,   3.,  15., ...,  11.,   8.,   0.],\n",
       "        ..., \n",
       "        [  0.,   4.,  11., ...,  12.,   7.,   0.],\n",
       "        [  0.,   2.,  14., ...,  12.,   0.,   0.],\n",
       "        [  0.,   0.,   6., ...,   0.,   0.,   0.]],\n",
       "\n",
       "       [[  0.,   0.,   0., ...,   5.,   0.,   0.],\n",
       "        [  0.,   0.,   0., ...,   9.,   0.,   0.],\n",
       "        [  0.,   0.,   3., ...,   6.,   0.,   0.],\n",
       "        ..., \n",
       "        [  0.,   0.,   1., ...,   6.,   0.,   0.],\n",
       "        [  0.,   0.,   1., ...,   6.,   0.,   0.],\n",
       "        [  0.,   0.,   0., ...,  10.,   0.,   0.]],\n",
       "\n",
       "       [[  0.,   0.,   0., ...,  12.,   0.,   0.],\n",
       "        [  0.,   0.,   3., ...,  14.,   0.,   0.],\n",
       "        [  0.,   0.,   8., ...,  16.,   0.,   0.],\n",
       "        ..., \n",
       "        [  0.,   9.,  16., ...,   0.,   0.,   0.],\n",
       "        [  0.,   3.,  13., ...,  11.,   5.,   0.],\n",
       "        [  0.,   0.,   0., ...,  16.,   9.,   0.]],\n",
       "\n",
       "       ..., \n",
       "       [[  0.,   0.,   1., ...,   1.,   0.,   0.],\n",
       "        [  0.,   0.,  13., ...,   2.,   1.,   0.],\n",
       "        [  0.,   0.,  16., ...,  16.,   5.,   0.],\n",
       "        ..., \n",
       "        [  0.,   0.,  16., ...,  15.,   0.,   0.],\n",
       "        [  0.,   0.,  15., ...,  16.,   0.,   0.],\n",
       "        [  0.,   0.,   2., ...,   6.,   0.,   0.]],\n",
       "\n",
       "       [[  0.,   0.,   2., ...,   0.,   0.,   0.],\n",
       "        [  0.,   0.,  14., ...,  15.,   1.,   0.],\n",
       "        [  0.,   4.,  16., ...,  16.,   7.,   0.],\n",
       "        ..., \n",
       "        [  0.,   0.,   0., ...,  16.,   2.,   0.],\n",
       "        [  0.,   0.,   4., ...,  16.,   2.,   0.],\n",
       "        [  0.,   0.,   5., ...,  12.,   0.,   0.]],\n",
       "\n",
       "       [[  0.,   0.,  10., ...,   1.,   0.,   0.],\n",
       "        [  0.,   2.,  16., ...,   1.,   0.,   0.],\n",
       "        [  0.,   0.,  15., ...,  15.,   0.,   0.],\n",
       "        ..., \n",
       "        [  0.,   4.,  16., ...,  16.,   6.,   0.],\n",
       "        [  0.,   8.,  16., ...,  16.,   8.,   0.],\n",
       "        [  0.,   1.,   8., ...,  12.,   1.,   0.]]])"
      ]
     },
     "execution_count": 5,
     "metadata": {},
     "output_type": "execute_result"
    }
   ],
   "source": [
    "x"
   ]
  },
  {
   "cell_type": "code",
   "execution_count": 6,
   "metadata": {
    "collapsed": true
   },
   "outputs": [],
   "source": [
    "x = x.reshape((x.shape[0],-1))"
   ]
  },
  {
   "cell_type": "code",
   "execution_count": 7,
   "metadata": {},
   "outputs": [
    {
     "data": {
      "text/plain": [
       "array([[  0.,   0.,   5., ...,   0.,   0.,   0.],\n",
       "       [  0.,   0.,   0., ...,  10.,   0.,   0.],\n",
       "       [  0.,   0.,   0., ...,  16.,   9.,   0.],\n",
       "       ..., \n",
       "       [  0.,   0.,   1., ...,   6.,   0.,   0.],\n",
       "       [  0.,   0.,   2., ...,  12.,   0.,   0.],\n",
       "       [  0.,   0.,  10., ...,  12.,   1.,   0.]])"
      ]
     },
     "execution_count": 7,
     "metadata": {},
     "output_type": "execute_result"
    }
   ],
   "source": [
    "x"
   ]
  },
  {
   "cell_type": "code",
   "execution_count": 8,
   "metadata": {},
   "outputs": [
    {
     "data": {
      "text/plain": [
       "(1797, 64)"
      ]
     },
     "execution_count": 8,
     "metadata": {},
     "output_type": "execute_result"
    }
   ],
   "source": [
    "x.shape"
   ]
  },
  {
   "cell_type": "code",
   "execution_count": 31,
   "metadata": {
    "collapsed": true
   },
   "outputs": [],
   "source": [
    "# 訓練データと試験データに分割する\n",
    "from sklearn.model_selection import train_test_split\n",
    "x_train, x_test, y_train, y_test = train_test_split(x, y, test_size=0.3)\n",
    "\n",
    "# データの標準化\n",
    "from sklearn.preprocessing import StandardScaler\n",
    "sc = StandardScaler()\n",
    "sc.fit(x_train)# x_trainを使って標準化することに注意\n",
    "x_train_std = sc.transform(x_train)\n",
    "x_test_std = sc.transform(x_test)"
   ]
  },
  {
   "cell_type": "code",
   "execution_count": 32,
   "metadata": {},
   "outputs": [
    {
     "name": "stdout",
     "output_type": "stream",
     "text": [
      "誤分類サンプル数: 36\n",
      "正解率: 0.93\n"
     ]
    }
   ],
   "source": [
    "#パーセプトロンによる手書き文字の分類\n",
    "from sklearn.linear_model import Perceptron\n",
    "clf = Perceptron(n_iter=10, eta0=0.01, shuffle=True)\n",
    "clf.fit(x_train_std, y_train)\n",
    "\n",
    "#正解率を表示する\n",
    "y_pred = clf.predict(x_test_std)\n",
    "print('誤分類サンプル数: %d' % (y_test != y_pred).sum())\n",
    "from sklearn.metrics import accuracy_score\n",
    "print('正解率: %.2f' % accuracy_score(y_test, y_pred))"
   ]
  },
  {
   "cell_type": "code",
   "execution_count": 42,
   "metadata": {},
   "outputs": [
    {
     "name": "stdout",
     "output_type": "stream",
     "text": [
      "誤分類サンプル数: 8\n",
      "正解率: 0.99\n"
     ]
    }
   ],
   "source": [
    "from sklearn.svm import SVC\n",
    "clf = SVC()\n",
    "clf.fit(x_train_std, y_train)\n",
    "\n",
    "#正解率を表示する\n",
    "y_pred = clf.predict(x_test_std)\n",
    "print('誤分類サンプル数: %d' % (y_test != y_pred).sum())\n",
    "from sklearn.metrics import accuracy_score\n",
    "print('正解率: %.2f' % accuracy_score(y_test, y_pred))"
   ]
  },
  {
   "cell_type": "code",
   "execution_count": 45,
   "metadata": {},
   "outputs": [
    {
     "name": "stdout",
     "output_type": "stream",
     "text": [
      "[ 0.93513514  0.99453552  0.9281768   0.96111111  0.96089385  0.98882682\n",
      "  0.96648045  0.97752809  0.93220339  0.96590909]\n",
      "Accuracy: 0.96(+/- 0.04)\n"
     ]
    }
   ],
   "source": [
    "digits = datasets.load_digits()\n",
    "x,y = digits.images, digits.target\n",
    "x = x.reshape((x.shape[0],-1))\n",
    "\n",
    "from sklearn.model_selection import cross_val_score\n",
    "clf = SVC(kernel='linear', C=1)\n",
    "scores = cross_val_score(clf, x, y, scoring='accuracy', cv=10)\n",
    "print(scores)\n",
    "print('Accuracy: %0.2f(+/- %0.2f)' % (scores.mean(), scores.std()*2))"
   ]
  },
  {
   "cell_type": "code",
   "execution_count": 47,
   "metadata": {},
   "outputs": [
    {
     "name": "stdout",
     "output_type": "stream",
     "text": [
      "[ 0.8972973   0.90163934  0.83977901  0.92222222  0.91620112  0.92178771\n",
      "  0.93296089  0.92696629  0.85310734  0.88636364]\n",
      "Accuracy: 0.90(+/- 0.06)\n"
     ]
    }
   ],
   "source": [
    "digits = datasets.load_digits()\n",
    "x,y = digits.images, digits.target\n",
    "x = x.reshape((x.shape[0],-1))\n",
    "\n",
    "from sklearn.model_selection import cross_val_score\n",
    "clf = Perceptron()\n",
    "scores = cross_val_score(clf, x, y, scoring='accuracy', cv=10)\n",
    "print(scores)\n",
    "print('Accuracy: %0.2f(+/- %0.2f)' % (scores.mean(), scores.std()*2))"
   ]
  },
  {
   "cell_type": "code",
   "execution_count": 57,
   "metadata": {},
   "outputs": [
    {
     "name": "stdout",
     "output_type": "stream",
     "text": [
      "[0.94999999999999996, 1.0, 0.94999999999999996, 0.98888888888888893, 0.98888888888888893, 0.98888888888888893, 0.99444444444444446, 0.994413407821229, 0.97765363128491622, 0.96089385474860334]\n",
      "Accuracy: 0.98(+/- 0.04)\n"
     ]
    }
   ],
   "source": [
    "from sklearn.model_selection import KFold\n",
    "scores = []\n",
    "kf=KFold(n_splits=10)\n",
    "\n",
    "for train,test in kf.split(x,y):\n",
    "    svm=SVC(gamma=0.001)\n",
    "    svm.fit(x[train],y[train])\n",
    "    scores.append(svm.score(x[test],y[test]))\n",
    "print(scores)\n",
    "print('Accuracy: %0.2f(+/- %0.2f)' % (np.array(scores).mean(), np.array(scores).std() *2))"
   ]
  },
  {
   "cell_type": "code",
   "execution_count": 63,
   "metadata": {
    "collapsed": true
   },
   "outputs": [],
   "source": [
    "?GridSearchCV "
   ]
  },
  {
   "cell_type": "code",
   "execution_count": 62,
   "metadata": {},
   "outputs": [
    {
     "name": "stdout",
     "output_type": "stream",
     "text": [
      "# Tuning hyper-parameters for accuracy\n",
      "{'C': 10, 'gamma': 0.001, 'kernel': 'rbf'}\n",
      "Grid scores on development set:\n",
      "0.111 (+/-0.039) for {'C': 0.01, 'gamma': 0.01, 'kernel': 'rbf'}\n",
      "0.951 (+/-0.041) for {'C': 0.01, 'gamma': 0.01, 'kernel': 'linear'}\n",
      "0.970 (+/-0.036) for {'C': 0.01, 'gamma': 0.01, 'kernel': 'poly'}\n",
      "0.105 (+/-0.012) for {'C': 0.01, 'gamma': 0.01, 'kernel': 'sigmoid'}\n",
      "0.173 (+/-0.152) for {'C': 0.01, 'gamma': 0.001, 'kernel': 'rbf'}\n",
      "0.951 (+/-0.041) for {'C': 0.01, 'gamma': 0.001, 'kernel': 'linear'}\n",
      "0.952 (+/-0.059) for {'C': 0.01, 'gamma': 0.001, 'kernel': 'poly'}\n",
      "0.120 (+/-0.073) for {'C': 0.01, 'gamma': 0.001, 'kernel': 'sigmoid'}\n",
      "0.137 (+/-0.142) for {'C': 0.01, 'gamma': 0.0001, 'kernel': 'rbf'}\n",
      "0.951 (+/-0.041) for {'C': 0.01, 'gamma': 0.0001, 'kernel': 'linear'}\n",
      "0.134 (+/-0.130) for {'C': 0.01, 'gamma': 0.0001, 'kernel': 'poly'}\n",
      "0.135 (+/-0.135) for {'C': 0.01, 'gamma': 0.0001, 'kernel': 'sigmoid'}\n",
      "0.136 (+/-0.137) for {'C': 0.01, 'gamma': 1e-05, 'kernel': 'rbf'}\n",
      "0.951 (+/-0.041) for {'C': 0.01, 'gamma': 1e-05, 'kernel': 'linear'}\n",
      "0.134 (+/-0.130) for {'C': 0.01, 'gamma': 1e-05, 'kernel': 'poly'}\n",
      "0.135 (+/-0.135) for {'C': 0.01, 'gamma': 1e-05, 'kernel': 'sigmoid'}\n",
      "0.111 (+/-0.039) for {'C': 0.1, 'gamma': 0.01, 'kernel': 'rbf'}\n",
      "0.949 (+/-0.038) for {'C': 0.1, 'gamma': 0.01, 'kernel': 'linear'}\n",
      "0.970 (+/-0.036) for {'C': 0.1, 'gamma': 0.01, 'kernel': 'poly'}\n",
      "0.106 (+/-0.017) for {'C': 0.1, 'gamma': 0.01, 'kernel': 'sigmoid'}\n",
      "0.943 (+/-0.044) for {'C': 0.1, 'gamma': 0.001, 'kernel': 'rbf'}\n",
      "0.949 (+/-0.038) for {'C': 0.1, 'gamma': 0.001, 'kernel': 'linear'}\n",
      "0.971 (+/-0.035) for {'C': 0.1, 'gamma': 0.001, 'kernel': 'poly'}\n",
      "0.215 (+/-0.120) for {'C': 0.1, 'gamma': 0.001, 'kernel': 'sigmoid'}\n",
      "0.880 (+/-0.056) for {'C': 0.1, 'gamma': 0.0001, 'kernel': 'rbf'}\n",
      "0.949 (+/-0.038) for {'C': 0.1, 'gamma': 0.0001, 'kernel': 'linear'}\n",
      "0.136 (+/-0.129) for {'C': 0.1, 'gamma': 0.0001, 'kernel': 'poly'}\n",
      "0.729 (+/-0.017) for {'C': 0.1, 'gamma': 0.0001, 'kernel': 'sigmoid'}\n",
      "0.136 (+/-0.137) for {'C': 0.1, 'gamma': 1e-05, 'kernel': 'rbf'}\n",
      "0.949 (+/-0.038) for {'C': 0.1, 'gamma': 1e-05, 'kernel': 'linear'}\n",
      "0.134 (+/-0.130) for {'C': 0.1, 'gamma': 1e-05, 'kernel': 'poly'}\n",
      "0.135 (+/-0.135) for {'C': 0.1, 'gamma': 1e-05, 'kernel': 'sigmoid'}\n",
      "0.695 (+/-0.113) for {'C': 1, 'gamma': 0.01, 'kernel': 'rbf'}\n",
      "0.949 (+/-0.038) for {'C': 1, 'gamma': 0.01, 'kernel': 'linear'}\n",
      "0.970 (+/-0.036) for {'C': 1, 'gamma': 0.01, 'kernel': 'poly'}\n",
      "0.105 (+/-0.015) for {'C': 1, 'gamma': 0.01, 'kernel': 'sigmoid'}\n",
      "0.972 (+/-0.031) for {'C': 1, 'gamma': 0.001, 'kernel': 'rbf'}\n",
      "0.949 (+/-0.038) for {'C': 1, 'gamma': 0.001, 'kernel': 'linear'}\n",
      "0.970 (+/-0.036) for {'C': 1, 'gamma': 0.001, 'kernel': 'poly'}\n",
      "0.705 (+/-0.074) for {'C': 1, 'gamma': 0.001, 'kernel': 'sigmoid'}\n",
      "0.948 (+/-0.044) for {'C': 1, 'gamma': 0.0001, 'kernel': 'rbf'}\n",
      "0.949 (+/-0.038) for {'C': 1, 'gamma': 0.0001, 'kernel': 'linear'}\n",
      "0.902 (+/-0.040) for {'C': 1, 'gamma': 0.0001, 'kernel': 'poly'}\n",
      "0.930 (+/-0.063) for {'C': 1, 'gamma': 0.0001, 'kernel': 'sigmoid'}\n",
      "0.885 (+/-0.061) for {'C': 1, 'gamma': 1e-05, 'kernel': 'rbf'}\n",
      "0.949 (+/-0.038) for {'C': 1, 'gamma': 1e-05, 'kernel': 'linear'}\n",
      "0.134 (+/-0.130) for {'C': 1, 'gamma': 1e-05, 'kernel': 'poly'}\n",
      "0.756 (+/-0.032) for {'C': 1, 'gamma': 1e-05, 'kernel': 'sigmoid'}\n",
      "0.706 (+/-0.102) for {'C': 10, 'gamma': 0.01, 'kernel': 'rbf'}\n",
      "0.949 (+/-0.038) for {'C': 10, 'gamma': 0.01, 'kernel': 'linear'}\n",
      "0.970 (+/-0.036) for {'C': 10, 'gamma': 0.01, 'kernel': 'poly'}\n",
      "0.106 (+/-0.017) for {'C': 10, 'gamma': 0.01, 'kernel': 'sigmoid'}\n",
      "0.973 (+/-0.028) for {'C': 10, 'gamma': 0.001, 'kernel': 'rbf'}\n",
      "0.949 (+/-0.038) for {'C': 10, 'gamma': 0.001, 'kernel': 'linear'}\n",
      "0.970 (+/-0.036) for {'C': 10, 'gamma': 0.001, 'kernel': 'poly'}\n",
      "0.563 (+/-0.085) for {'C': 10, 'gamma': 0.001, 'kernel': 'sigmoid'}\n",
      "0.959 (+/-0.046) for {'C': 10, 'gamma': 0.0001, 'kernel': 'rbf'}\n",
      "0.949 (+/-0.038) for {'C': 10, 'gamma': 0.0001, 'kernel': 'linear'}\n",
      "0.952 (+/-0.059) for {'C': 10, 'gamma': 0.0001, 'kernel': 'poly'}\n",
      "0.950 (+/-0.049) for {'C': 10, 'gamma': 0.0001, 'kernel': 'sigmoid'}\n",
      "0.945 (+/-0.051) for {'C': 10, 'gamma': 1e-05, 'kernel': 'rbf'}\n",
      "0.949 (+/-0.038) for {'C': 10, 'gamma': 1e-05, 'kernel': 'linear'}\n",
      "0.134 (+/-0.130) for {'C': 10, 'gamma': 1e-05, 'kernel': 'poly'}\n",
      "0.932 (+/-0.059) for {'C': 10, 'gamma': 1e-05, 'kernel': 'sigmoid'}\n",
      "0.706 (+/-0.102) for {'C': 100, 'gamma': 0.01, 'kernel': 'rbf'}\n",
      "0.949 (+/-0.038) for {'C': 100, 'gamma': 0.01, 'kernel': 'linear'}\n",
      "0.970 (+/-0.036) for {'C': 100, 'gamma': 0.01, 'kernel': 'poly'}\n",
      "0.106 (+/-0.017) for {'C': 100, 'gamma': 0.01, 'kernel': 'sigmoid'}\n",
      "0.973 (+/-0.028) for {'C': 100, 'gamma': 0.001, 'kernel': 'rbf'}\n",
      "0.949 (+/-0.038) for {'C': 100, 'gamma': 0.001, 'kernel': 'linear'}\n",
      "0.970 (+/-0.036) for {'C': 100, 'gamma': 0.001, 'kernel': 'poly'}\n",
      "0.533 (+/-0.077) for {'C': 100, 'gamma': 0.001, 'kernel': 'sigmoid'}\n",
      "0.963 (+/-0.036) for {'C': 100, 'gamma': 0.0001, 'kernel': 'rbf'}\n",
      "0.949 (+/-0.038) for {'C': 100, 'gamma': 0.0001, 'kernel': 'linear'}\n",
      "0.971 (+/-0.035) for {'C': 100, 'gamma': 0.0001, 'kernel': 'poly'}\n",
      "0.942 (+/-0.043) for {'C': 100, 'gamma': 0.0001, 'kernel': 'sigmoid'}\n",
      "0.958 (+/-0.035) for {'C': 100, 'gamma': 1e-05, 'kernel': 'rbf'}\n",
      "0.949 (+/-0.038) for {'C': 100, 'gamma': 1e-05, 'kernel': 'linear'}\n",
      "0.136 (+/-0.129) for {'C': 100, 'gamma': 1e-05, 'kernel': 'poly'}\n",
      "0.952 (+/-0.049) for {'C': 100, 'gamma': 1e-05, 'kernel': 'sigmoid'}\n",
      "0.706 (+/-0.102) for {'C': 1000, 'gamma': 0.01, 'kernel': 'rbf'}\n",
      "0.949 (+/-0.038) for {'C': 1000, 'gamma': 0.01, 'kernel': 'linear'}\n",
      "0.970 (+/-0.036) for {'C': 1000, 'gamma': 0.01, 'kernel': 'poly'}\n",
      "0.105 (+/-0.015) for {'C': 1000, 'gamma': 0.01, 'kernel': 'sigmoid'}\n",
      "0.973 (+/-0.028) for {'C': 1000, 'gamma': 0.001, 'kernel': 'rbf'}\n",
      "0.949 (+/-0.038) for {'C': 1000, 'gamma': 0.001, 'kernel': 'linear'}\n",
      "0.970 (+/-0.036) for {'C': 1000, 'gamma': 0.001, 'kernel': 'poly'}\n",
      "0.510 (+/-0.072) for {'C': 1000, 'gamma': 0.001, 'kernel': 'sigmoid'}\n",
      "0.963 (+/-0.036) for {'C': 1000, 'gamma': 0.0001, 'kernel': 'rbf'}\n",
      "0.949 (+/-0.038) for {'C': 1000, 'gamma': 0.0001, 'kernel': 'linear'}\n",
      "0.970 (+/-0.036) for {'C': 1000, 'gamma': 0.0001, 'kernel': 'poly'}\n",
      "0.938 (+/-0.048) for {'C': 1000, 'gamma': 0.0001, 'kernel': 'sigmoid'}\n",
      "0.950 (+/-0.036) for {'C': 1000, 'gamma': 1e-05, 'kernel': 'rbf'}\n",
      "0.949 (+/-0.038) for {'C': 1000, 'gamma': 1e-05, 'kernel': 'linear'}\n",
      "0.902 (+/-0.040) for {'C': 1000, 'gamma': 1e-05, 'kernel': 'poly'}\n",
      "0.951 (+/-0.041) for {'C': 1000, 'gamma': 1e-05, 'kernel': 'sigmoid'}\n"
     ]
    }
   ],
   "source": [
    "digits = datasets.load_digits()\n",
    "x,y = digits.images, digits.target\n",
    "x = x.reshape((x.shape[0],-1))\n",
    "\n",
    "from sklearn.model_selection import GridSearchCV\n",
    "tuned_parameters={'kernel':['rbf','linear','poly','sigmoid'],\n",
    "                  'gamma':[1e-2,1e-3,1e-4,1e-5],\n",
    "                  'C':[1e-2,1e-1,1,10,100,1000]}\n",
    "print(\"# Tuning hyper-parameters for %s\" % score)\n",
    "clf = GridSearchCV(SVC(), tuned_parameters, cv=5,\n",
    "                   scoring='accuracy')\n",
    "clf.fit(x, y)\n",
    "print(clf.best_params_)\n",
    "print(\"Grid scores on development set:\")\n",
    "means = clf.cv_results_['mean_test_score']\n",
    "stds = clf.cv_results_['std_test_score']\n",
    "for mean, std, params in zip(means, stds, clf.cv_results_['params']):\n",
    "    print(\"%0.3f (+/-%0.03f) for %r\"\n",
    "          % (mean, std * 2, params))"
   ]
  },
  {
   "cell_type": "code",
   "execution_count": null,
   "metadata": {
    "collapsed": true
   },
   "outputs": [],
   "source": []
  }
 ],
 "metadata": {
  "kernelspec": {
   "display_name": "Python 3",
   "language": "python",
   "name": "python3"
  },
  "language_info": {
   "codemirror_mode": {
    "name": "ipython",
    "version": 3
   },
   "file_extension": ".py",
   "mimetype": "text/x-python",
   "name": "python",
   "nbconvert_exporter": "python",
   "pygments_lexer": "ipython3",
   "version": "3.6.1"
  }
 },
 "nbformat": 4,
 "nbformat_minor": 2
}
