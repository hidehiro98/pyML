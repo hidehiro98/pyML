{
 "cells": [
  {
   "cell_type": "code",
   "execution_count": 1,
   "metadata": {
    "collapsed": true
   },
   "outputs": [],
   "source": [
    "from sklearn.datasets import load_boston\n",
    "boston = load_boston()\n",
    "\n",
    "X = boston.data\n",
    "y = boston.target\n",
    "feature_names = boston.feature_names"
   ]
  },
  {
   "cell_type": "code",
   "execution_count": 2,
   "metadata": {
    "collapsed": true
   },
   "outputs": [],
   "source": [
    "import numpy as np\n",
    "\n",
    "w = np.dot(np.linalg.inv(np.dot(X.T, X)), np.dot(X.T, y))"
   ]
  },
  {
   "cell_type": "code",
   "execution_count": 3,
   "metadata": {
    "collapsed": true
   },
   "outputs": [],
   "source": [
    "# MSE\n",
    "y_hat = X.dot(w)\n",
    "\n",
    "# MSEはsigma^2の推定値として使うことができる\n",
    "MSE = ((y - y_hat).T).dot(y - y_hat) / len(y)"
   ]
  },
  {
   "cell_type": "code",
   "execution_count": 4,
   "metadata": {},
   "outputs": [
    {
     "data": {
      "text/plain": [
       "84.419556156165555"
      ]
     },
     "execution_count": 4,
     "metadata": {},
     "output_type": "execute_result"
    }
   ],
   "source": [
    "y.var()"
   ]
  },
  {
   "cell_type": "code",
   "execution_count": 5,
   "metadata": {},
   "outputs": [
    {
     "data": {
      "text/plain": [
       "0.71366390210414465"
      ]
     },
     "execution_count": 5,
     "metadata": {},
     "output_type": "execute_result"
    }
   ],
   "source": [
    "1 - MSE / y.var()"
   ]
  },
  {
   "cell_type": "code",
   "execution_count": 6,
   "metadata": {},
   "outputs": [
    {
     "data": {
      "text/plain": [
       "array(['CRIM', 'ZN', 'INDUS', 'CHAS', 'NOX', 'RM', 'AGE', 'DIS', 'RAD',\n",
       "       'TAX', 'PTRATIO', 'B', 'LSTAT'],\n",
       "      dtype='<U7')"
      ]
     },
     "execution_count": 6,
     "metadata": {},
     "output_type": "execute_result"
    }
   ],
   "source": [
    "feature_names"
   ]
  },
  {
   "cell_type": "code",
   "execution_count": null,
   "metadata": {
    "collapsed": true
   },
   "outputs": [],
   "source": []
  },
  {
   "cell_type": "code",
   "execution_count": 11,
   "metadata": {},
   "outputs": [
    {
     "name": "stdout",
     "output_type": "stream",
     "text": [
      "[[  65.2]\n",
      " [  78.9]\n",
      " [  61.1]\n",
      " [  45.8]\n",
      " [  54.2]\n",
      " [  58.7]\n",
      " [  66.6]\n",
      " [  96.1]\n",
      " [ 100. ]\n",
      " [  85.9]\n",
      " [  94.3]\n",
      " [  82.9]\n",
      " [  39. ]\n",
      " [  61.8]\n",
      " [  84.5]\n",
      " [  56.5]\n",
      " [  29.3]\n",
      " [  81.7]\n",
      " [  36.6]\n",
      " [  69.5]\n",
      " [  98.1]\n",
      " [  89.2]\n",
      " [  91.7]\n",
      " [ 100. ]\n",
      " [  94.1]\n",
      " [  85.7]\n",
      " [  90.3]\n",
      " [  88.8]\n",
      " [  94.4]\n",
      " [  87.3]\n",
      " [  94.1]\n",
      " [ 100. ]\n",
      " [  82. ]\n",
      " [  95. ]\n",
      " [  96.9]\n",
      " [  68.2]\n",
      " [  61.4]\n",
      " [  41.5]\n",
      " [  30.2]\n",
      " [  21.8]\n",
      " [  15.8]\n",
      " [   2.9]\n",
      " [   6.6]\n",
      " [   6.5]\n",
      " [  40. ]\n",
      " [  33.8]\n",
      " [  33.3]\n",
      " [  85.5]\n",
      " [  95.3]\n",
      " [  62. ]\n",
      " [  45.7]\n",
      " [  63. ]\n",
      " [  21.1]\n",
      " [  21.4]\n",
      " [  47.6]\n",
      " [  21.9]\n",
      " [  35.7]\n",
      " [  40.5]\n",
      " [  29.2]\n",
      " [  47.2]\n",
      " [  66.2]\n",
      " [  93.4]\n",
      " [  67.8]\n",
      " [  43.4]\n",
      " [  59.5]\n",
      " [  17.8]\n",
      " [  31.1]\n",
      " [  21.4]\n",
      " [  36.8]\n",
      " [  33. ]\n",
      " [   6.6]\n",
      " [  17.5]\n",
      " [   7.8]\n",
      " [   6.2]\n",
      " [   6. ]\n",
      " [  45. ]\n",
      " [  74.5]\n",
      " [  45.8]\n",
      " [  53.7]\n",
      " [  36.6]\n",
      " [  33.5]\n",
      " [  70.4]\n",
      " [  32.2]\n",
      " [  46.7]\n",
      " [  48. ]\n",
      " [  56.1]\n",
      " [  45.1]\n",
      " [  56.8]\n",
      " [  86.3]\n",
      " [  63.1]\n",
      " [  66.1]\n",
      " [  73.9]\n",
      " [  53.6]\n",
      " [  28.9]\n",
      " [  77.3]\n",
      " [  57.8]\n",
      " [  69.6]\n",
      " [  76. ]\n",
      " [  36.9]\n",
      " [  62.5]\n",
      " [  79.9]\n",
      " [  71.3]\n",
      " [  85.4]\n",
      " [  87.4]\n",
      " [  90. ]\n",
      " [  96.7]\n",
      " [  91.9]\n",
      " [  85.2]\n",
      " [  97.1]\n",
      " [  91.2]\n",
      " [  54.4]\n",
      " [  81.6]\n",
      " [  92.9]\n",
      " [  95.4]\n",
      " [  84.2]\n",
      " [  88.2]\n",
      " [  72.5]\n",
      " [  82.6]\n",
      " [  73.1]\n",
      " [  65.2]\n",
      " [  69.7]\n",
      " [  84.1]\n",
      " [  92.9]\n",
      " [  97. ]\n",
      " [  95.8]\n",
      " [  88.4]\n",
      " [  95.6]\n",
      " [  96. ]\n",
      " [  98.8]\n",
      " [  94.7]\n",
      " [  98.9]\n",
      " [  97.7]\n",
      " [  97.9]\n",
      " [  95.4]\n",
      " [  98.4]\n",
      " [  98.2]\n",
      " [  93.5]\n",
      " [  98.4]\n",
      " [  98.2]\n",
      " [  97.9]\n",
      " [  93.6]\n",
      " [ 100. ]\n",
      " [ 100. ]\n",
      " [ 100. ]\n",
      " [  97.8]\n",
      " [ 100. ]\n",
      " [ 100. ]\n",
      " [  95.7]\n",
      " [  93.8]\n",
      " [  94.9]\n",
      " [  97.3]\n",
      " [ 100. ]\n",
      " [  88. ]\n",
      " [  98.5]\n",
      " [  96. ]\n",
      " [  82.6]\n",
      " [  94. ]\n",
      " [  97.4]\n",
      " [ 100. ]\n",
      " [ 100. ]\n",
      " [  92.6]\n",
      " [  90.8]\n",
      " [  98.2]\n",
      " [  93.9]\n",
      " [  91.8]\n",
      " [  93. ]\n",
      " [  96.2]\n",
      " [  79.2]\n",
      " [  96.1]\n",
      " [  95.2]\n",
      " [  94.6]\n",
      " [  97.3]\n",
      " [  88.5]\n",
      " [  84.1]\n",
      " [  68.7]\n",
      " [  33.1]\n",
      " [  47.2]\n",
      " [  73.4]\n",
      " [  74.4]\n",
      " [  58.4]\n",
      " [  83.3]\n",
      " [  62.2]\n",
      " [  92.2]\n",
      " [  95.6]\n",
      " [  89.8]\n",
      " [  68.8]\n",
      " [  53.6]\n",
      " [  41.1]\n",
      " [  29.1]\n",
      " [  38.9]\n",
      " [  21.5]\n",
      " [  30.8]\n",
      " [  26.3]\n",
      " [   9.9]\n",
      " [  18.8]\n",
      " [  32. ]\n",
      " [  34.1]\n",
      " [  36.6]\n",
      " [  38.3]\n",
      " [  15.3]\n",
      " [  13.9]\n",
      " [  38.4]\n",
      " [  15.7]\n",
      " [  33.2]\n",
      " [  31.9]\n",
      " [  22.3]\n",
      " [  52.5]\n",
      " [  72.7]\n",
      " [  59.1]\n",
      " [ 100. ]\n",
      " [  92.1]\n",
      " [  88.6]\n",
      " [  53.8]\n",
      " [  32.3]\n",
      " [   9.8]\n",
      " [  42.4]\n",
      " [  56. ]\n",
      " [  85.1]\n",
      " [  93.8]\n",
      " [  92.4]\n",
      " [  88.5]\n",
      " [  91.3]\n",
      " [  77.7]\n",
      " [  80.8]\n",
      " [  78.3]\n",
      " [  83. ]\n",
      " [  86.5]\n",
      " [  79.9]\n",
      " [  17. ]\n",
      " [  21.4]\n",
      " [  68.1]\n",
      " [  76.9]\n",
      " [  73.3]\n",
      " [  70.4]\n",
      " [  66.5]\n",
      " [  61.5]\n",
      " [  76.5]\n",
      " [  71.6]\n",
      " [  18.5]\n",
      " [  42.2]\n",
      " [  54.3]\n",
      " [  65.1]\n",
      " [  52.9]\n",
      " [   7.8]\n",
      " [  76.5]\n",
      " [  70.2]\n",
      " [  34.9]\n",
      " [  79.2]\n",
      " [  49.1]\n",
      " [  17.5]\n",
      " [  13. ]\n",
      " [   8.9]\n",
      " [   6.8]\n",
      " [   8.4]\n",
      " [  32. ]\n",
      " [  19.1]\n",
      " [  34.2]\n",
      " [  86.9]\n",
      " [ 100. ]\n",
      " [ 100. ]\n",
      " [  81.8]\n",
      " [  89.4]\n",
      " [  91.5]\n",
      " [  94.5]\n",
      " [  91.6]\n",
      " [  62.8]\n",
      " [  84.6]\n",
      " [  67. ]\n",
      " [  52.6]\n",
      " [  61.5]\n",
      " [  42.1]\n",
      " [  16.3]\n",
      " [  58.7]\n",
      " [  51.8]\n",
      " [  32.9]\n",
      " [  42.8]\n",
      " [  49. ]\n",
      " [  27.6]\n",
      " [  32.1]\n",
      " [  32.2]\n",
      " [  64.5]\n",
      " [  37.2]\n",
      " [  49.7]\n",
      " [  24.8]\n",
      " [  20.8]\n",
      " [  31.9]\n",
      " [  31.5]\n",
      " [  31.3]\n",
      " [  45.6]\n",
      " [  22.9]\n",
      " [  27.9]\n",
      " [  27.7]\n",
      " [  23.4]\n",
      " [  18.4]\n",
      " [  42.3]\n",
      " [  31.1]\n",
      " [  51. ]\n",
      " [  58. ]\n",
      " [  20.1]\n",
      " [  10. ]\n",
      " [  47.4]\n",
      " [  40.4]\n",
      " [  18.4]\n",
      " [  17.7]\n",
      " [  41.1]\n",
      " [  58.1]\n",
      " [  71.9]\n",
      " [  70.3]\n",
      " [  82.5]\n",
      " [  76.7]\n",
      " [  37.8]\n",
      " [  52.8]\n",
      " [  90.4]\n",
      " [  82.8]\n",
      " [  87.3]\n",
      " [  77.7]\n",
      " [  83.2]\n",
      " [  71.7]\n",
      " [  67.2]\n",
      " [  58.8]\n",
      " [  52.3]\n",
      " [  54.3]\n",
      " [  49.9]\n",
      " [  74.3]\n",
      " [  40.1]\n",
      " [  14.7]\n",
      " [  28.9]\n",
      " [  43.7]\n",
      " [  25.8]\n",
      " [  17.2]\n",
      " [  32.2]\n",
      " [  28.4]\n",
      " [  23.3]\n",
      " [  38.1]\n",
      " [  38.5]\n",
      " [  34.5]\n",
      " [  46.3]\n",
      " [  59.6]\n",
      " [  37.3]\n",
      " [  45.4]\n",
      " [  58.5]\n",
      " [  49.3]\n",
      " [  59.7]\n",
      " [  56.4]\n",
      " [  28.1]\n",
      " [  48.5]\n",
      " [  52.3]\n",
      " [  27.7]\n",
      " [  29.7]\n",
      " [  34.5]\n",
      " [  44.4]\n",
      " [  35.9]\n",
      " [  18.5]\n",
      " [  36.1]\n",
      " [  21.9]\n",
      " [  19.5]\n",
      " [  97.4]\n",
      " [  91. ]\n",
      " [  83.4]\n",
      " [  81.3]\n",
      " [  88. ]\n",
      " [  91.1]\n",
      " [  96.2]\n",
      " [  89. ]\n",
      " [  82.9]\n",
      " [  87.9]\n",
      " [  91.4]\n",
      " [ 100. ]\n",
      " [ 100. ]\n",
      " [  96.8]\n",
      " [  97.5]\n",
      " [ 100. ]\n",
      " [  89.6]\n",
      " [ 100. ]\n",
      " [ 100. ]\n",
      " [  97.9]\n",
      " [  93.3]\n",
      " [  98.8]\n",
      " [  96.2]\n",
      " [ 100. ]\n",
      " [  91.9]\n",
      " [  99.1]\n",
      " [ 100. ]\n",
      " [ 100. ]\n",
      " [  91.2]\n",
      " [  98.1]\n",
      " [ 100. ]\n",
      " [  89.5]\n",
      " [ 100. ]\n",
      " [  98.9]\n",
      " [  97. ]\n",
      " [  82.5]\n",
      " [  97. ]\n",
      " [  92.6]\n",
      " [  94.7]\n",
      " [  98.8]\n",
      " [  96. ]\n",
      " [  98.9]\n",
      " [ 100. ]\n",
      " [  77.8]\n",
      " [ 100. ]\n",
      " [ 100. ]\n",
      " [ 100. ]\n",
      " [  96. ]\n",
      " [  85.4]\n",
      " [ 100. ]\n",
      " [ 100. ]\n",
      " [ 100. ]\n",
      " [  97.9]\n",
      " [ 100. ]\n",
      " [ 100. ]\n",
      " [ 100. ]\n",
      " [ 100. ]\n",
      " [ 100. ]\n",
      " [ 100. ]\n",
      " [ 100. ]\n",
      " [  90.8]\n",
      " [  89.1]\n",
      " [ 100. ]\n",
      " [  76.5]\n",
      " [ 100. ]\n",
      " [  95.3]\n",
      " [  87.6]\n",
      " [  85.1]\n",
      " [  70.6]\n",
      " [  95.4]\n",
      " [  59.7]\n",
      " [  78.7]\n",
      " [  78.1]\n",
      " [  95.6]\n",
      " [  86.1]\n",
      " [  94.3]\n",
      " [  74.8]\n",
      " [  87.9]\n",
      " [  95. ]\n",
      " [  94.6]\n",
      " [  93.3]\n",
      " [ 100. ]\n",
      " [  87.9]\n",
      " [  93.9]\n",
      " [  92.4]\n",
      " [  97.2]\n",
      " [ 100. ]\n",
      " [ 100. ]\n",
      " [  96.6]\n",
      " [  94.8]\n",
      " [  96.4]\n",
      " [  96.6]\n",
      " [  98.7]\n",
      " [  98.3]\n",
      " [  92.6]\n",
      " [  98.2]\n",
      " [  91.8]\n",
      " [  99.3]\n",
      " [  94.1]\n",
      " [  86.5]\n",
      " [  87.9]\n",
      " [  80.3]\n",
      " [  83.7]\n",
      " [  84.4]\n",
      " [  90. ]\n",
      " [  88.4]\n",
      " [  83. ]\n",
      " [  89.9]\n",
      " [  65.4]\n",
      " [  48.2]\n",
      " [  84.7]\n",
      " [  94.5]\n",
      " [  71. ]\n",
      " [  56.7]\n",
      " [  84. ]\n",
      " [  90.7]\n",
      " [  75. ]\n",
      " [  67.6]\n",
      " [  95.4]\n",
      " [  97.4]\n",
      " [  93.6]\n",
      " [  97.3]\n",
      " [  96.7]\n",
      " [  88. ]\n",
      " [  64.7]\n",
      " [  74.9]\n",
      " [  77. ]\n",
      " [  40.3]\n",
      " [  41.9]\n",
      " [  51.9]\n",
      " [  79.8]\n",
      " [  53.2]\n",
      " [  92.7]\n",
      " [  98.3]\n",
      " [  98. ]\n",
      " [  98.8]\n",
      " [  83.5]\n",
      " [  54. ]\n",
      " [  42.6]\n",
      " [  28.8]\n",
      " [  72.9]\n",
      " [  70.6]\n",
      " [  65.3]\n",
      " [  73.5]\n",
      " [  79.7]\n",
      " [  69.1]\n",
      " [  76.7]\n",
      " [  91. ]\n",
      " [  89.3]\n",
      " [  80.8]] [ 24.   21.6  34.7  33.4  36.2  28.7  22.9  27.1  16.5  18.9  15.   18.9\n",
      "  21.7  20.4  18.2  19.9  23.1  17.5  20.2  18.2  13.6  19.6  15.2  14.5\n",
      "  15.6  13.9  16.6  14.8  18.4  21.   12.7  14.5  13.2  13.1  13.5  18.9\n",
      "  20.   21.   24.7  30.8  34.9  26.6  25.3  24.7  21.2  19.3  20.   16.6\n",
      "  14.4  19.4  19.7  20.5  25.   23.4  18.9  35.4  24.7  31.6  23.3  19.6\n",
      "  18.7  16.   22.2  25.   33.   23.5  19.4  22.   17.4  20.9  24.2  21.7\n",
      "  22.8  23.4  24.1  21.4  20.   20.8  21.2  20.3  28.   23.9  24.8  22.9\n",
      "  23.9  26.6  22.5  22.2  23.6  28.7  22.6  22.   22.9  25.   20.6  28.4\n",
      "  21.4  38.7  43.8  33.2  27.5  26.5  18.6  19.3  20.1  19.5  19.5  20.4\n",
      "  19.8  19.4  21.7  22.8  18.8  18.7  18.5  18.3  21.2  19.2  20.4  19.3\n",
      "  22.   20.3  20.5  17.3  18.8  21.4  15.7  16.2  18.   14.3  19.2  19.6\n",
      "  23.   18.4  15.6  18.1  17.4  17.1  13.3  17.8  14.   14.4  13.4  15.6\n",
      "  11.8  13.8  15.6  14.6  17.8  15.4  21.5  19.6  15.3  19.4  17.   15.6\n",
      "  13.1  41.3  24.3  23.3  27.   50.   50.   50.   22.7  25.   50.   23.8\n",
      "  23.8  22.3  17.4  19.1  23.1  23.6  22.6  29.4  23.2  24.6  29.9  37.2\n",
      "  39.8  36.2  37.9  32.5  26.4  29.6  50.   32.   29.8  34.9  37.   30.5\n",
      "  36.4  31.1  29.1  50.   33.3  30.3  34.6  34.9  32.9  24.1  42.3  48.5\n",
      "  50.   22.6  24.4  22.5  24.4  20.   21.7  19.3  22.4  28.1  23.7  25.\n",
      "  23.3  28.7  21.5  23.   26.7  21.7  27.5  30.1  44.8  50.   37.6  31.6\n",
      "  46.7  31.5  24.3  31.7  41.7  48.3  29.   24.   25.1  31.5  23.7  23.3\n",
      "  22.   20.1  22.2  23.7  17.6  18.5  24.3  20.5  24.5  26.2  24.4  24.8\n",
      "  29.6  42.8  21.9  20.9  44.   50.   36.   30.1  33.8  43.1  48.8  31.\n",
      "  36.5  22.8  30.7  50.   43.5  20.7  21.1  25.2  24.4  35.2  32.4  32.\n",
      "  33.2  33.1  29.1  35.1  45.4  35.4  46.   50.   32.2  22.   20.1  23.2\n",
      "  22.3  24.8  28.5  37.3  27.9  23.9  21.7  28.6  27.1  20.3  22.5  29.\n",
      "  24.8  22.   26.4  33.1  36.1  28.4  33.4  28.2  22.8  20.3  16.1  22.1\n",
      "  19.4  21.6  23.8  16.2  17.8  19.8  23.1  21.   23.8  23.1  20.4  18.5\n",
      "  25.   24.6  23.   22.2  19.3  22.6  19.8  17.1  19.4  22.2  20.7  21.1\n",
      "  19.5  18.5  20.6  19.   18.7  32.7  16.5  23.9  31.2  17.5  17.2  23.1\n",
      "  24.5  26.6  22.9  24.1  18.6  30.1  18.2  20.6  17.8  21.7  22.7  22.6\n",
      "  25.   19.9  20.8  16.8  21.9  27.5  21.9  23.1  50.   50.   50.   50.\n",
      "  50.   13.8  13.8  15.   13.9  13.3  13.1  10.2  10.4  10.9  11.3  12.3\n",
      "   8.8   7.2  10.5   7.4  10.2  11.5  15.1  23.2   9.7  13.8  12.7  13.1\n",
      "  12.5   8.5   5.    6.3   5.6   7.2  12.1   8.3   8.5   5.   11.9  27.9\n",
      "  17.2  27.5  15.   17.2  17.9  16.3   7.    7.2   7.5  10.4   8.8   8.4\n",
      "  16.7  14.2  20.8  13.4  11.7   8.3  10.2  10.9  11.    9.5  14.5  14.1\n",
      "  16.1  14.3  11.7  13.4   9.6   8.7   8.4  12.8  10.5  17.1  18.4  15.4\n",
      "  10.8  11.8  14.9  12.6  14.1  13.   13.4  15.2  16.1  17.8  14.9  14.1\n",
      "  12.7  13.5  14.9  20.   16.4  17.7  19.5  20.2  21.4  19.9  19.   19.1\n",
      "  19.1  20.1  19.9  19.6  23.2  29.8  13.8  13.3  16.7  12.   14.6  21.4\n",
      "  23.   23.7  25.   21.8  20.6  21.2  19.1  20.6  15.2   7.    8.1  13.6\n",
      "  20.1  21.8  24.5  23.1  19.7  18.3  21.2  17.5  16.8  22.4  20.6  23.9\n",
      "  22.   11.9]\n"
     ]
    }
   ],
   "source": [
    "print(X_rm.reshape(-1, 1), y)"
   ]
  },
  {
   "cell_type": "markdown",
   "metadata": {},
   "source": [
    "## 部屋数で単回帰"
   ]
  },
  {
   "cell_type": "code",
   "execution_count": 29,
   "metadata": {},
   "outputs": [
    {
     "name": "stdout",
     "output_type": "stream",
     "text": [
      "[ 9.10210898] -34.6706207764\n"
     ]
    }
   ],
   "source": [
    "# X_rm = X[:,5].reshape(-1, 1)\n",
    "X_rm = X[:,5][:,None]\n",
    "from sklearn.linear_model import LinearRegression\n",
    "slr_rm = LinearRegression()\n",
    "slr_rm.fit(X_rm, y)\n",
    "print(slr_rm.coef_, slr_rm.intercept_)"
   ]
  },
  {
   "cell_type": "code",
   "execution_count": 25,
   "metadata": {},
   "outputs": [
    {
     "name": "stdout",
     "output_type": "stream",
     "text": [
      "43.6005517712\n",
      "0.483525455991\n"
     ]
    }
   ],
   "source": [
    "from sklearn.metrics import r2_score, mean_squared_error\n",
    "print(mean_squared_error(y, slr_rm.predict(X_rm)))\n",
    "print(r2_score(y, slr_rm.predict(X_rm)))"
   ]
  },
  {
   "cell_type": "code",
   "execution_count": 26,
   "metadata": {},
   "outputs": [
    {
     "data": {
      "image/png": "[encoded data removed]",
      "text/plain": [
       "<matplotlib.figure.Figure at 0x1a139284a8>"
      ]
     },
     "metadata": {
      "image/png": {
       "height": 250,
       "width": 370
      }
     },
     "output_type": "display_data"
    }
   ],
   "source": [
    "import matplotlib.pyplot as plt\n",
    "%matplotlib inline\n",
    "%config InlineBackend.figure_format = 'retina'\n",
    "\n",
    "def lin_regplot(X, y, model):\n",
    "    plt.scatter(X, y, c='lightblue')\n",
    "    plt.plot(X, model.predict(X), color='red', linewidth=2)\n",
    "    return\n",
    "lin_regplot(X_rm, y, slr_rm)"
   ]
  },
  {
   "cell_type": "markdown",
   "metadata": {},
   "source": [
    "## 犯罪発生率 (crim) で単回帰"
   ]
  },
  {
   "cell_type": "code",
   "execution_count": 28,
   "metadata": {},
   "outputs": [
    {
     "name": "stdout",
     "output_type": "stream",
     "text": [
      "[-0.41277468] 24.0162197635\n"
     ]
    }
   ],
   "source": [
    "X_crim = X[:,0][:,None]\n",
    "from sklearn.linear_model import LinearRegression\n",
    "slr_crim = LinearRegression()\n",
    "slr_crim.fit(X_rm, y)\n",
    "print(slr_crim.coef_, slr_crim.intercept_)"
   ]
  },
  {
   "cell_type": "code",
   "execution_count": 30,
   "metadata": {},
   "outputs": [
    {
     "data": {
      "image/png": "[encoded data removed]",
      "text/plain": [
       "<matplotlib.figure.Figure at 0x1a1476d748>"
      ]
     },
     "metadata": {
      "image/png": {
       "height": 250,
       "width": 379
      }
     },
     "output_type": "display_data"
    }
   ],
   "source": [
    "lin_regplot(X_crim, y, slr_crim)"
   ]
  },
  {
   "cell_type": "markdown",
   "metadata": {},
   "source": [
    "↑この外れ値はそもそも全ての値で分析する必要があるのかという感じなので、RANSACなどを使い外す事を考える"
   ]
  },
  {
   "cell_type": "code",
   "execution_count": 33,
   "metadata": {},
   "outputs": [
    {
     "name": "stdout",
     "output_type": "stream",
     "text": [
      "71.8523466653\n",
      "0.148866092919\n"
     ]
    }
   ],
   "source": [
    "print(mean_squared_error(y, slr_crim.predict(X_crim)))\n",
    "print(r2_score(y, slr_crim.predict(X_crim)))"
   ]
  },
  {
   "cell_type": "code",
   "execution_count": 35,
   "metadata": {},
   "outputs": [],
   "source": [
    "from sklearn.model_selection import train_test_split\n",
    "X_rm_train, X_rm_test, y_train, y_test = train_test_split(X_rm, y, test_size=0.3, random_state=0)"
   ]
  },
  {
   "cell_type": "code",
   "execution_count": 36,
   "metadata": {
    "collapsed": true
   },
   "outputs": [],
   "source": [
    "# ho is hold out (one time splitting them to testing and training data)\n",
    "slr_rm_ho = LinearRegression()\n",
    "slr_rm_ho.fit(X_rm_train, y_train)\n",
    "y_train_pred = slr_rm_ho.predict(X_rm_train)\n",
    "y_test_pred = slr_rm_ho.predict(X_rm_test)"
   ]
  },
  {
   "cell_type": "code",
   "execution_count": 41,
   "metadata": {},
   "outputs": [
    {
     "name": "stdout",
     "output_type": "stream",
     "text": [
      "42.1576508631\n",
      "47.0330474798\n",
      "0.502649763004\n",
      "0.435143648321\n"
     ]
    }
   ],
   "source": [
    "print(mean_squared_error(y_train, y_train_pred))\n",
    "print(mean_squared_error(y_test, y_test_pred))\n",
    "print(r2_score(y_train, y_train_pred))\n",
    "print(r2_score(y_test, y_test_pred))"
   ]
  },
  {
   "cell_type": "code",
   "execution_count": 42,
   "metadata": {},
   "outputs": [
    {
     "data": {
      "text/plain": [
       "<matplotlib.legend.Legend at 0x1a14211b70>"
      ]
     },
     "execution_count": 42,
     "metadata": {},
     "output_type": "execute_result"
    },
    {
     "data": {
      "image/png": "[encoded data removed]",
      "text/plain": [
       "<matplotlib.figure.Figure at 0x1a149e3be0>"
      ]
     },
     "metadata": {
      "image/png": {
       "height": 250,
       "width": 379
      }
     },
     "output_type": "display_data"
    }
   ],
   "source": [
    "# 教材では横軸は目的変数になっているが、単回帰なので説明変数に変えている、\n",
    "# →説明変数の値によって目的変数の分散が変わったりしていないかを確認するため\n",
    "plt.scatter(X_rm_train[:,0], y_train_pred - y_train, c='blue', marker='o', label='train')\n",
    "plt.scatter(X_rm_test[:,0], y_test_pred - y_test, c='red', marker='s', label='test')\n",
    "plt.legend()"
   ]
  },
  {
   "cell_type": "code",
   "execution_count": 43,
   "metadata": {},
   "outputs": [
    {
     "name": "stdout",
     "output_type": "stream",
     "text": [
      "0.740607742865\n"
     ]
    }
   ],
   "source": [
    "lr = LinearRegression()\n",
    "lr.fit(X, y)\n",
    "y_pred = lr.predict(X)\n",
    "print(r2_score(y, y_pred))"
   ]
  },
  {
   "cell_type": "code",
   "execution_count": 51,
   "metadata": {},
   "outputs": [
    {
     "name": "stdout",
     "output_type": "stream",
     "text": [
      "0.350741350933\n"
     ]
    }
   ],
   "source": [
    "from sklearn.model_selection import KFold\n",
    "kf = KFold(n_splits = 5)\n",
    "Rsq = []\n",
    "for train, test in kf.split(X):\n",
    "    lr = LinearRegression()\n",
    "    X_train, X_test, y_train, y_test = X[train], X[test], y[train], y[test]\n",
    "    lr.fit(X_train, y_train)\n",
    "    y_test_pred = lr.predict(X_test)\n",
    "    Rsq.append(r2_score(y_test, y_test_pred))\n",
    "print(sum(Rsq)/5)"
   ]
  },
  {
   "cell_type": "code",
   "execution_count": 48,
   "metadata": {},
   "outputs": [
    {
     "data": {
      "text/plain": [
       "[0.63861069352922895,\n",
       " 0.71334431715342506,\n",
       " 0.58645133625622958,\n",
       " 0.078424954678299241,\n",
       " -0.26312454695461795]"
      ]
     },
     "execution_count": 48,
     "metadata": {},
     "output_type": "execute_result"
    }
   ],
   "source": [
    "Rsq"
   ]
  },
  {
   "cell_type": "code",
   "execution_count": 52,
   "metadata": {},
   "outputs": [
    {
     "name": "stdout",
     "output_type": "stream",
     "text": [
      "-0.0295219199578\n"
     ]
    }
   ],
   "source": [
    "from sklearn.model_selection import KFold\n",
    "kf = KFold(n_splits = 5)\n",
    "Rsq = []\n",
    "for train, test in kf.split(X):\n",
    "    lr = LinearRegression()\n",
    "    X_train, X_test, y_train, y_test = X_rm[train], X_rm[test], y[train], y[test]\n",
    "    lr.fit(X_train, y_train)\n",
    "    y_test_pred = lr.predict(X_test)\n",
    "    Rsq.append(r2_score(y_test, y_test_pred))\n",
    "print(sum(Rsq)/5)"
   ]
  },
  {
   "cell_type": "code",
   "execution_count": 64,
   "metadata": {},
   "outputs": [
    {
     "name": "stdout",
     "output_type": "stream",
     "text": [
      "0.383594683192\n"
     ]
    }
   ],
   "source": [
    "from sklearn.model_selection import KFold\n",
    "kf = KFold(n_splits = 5)\n",
    "Rsq = []\n",
    "X1 = X[:, 1:] #犯罪係数を使わないようにする\n",
    "for train, test in kf.split(X):\n",
    "    lr = LinearRegression()\n",
    "    X_train, X_test, y_train, y_test = X1[train], X1[test], y[train], y[test]\n",
    "    lr.fit(X_train, y_train)\n",
    "    y_test_pred = lr.predict(X_test)\n",
    "    Rsq.append(r2_score(y_test, y_test_pred))\n",
    "print(sum(Rsq)/5)"
   ]
  },
  {
   "cell_type": "code",
   "execution_count": 68,
   "metadata": {},
   "outputs": [
    {
     "name": "stdout",
     "output_type": "stream",
     "text": [
      "0.367226037859\n"
     ]
    }
   ],
   "source": [
    "from sklearn.model_selection import KFold\n",
    "kf = KFold(n_splits = 5)\n",
    "Rsq = []\n",
    "X1 = X[:, [2,4,5,9,10,12]]\n",
    "for train, test in kf.split(X):\n",
    "    lr = LinearRegression()\n",
    "    X_train, X_test, y_train, y_test = X1[train], X1[test], y[train], y[test]\n",
    "    lr.fit(X_train, y_train)\n",
    "    y_test_pred = lr.predict(X_test)\n",
    "    Rsq.append(r2_score(y_test, y_test_pred))\n",
    "print(sum(Rsq)/5)"
   ]
  },
  {
   "cell_type": "code",
   "execution_count": 67,
   "metadata": {},
   "outputs": [
    {
     "data": {
      "text/plain": [
       "array([-0.38583169,  0.36044534, -0.48372516,  0.17526018, -0.42732077,\n",
       "        0.69535995, -0.37695457,  0.24992873, -0.38162623, -0.46853593,\n",
       "       -0.50778669,  0.33346082, -0.73766273,  1.        ])"
      ]
     },
     "execution_count": 67,
     "metadata": {},
     "output_type": "execute_result"
    }
   ],
   "source": [
    "import numpy as np\n",
    "\n",
    "np.corrcoef(X.T, y)[:, -1]"
   ]
  },
  {
   "cell_type": "code",
   "execution_count": null,
   "metadata": {
    "collapsed": true
   },
   "outputs": [],
   "source": []
  }
 ],
 "metadata": {
  "kernelspec": {
   "display_name": "Python [conda root]",
   "language": "python",
   "name": "conda-root-py"
  },
  "language_info": {
   "codemirror_mode": {
    "name": "ipython",
    "version": 3
   },
   "file_extension": ".py",
   "mimetype": "text/x-python",
   "name": "python",
   "nbconvert_exporter": "python",
   "pygments_lexer": "ipython3",
   "version": "3.6.2"
  }
 },
 "nbformat": 4,
 "nbformat_minor": 2
}
