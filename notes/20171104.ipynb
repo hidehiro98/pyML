{
 "cells": [
  {
   "cell_type": "code",
   "execution_count": 18,
   "metadata": {},
   "outputs": [
    {
     "name": "stdout",
     "output_type": "stream",
     "text": [
      "(1797, 8, 8)\n",
      "(1797,)\n",
      "{0: 178, 1: 182, 2: 177, 3: 183, 4: 181, 5: 182, 6: 181, 7: 179, 8: 174, 9: 180}\n",
      "(1797, 8, 8) (1797, 64)\n"
     ]
    }
   ],
   "source": [
    "%matplotlib inline\n",
    "from sklearn import datasets\n",
    "import matplotlib.pyplot as plt\n",
    "import numpy as np\n",
    "\n",
    "digits = datasets.load_digits()\n",
    "x, y = digits.images, digits.target\n",
    "print(x.shape)\n",
    "print(y.shape)\n",
    "print({i:len(y[y==i]) for i in range(10)})\n",
    "print(digits.images.shape, digits.data.shape)"
   ]
  },
  {
   "cell_type": "code",
   "execution_count": 19,
   "metadata": {},
   "outputs": [
    {
     "data": {
      "text/plain": [
       "array([[  0.,   5.,  12.,  13.,  16.,  16.,   2.,   0.],\n",
       "       [  0.,  11.,  16.,  15.,   8.,   4.,   0.,   0.],\n",
       "       [  0.,   8.,  14.,  11.,   1.,   0.,   0.,   0.],\n",
       "       [  0.,   8.,  16.,  16.,  14.,   0.,   0.,   0.],\n",
       "       [  0.,   1.,   6.,   6.,  16.,   0.,   0.,   0.],\n",
       "       [  0.,   0.,   0.,   5.,  16.,   3.,   0.,   0.],\n",
       "       [  0.,   1.,   5.,  15.,  13.,   0.,   0.,   0.],\n",
       "       [  0.,   4.,  15.,  16.,   2.,   0.,   0.,   0.]])"
      ]
     },
     "execution_count": 19,
     "metadata": {},
     "output_type": "execute_result"
    }
   ],
   "source": [
    "x[15]"
   ]
  },
  {
   "cell_type": "code",
   "execution_count": 20,
   "metadata": {},
   "outputs": [
    {
     "data": {
      "text/plain": [
       "5"
      ]
     },
     "execution_count": 20,
     "metadata": {},
     "output_type": "execute_result"
    }
   ],
   "source": [
    "y[5]"
   ]
  },
  {
   "cell_type": "code",
   "execution_count": 21,
   "metadata": {},
   "outputs": [
    {
     "data": {
      "image/png": "[encoded data removed]",
      "text/plain": [
       "<matplotlib.figure.Figure at 0x10d8fd940>"
      ]
     },
     "metadata": {},
     "output_type": "display_data"
    }
   ],
   "source": [
    "plt.imshow(x[15], cmap=plt.cm.gray_r)\n",
    "plt.show()"
   ]
  },
  {
   "cell_type": "code",
   "execution_count": 32,
   "metadata": {
    "collapsed": true
   },
   "outputs": [],
   "source": [
    "x = x.reshape((x.shape[0], -1))"
   ]
  },
  {
   "cell_type": "code",
   "execution_count": 23,
   "metadata": {},
   "outputs": [
    {
     "data": {
      "text/plain": [
       "(1797, 64)"
      ]
     },
     "execution_count": 23,
     "metadata": {},
     "output_type": "execute_result"
    }
   ],
   "source": [
    "x.shape"
   ]
  },
  {
   "cell_type": "code",
   "execution_count": 24,
   "metadata": {
    "collapsed": true
   },
   "outputs": [],
   "source": [
    "from sklearn.model_selection import train_test_split\n",
    "x_train, x_test, y_train, y_test = train_test_split(x, y, test_size=0.3)\n",
    "\n",
    "from sklearn.preprocessing import StandardScaler\n",
    "sc= StandardScaler()\n",
    "sc.fit(x_train)\n",
    "x_train_std = sc.transform(x_train)\n",
    "x_test_std = sc.transform(x_test)"
   ]
  },
  {
   "cell_type": "code",
   "execution_count": 25,
   "metadata": {},
   "outputs": [
    {
     "name": "stdout",
     "output_type": "stream",
     "text": [
      "誤サンプル数: 39\n",
      "正解率: 0.93\n"
     ]
    }
   ],
   "source": [
    "from sklearn.linear_model import Perceptron\n",
    "clf = Perceptron(max_iter=10, eta0=0.01, shuffle=True)\n",
    "clf.fit(x_train_std, y_train)\n",
    "\n",
    "y_pred = clf.predict(x_test_std)\n",
    "print(\"誤サンプル数: %d\" % (y_test != y_pred).sum())\n",
    "from sklearn.metrics import accuracy_score\n",
    "print(\"正解率: %.2f\" % accuracy_score(y_test, y_pred))"
   ]
  },
  {
   "cell_type": "code",
   "execution_count": 26,
   "metadata": {},
   "outputs": [
    {
     "name": "stdout",
     "output_type": "stream",
     "text": [
      "誤サンプル数: 12\n",
      "正解率: 0.98\n"
     ]
    }
   ],
   "source": [
    "from sklearn.svm import SVC\n",
    "clf = SVC(kernel = \"linear\")\n",
    "clf.fit(x_train_std, y_train)\n",
    "\n",
    "y_pred = clf.predict(x_test_std)\n",
    "print(\"誤サンプル数: %d\" % (y_test != y_pred).sum())\n",
    "from sklearn.metrics import accuracy_score\n",
    "print(\"正解率: %.2f\" % accuracy_score(y_test, y_pred))"
   ]
  },
  {
   "cell_type": "code",
   "execution_count": 27,
   "metadata": {},
   "outputs": [
    {
     "name": "stdout",
     "output_type": "stream",
     "text": [
      "[ 0.93513514  0.99453552  0.9281768   0.96111111  0.96089385  0.98882682\n",
      "  0.96648045  0.97752809  0.93220339  0.96590909]\n",
      "Accuracy: 0.96(+/- 0.04)\n"
     ]
    }
   ],
   "source": [
    "from sklearn.model_selection import cross_val_score\n",
    "clf = SVC(kernel=\"linear\", C=1)\n",
    "scores = cross_val_score(clf, x, y, scoring=\"accuracy\", cv=10)\n",
    "print(scores)\n",
    "print(\"Accuracy: %0.2F(+/- %0.2f)\" % (scores.mean(), scores.std()*2))"
   ]
  },
  {
   "cell_type": "code",
   "execution_count": 28,
   "metadata": {},
   "outputs": [
    {
     "name": "stdout",
     "output_type": "stream",
     "text": [
      "[ 0.48648649  0.61748634  0.4198895   0.47222222  0.51955307  0.49162011\n",
      "  0.54189944  0.60674157  0.58757062  0.46022727]\n",
      "Accuracy: 0.52(+/- 0.13)\n"
     ]
    }
   ],
   "source": [
    "# このaccuracyがなぜここまで低いのか\n",
    "from sklearn.model_selection import cross_val_score\n",
    "clf = SVC(kernel=\"rbf\", C=100)\n",
    "scores = cross_val_score(clf, x, y, scoring=\"accuracy\", cv=10)\n",
    "print(scores)\n",
    "print(\"Accuracy: %0.2F(+/- %0.2f)\" % (scores.mean(), scores.std()*2))"
   ]
  },
  {
   "cell_type": "code",
   "execution_count": 29,
   "metadata": {},
   "outputs": [
    {
     "name": "stdout",
     "output_type": "stream",
     "text": [
      "[[ 0.8291819   0.02759655]\n",
      " [ 0.48363054  0.75938303]\n",
      " [ 0.2359805   0.07701752]\n",
      " [ 0.22331284  0.14815104]\n",
      " [ 0.31841234  0.73622003]\n",
      " [ 0.71903492  0.12143238]\n",
      " [ 0.17754928  0.80171074]\n",
      " [ 0.74076317  0.84796379]\n",
      " [ 0.0805304   0.40346443]\n",
      " [ 0.342614    0.97305901]]\n",
      "[0 0 0 0 0 0 0 1 1 1]\n"
     ]
    }
   ],
   "source": [
    "x_sample = np.random.rand(10, 2)\n",
    "y_sample = np.array([0, 0, 0, 0, 0, 0, 0, 1, 1, 1])\n",
    "print(x_sample)\n",
    "print(y_sample)"
   ]
  },
  {
   "cell_type": "code",
   "execution_count": 30,
   "metadata": {},
   "outputs": [
    {
     "name": "stdout",
     "output_type": "stream",
     "text": [
      "[0.93513513513513513, 0.99453551912568305, 0.92817679558011046, 0.96111111111111114, 0.96089385474860334, 0.98882681564245811, 0.96648044692737434, 0.97752808988764039, 0.93220338983050843, 0.96590909090909094]\n",
      "Accuracy: 0.96(+/- 0.04)\n"
     ]
    }
   ],
   "source": [
    "from sklearn.model_selection import StratifiedKFold\n",
    "\n",
    "scores = []\n",
    "skf = StratifiedKFold(n_splits=10)\n",
    "\n",
    "for train,test in skf.split(x,y):\n",
    "    svm=SVC(kernel=\"linear\", C=1)\n",
    "    svm.fit(x[train], y[train])\n",
    "    scores.append(svm.score(x[test], y[test]))\n",
    "    \n",
    "print(scores)\n",
    "print(\"Accuracy: %0.2f(+/- %0.2f)\" % (np.array(scores).mean(), np.array(scores).std()*2))"
   ]
  },
  {
   "cell_type": "code",
   "execution_count": 67,
   "metadata": {
    "collapsed": true
   },
   "outputs": [],
   "source": [
    "?SVC"
   ]
  },
  {
   "cell_type": "code",
   "execution_count": 14,
   "metadata": {},
   "outputs": [
    {
     "name": "stdout",
     "output_type": "stream",
     "text": [
      "# Tuning hyper-parameters for precision\n"
     ]
    },
    {
     "name": "stderr",
     "output_type": "stream",
     "text": [
      "/Users/hidehiro/.pyenv/versions/3.6.2/lib/python3.6/site-packages/sklearn/metrics/classification.py:1135: UndefinedMetricWarning: Precision is ill-defined and being set to 0.0 in labels with no predicted samples.\n",
      "  'precision', 'predicted', average, warn_for)\n",
      "/Users/hidehiro/.pyenv/versions/3.6.2/lib/python3.6/site-packages/sklearn/metrics/classification.py:1135: UndefinedMetricWarning: Precision is ill-defined and being set to 0.0 in labels with no predicted samples.\n",
      "  'precision', 'predicted', average, warn_for)\n",
      "/Users/hidehiro/.pyenv/versions/3.6.2/lib/python3.6/site-packages/sklearn/metrics/classification.py:1135: UndefinedMetricWarning: Precision is ill-defined and being set to 0.0 in labels with no predicted samples.\n",
      "  'precision', 'predicted', average, warn_for)\n",
      "/Users/hidehiro/.pyenv/versions/3.6.2/lib/python3.6/site-packages/sklearn/metrics/classification.py:1135: UndefinedMetricWarning: Precision is ill-defined and being set to 0.0 in labels with no predicted samples.\n",
      "  'precision', 'predicted', average, warn_for)\n",
      "/Users/hidehiro/.pyenv/versions/3.6.2/lib/python3.6/site-packages/sklearn/metrics/classification.py:1135: UndefinedMetricWarning: Precision is ill-defined and being set to 0.0 in labels with no predicted samples.\n",
      "  'precision', 'predicted', average, warn_for)\n",
      "/Users/hidehiro/.pyenv/versions/3.6.2/lib/python3.6/site-packages/sklearn/metrics/classification.py:1135: UndefinedMetricWarning: Precision is ill-defined and being set to 0.0 in labels with no predicted samples.\n",
      "  'precision', 'predicted', average, warn_for)\n",
      "/Users/hidehiro/.pyenv/versions/3.6.2/lib/python3.6/site-packages/sklearn/metrics/classification.py:1135: UndefinedMetricWarning: Precision is ill-defined and being set to 0.0 in labels with no predicted samples.\n",
      "  'precision', 'predicted', average, warn_for)\n",
      "/Users/hidehiro/.pyenv/versions/3.6.2/lib/python3.6/site-packages/sklearn/metrics/classification.py:1135: UndefinedMetricWarning: Precision is ill-defined and being set to 0.0 in labels with no predicted samples.\n",
      "  'precision', 'predicted', average, warn_for)\n",
      "/Users/hidehiro/.pyenv/versions/3.6.2/lib/python3.6/site-packages/sklearn/metrics/classification.py:1135: UndefinedMetricWarning: Precision is ill-defined and being set to 0.0 in labels with no predicted samples.\n",
      "  'precision', 'predicted', average, warn_for)\n",
      "/Users/hidehiro/.pyenv/versions/3.6.2/lib/python3.6/site-packages/sklearn/metrics/classification.py:1135: UndefinedMetricWarning: Precision is ill-defined and being set to 0.0 in labels with no predicted samples.\n",
      "  'precision', 'predicted', average, warn_for)\n",
      "/Users/hidehiro/.pyenv/versions/3.6.2/lib/python3.6/site-packages/sklearn/metrics/classification.py:1135: UndefinedMetricWarning: Precision is ill-defined and being set to 0.0 in labels with no predicted samples.\n",
      "  'precision', 'predicted', average, warn_for)\n",
      "/Users/hidehiro/.pyenv/versions/3.6.2/lib/python3.6/site-packages/sklearn/metrics/classification.py:1135: UndefinedMetricWarning: Precision is ill-defined and being set to 0.0 in labels with no predicted samples.\n",
      "  'precision', 'predicted', average, warn_for)\n",
      "/Users/hidehiro/.pyenv/versions/3.6.2/lib/python3.6/site-packages/sklearn/metrics/classification.py:1135: UndefinedMetricWarning: Precision is ill-defined and being set to 0.0 in labels with no predicted samples.\n",
      "  'precision', 'predicted', average, warn_for)\n",
      "/Users/hidehiro/.pyenv/versions/3.6.2/lib/python3.6/site-packages/sklearn/metrics/classification.py:1135: UndefinedMetricWarning: Precision is ill-defined and being set to 0.0 in labels with no predicted samples.\n",
      "  'precision', 'predicted', average, warn_for)\n",
      "/Users/hidehiro/.pyenv/versions/3.6.2/lib/python3.6/site-packages/sklearn/metrics/classification.py:1135: UndefinedMetricWarning: Precision is ill-defined and being set to 0.0 in labels with no predicted samples.\n",
      "  'precision', 'predicted', average, warn_for)\n",
      "/Users/hidehiro/.pyenv/versions/3.6.2/lib/python3.6/site-packages/sklearn/metrics/classification.py:1135: UndefinedMetricWarning: Precision is ill-defined and being set to 0.0 in labels with no predicted samples.\n",
      "  'precision', 'predicted', average, warn_for)\n",
      "/Users/hidehiro/.pyenv/versions/3.6.2/lib/python3.6/site-packages/sklearn/metrics/classification.py:1135: UndefinedMetricWarning: Precision is ill-defined and being set to 0.0 in labels with no predicted samples.\n",
      "  'precision', 'predicted', average, warn_for)\n",
      "/Users/hidehiro/.pyenv/versions/3.6.2/lib/python3.6/site-packages/sklearn/metrics/classification.py:1135: UndefinedMetricWarning: Precision is ill-defined and being set to 0.0 in labels with no predicted samples.\n",
      "  'precision', 'predicted', average, warn_for)\n",
      "/Users/hidehiro/.pyenv/versions/3.6.2/lib/python3.6/site-packages/sklearn/metrics/classification.py:1135: UndefinedMetricWarning: Precision is ill-defined and being set to 0.0 in labels with no predicted samples.\n",
      "  'precision', 'predicted', average, warn_for)\n",
      "/Users/hidehiro/.pyenv/versions/3.6.2/lib/python3.6/site-packages/sklearn/metrics/classification.py:1135: UndefinedMetricWarning: Precision is ill-defined and being set to 0.0 in labels with no predicted samples.\n",
      "  'precision', 'predicted', average, warn_for)\n",
      "/Users/hidehiro/.pyenv/versions/3.6.2/lib/python3.6/site-packages/sklearn/metrics/classification.py:1135: UndefinedMetricWarning: Precision is ill-defined and being set to 0.0 in labels with no predicted samples.\n",
      "  'precision', 'predicted', average, warn_for)\n",
      "/Users/hidehiro/.pyenv/versions/3.6.2/lib/python3.6/site-packages/sklearn/metrics/classification.py:1135: UndefinedMetricWarning: Precision is ill-defined and being set to 0.0 in labels with no predicted samples.\n",
      "  'precision', 'predicted', average, warn_for)\n",
      "/Users/hidehiro/.pyenv/versions/3.6.2/lib/python3.6/site-packages/sklearn/metrics/classification.py:1135: UndefinedMetricWarning: Precision is ill-defined and being set to 0.0 in labels with no predicted samples.\n",
      "  'precision', 'predicted', average, warn_for)\n",
      "/Users/hidehiro/.pyenv/versions/3.6.2/lib/python3.6/site-packages/sklearn/metrics/classification.py:1135: UndefinedMetricWarning: Precision is ill-defined and being set to 0.0 in labels with no predicted samples.\n",
      "  'precision', 'predicted', average, warn_for)\n",
      "/Users/hidehiro/.pyenv/versions/3.6.2/lib/python3.6/site-packages/sklearn/metrics/classification.py:1135: UndefinedMetricWarning: Precision is ill-defined and being set to 0.0 in labels with no predicted samples.\n",
      "  'precision', 'predicted', average, warn_for)\n",
      "/Users/hidehiro/.pyenv/versions/3.6.2/lib/python3.6/site-packages/sklearn/metrics/classification.py:1135: UndefinedMetricWarning: Precision is ill-defined and being set to 0.0 in labels with no predicted samples.\n",
      "  'precision', 'predicted', average, warn_for)\n",
      "/Users/hidehiro/.pyenv/versions/3.6.2/lib/python3.6/site-packages/sklearn/metrics/classification.py:1135: UndefinedMetricWarning: Precision is ill-defined and being set to 0.0 in labels with no predicted samples.\n",
      "  'precision', 'predicted', average, warn_for)\n",
      "/Users/hidehiro/.pyenv/versions/3.6.2/lib/python3.6/site-packages/sklearn/metrics/classification.py:1135: UndefinedMetricWarning: Precision is ill-defined and being set to 0.0 in labels with no predicted samples.\n",
      "  'precision', 'predicted', average, warn_for)\n",
      "/Users/hidehiro/.pyenv/versions/3.6.2/lib/python3.6/site-packages/sklearn/metrics/classification.py:1135: UndefinedMetricWarning: Precision is ill-defined and being set to 0.0 in labels with no predicted samples.\n",
      "  'precision', 'predicted', average, warn_for)\n",
      "/Users/hidehiro/.pyenv/versions/3.6.2/lib/python3.6/site-packages/sklearn/metrics/classification.py:1135: UndefinedMetricWarning: Precision is ill-defined and being set to 0.0 in labels with no predicted samples.\n",
      "  'precision', 'predicted', average, warn_for)\n",
      "/Users/hidehiro/.pyenv/versions/3.6.2/lib/python3.6/site-packages/sklearn/metrics/classification.py:1135: UndefinedMetricWarning: Precision is ill-defined and being set to 0.0 in labels with no predicted samples.\n",
      "  'precision', 'predicted', average, warn_for)\n",
      "/Users/hidehiro/.pyenv/versions/3.6.2/lib/python3.6/site-packages/sklearn/metrics/classification.py:1135: UndefinedMetricWarning: Precision is ill-defined and being set to 0.0 in labels with no predicted samples.\n",
      "  'precision', 'predicted', average, warn_for)\n"
     ]
    },
    {
     "name": "stderr",
     "output_type": "stream",
     "text": [
      "/Users/hidehiro/.pyenv/versions/3.6.2/lib/python3.6/site-packages/sklearn/metrics/classification.py:1135: UndefinedMetricWarning: Precision is ill-defined and being set to 0.0 in labels with no predicted samples.\n",
      "  'precision', 'predicted', average, warn_for)\n",
      "/Users/hidehiro/.pyenv/versions/3.6.2/lib/python3.6/site-packages/sklearn/metrics/classification.py:1135: UndefinedMetricWarning: Precision is ill-defined and being set to 0.0 in labels with no predicted samples.\n",
      "  'precision', 'predicted', average, warn_for)\n",
      "/Users/hidehiro/.pyenv/versions/3.6.2/lib/python3.6/site-packages/sklearn/metrics/classification.py:1135: UndefinedMetricWarning: Precision is ill-defined and being set to 0.0 in labels with no predicted samples.\n",
      "  'precision', 'predicted', average, warn_for)\n",
      "/Users/hidehiro/.pyenv/versions/3.6.2/lib/python3.6/site-packages/sklearn/metrics/classification.py:1135: UndefinedMetricWarning: Precision is ill-defined and being set to 0.0 in labels with no predicted samples.\n",
      "  'precision', 'predicted', average, warn_for)\n",
      "/Users/hidehiro/.pyenv/versions/3.6.2/lib/python3.6/site-packages/sklearn/metrics/classification.py:1135: UndefinedMetricWarning: Precision is ill-defined and being set to 0.0 in labels with no predicted samples.\n",
      "  'precision', 'predicted', average, warn_for)\n",
      "/Users/hidehiro/.pyenv/versions/3.6.2/lib/python3.6/site-packages/sklearn/metrics/classification.py:1135: UndefinedMetricWarning: Precision is ill-defined and being set to 0.0 in labels with no predicted samples.\n",
      "  'precision', 'predicted', average, warn_for)\n",
      "/Users/hidehiro/.pyenv/versions/3.6.2/lib/python3.6/site-packages/sklearn/metrics/classification.py:1135: UndefinedMetricWarning: Precision is ill-defined and being set to 0.0 in labels with no predicted samples.\n",
      "  'precision', 'predicted', average, warn_for)\n",
      "/Users/hidehiro/.pyenv/versions/3.6.2/lib/python3.6/site-packages/sklearn/metrics/classification.py:1135: UndefinedMetricWarning: Precision is ill-defined and being set to 0.0 in labels with no predicted samples.\n",
      "  'precision', 'predicted', average, warn_for)\n",
      "/Users/hidehiro/.pyenv/versions/3.6.2/lib/python3.6/site-packages/sklearn/metrics/classification.py:1135: UndefinedMetricWarning: Precision is ill-defined and being set to 0.0 in labels with no predicted samples.\n",
      "  'precision', 'predicted', average, warn_for)\n",
      "/Users/hidehiro/.pyenv/versions/3.6.2/lib/python3.6/site-packages/sklearn/metrics/classification.py:1135: UndefinedMetricWarning: Precision is ill-defined and being set to 0.0 in labels with no predicted samples.\n",
      "  'precision', 'predicted', average, warn_for)\n",
      "/Users/hidehiro/.pyenv/versions/3.6.2/lib/python3.6/site-packages/sklearn/metrics/classification.py:1135: UndefinedMetricWarning: Precision is ill-defined and being set to 0.0 in labels with no predicted samples.\n",
      "  'precision', 'predicted', average, warn_for)\n",
      "/Users/hidehiro/.pyenv/versions/3.6.2/lib/python3.6/site-packages/sklearn/metrics/classification.py:1135: UndefinedMetricWarning: Precision is ill-defined and being set to 0.0 in labels with no predicted samples.\n",
      "  'precision', 'predicted', average, warn_for)\n",
      "/Users/hidehiro/.pyenv/versions/3.6.2/lib/python3.6/site-packages/sklearn/metrics/classification.py:1135: UndefinedMetricWarning: Precision is ill-defined and being set to 0.0 in labels with no predicted samples.\n",
      "  'precision', 'predicted', average, warn_for)\n",
      "/Users/hidehiro/.pyenv/versions/3.6.2/lib/python3.6/site-packages/sklearn/metrics/classification.py:1135: UndefinedMetricWarning: Precision is ill-defined and being set to 0.0 in labels with no predicted samples.\n",
      "  'precision', 'predicted', average, warn_for)\n",
      "/Users/hidehiro/.pyenv/versions/3.6.2/lib/python3.6/site-packages/sklearn/metrics/classification.py:1135: UndefinedMetricWarning: Precision is ill-defined and being set to 0.0 in labels with no predicted samples.\n",
      "  'precision', 'predicted', average, warn_for)\n",
      "/Users/hidehiro/.pyenv/versions/3.6.2/lib/python3.6/site-packages/sklearn/metrics/classification.py:1135: UndefinedMetricWarning: Precision is ill-defined and being set to 0.0 in labels with no predicted samples.\n",
      "  'precision', 'predicted', average, warn_for)\n",
      "/Users/hidehiro/.pyenv/versions/3.6.2/lib/python3.6/site-packages/sklearn/metrics/classification.py:1135: UndefinedMetricWarning: Precision is ill-defined and being set to 0.0 in labels with no predicted samples.\n",
      "  'precision', 'predicted', average, warn_for)\n",
      "/Users/hidehiro/.pyenv/versions/3.6.2/lib/python3.6/site-packages/sklearn/metrics/classification.py:1135: UndefinedMetricWarning: Precision is ill-defined and being set to 0.0 in labels with no predicted samples.\n",
      "  'precision', 'predicted', average, warn_for)\n",
      "/Users/hidehiro/.pyenv/versions/3.6.2/lib/python3.6/site-packages/sklearn/metrics/classification.py:1135: UndefinedMetricWarning: Precision is ill-defined and being set to 0.0 in labels with no predicted samples.\n",
      "  'precision', 'predicted', average, warn_for)\n",
      "/Users/hidehiro/.pyenv/versions/3.6.2/lib/python3.6/site-packages/sklearn/metrics/classification.py:1135: UndefinedMetricWarning: Precision is ill-defined and being set to 0.0 in labels with no predicted samples.\n",
      "  'precision', 'predicted', average, warn_for)\n",
      "/Users/hidehiro/.pyenv/versions/3.6.2/lib/python3.6/site-packages/sklearn/metrics/classification.py:1135: UndefinedMetricWarning: Precision is ill-defined and being set to 0.0 in labels with no predicted samples.\n",
      "  'precision', 'predicted', average, warn_for)\n",
      "/Users/hidehiro/.pyenv/versions/3.6.2/lib/python3.6/site-packages/sklearn/metrics/classification.py:1135: UndefinedMetricWarning: Precision is ill-defined and being set to 0.0 in labels with no predicted samples.\n",
      "  'precision', 'predicted', average, warn_for)\n",
      "/Users/hidehiro/.pyenv/versions/3.6.2/lib/python3.6/site-packages/sklearn/metrics/classification.py:1135: UndefinedMetricWarning: Precision is ill-defined and being set to 0.0 in labels with no predicted samples.\n",
      "  'precision', 'predicted', average, warn_for)\n",
      "/Users/hidehiro/.pyenv/versions/3.6.2/lib/python3.6/site-packages/sklearn/metrics/classification.py:1135: UndefinedMetricWarning: Precision is ill-defined and being set to 0.0 in labels with no predicted samples.\n",
      "  'precision', 'predicted', average, warn_for)\n",
      "/Users/hidehiro/.pyenv/versions/3.6.2/lib/python3.6/site-packages/sklearn/metrics/classification.py:1135: UndefinedMetricWarning: Precision is ill-defined and being set to 0.0 in labels with no predicted samples.\n",
      "  'precision', 'predicted', average, warn_for)\n",
      "/Users/hidehiro/.pyenv/versions/3.6.2/lib/python3.6/site-packages/sklearn/metrics/classification.py:1135: UndefinedMetricWarning: Precision is ill-defined and being set to 0.0 in labels with no predicted samples.\n",
      "  'precision', 'predicted', average, warn_for)\n",
      "/Users/hidehiro/.pyenv/versions/3.6.2/lib/python3.6/site-packages/sklearn/metrics/classification.py:1135: UndefinedMetricWarning: Precision is ill-defined and being set to 0.0 in labels with no predicted samples.\n",
      "  'precision', 'predicted', average, warn_for)\n",
      "/Users/hidehiro/.pyenv/versions/3.6.2/lib/python3.6/site-packages/sklearn/metrics/classification.py:1135: UndefinedMetricWarning: Precision is ill-defined and being set to 0.0 in labels with no predicted samples.\n",
      "  'precision', 'predicted', average, warn_for)\n",
      "/Users/hidehiro/.pyenv/versions/3.6.2/lib/python3.6/site-packages/sklearn/metrics/classification.py:1135: UndefinedMetricWarning: Precision is ill-defined and being set to 0.0 in labels with no predicted samples.\n",
      "  'precision', 'predicted', average, warn_for)\n",
      "/Users/hidehiro/.pyenv/versions/3.6.2/lib/python3.6/site-packages/sklearn/metrics/classification.py:1135: UndefinedMetricWarning: Precision is ill-defined and being set to 0.0 in labels with no predicted samples.\n",
      "  'precision', 'predicted', average, warn_for)\n",
      "/Users/hidehiro/.pyenv/versions/3.6.2/lib/python3.6/site-packages/sklearn/metrics/classification.py:1135: UndefinedMetricWarning: Precision is ill-defined and being set to 0.0 in labels with no predicted samples.\n",
      "  'precision', 'predicted', average, warn_for)\n",
      "/Users/hidehiro/.pyenv/versions/3.6.2/lib/python3.6/site-packages/sklearn/metrics/classification.py:1135: UndefinedMetricWarning: Precision is ill-defined and being set to 0.0 in labels with no predicted samples.\n",
      "  'precision', 'predicted', average, warn_for)\n"
     ]
    },
    {
     "name": "stderr",
     "output_type": "stream",
     "text": [
      "/Users/hidehiro/.pyenv/versions/3.6.2/lib/python3.6/site-packages/sklearn/metrics/classification.py:1135: UndefinedMetricWarning: Precision is ill-defined and being set to 0.0 in labels with no predicted samples.\n",
      "  'precision', 'predicted', average, warn_for)\n",
      "/Users/hidehiro/.pyenv/versions/3.6.2/lib/python3.6/site-packages/sklearn/metrics/classification.py:1135: UndefinedMetricWarning: Precision is ill-defined and being set to 0.0 in labels with no predicted samples.\n",
      "  'precision', 'predicted', average, warn_for)\n",
      "/Users/hidehiro/.pyenv/versions/3.6.2/lib/python3.6/site-packages/sklearn/metrics/classification.py:1135: UndefinedMetricWarning: Precision is ill-defined and being set to 0.0 in labels with no predicted samples.\n",
      "  'precision', 'predicted', average, warn_for)\n",
      "/Users/hidehiro/.pyenv/versions/3.6.2/lib/python3.6/site-packages/sklearn/metrics/classification.py:1135: UndefinedMetricWarning: Precision is ill-defined and being set to 0.0 in labels with no predicted samples.\n",
      "  'precision', 'predicted', average, warn_for)\n",
      "/Users/hidehiro/.pyenv/versions/3.6.2/lib/python3.6/site-packages/sklearn/metrics/classification.py:1135: UndefinedMetricWarning: Precision is ill-defined and being set to 0.0 in labels with no predicted samples.\n",
      "  'precision', 'predicted', average, warn_for)\n",
      "/Users/hidehiro/.pyenv/versions/3.6.2/lib/python3.6/site-packages/sklearn/metrics/classification.py:1135: UndefinedMetricWarning: Precision is ill-defined and being set to 0.0 in labels with no predicted samples.\n",
      "  'precision', 'predicted', average, warn_for)\n",
      "/Users/hidehiro/.pyenv/versions/3.6.2/lib/python3.6/site-packages/sklearn/metrics/classification.py:1135: UndefinedMetricWarning: Precision is ill-defined and being set to 0.0 in labels with no predicted samples.\n",
      "  'precision', 'predicted', average, warn_for)\n",
      "/Users/hidehiro/.pyenv/versions/3.6.2/lib/python3.6/site-packages/sklearn/metrics/classification.py:1135: UndefinedMetricWarning: Precision is ill-defined and being set to 0.0 in labels with no predicted samples.\n",
      "  'precision', 'predicted', average, warn_for)\n",
      "/Users/hidehiro/.pyenv/versions/3.6.2/lib/python3.6/site-packages/sklearn/metrics/classification.py:1135: UndefinedMetricWarning: Precision is ill-defined and being set to 0.0 in labels with no predicted samples.\n",
      "  'precision', 'predicted', average, warn_for)\n",
      "/Users/hidehiro/.pyenv/versions/3.6.2/lib/python3.6/site-packages/sklearn/metrics/classification.py:1135: UndefinedMetricWarning: Precision is ill-defined and being set to 0.0 in labels with no predicted samples.\n",
      "  'precision', 'predicted', average, warn_for)\n",
      "/Users/hidehiro/.pyenv/versions/3.6.2/lib/python3.6/site-packages/sklearn/metrics/classification.py:1135: UndefinedMetricWarning: Precision is ill-defined and being set to 0.0 in labels with no predicted samples.\n",
      "  'precision', 'predicted', average, warn_for)\n",
      "/Users/hidehiro/.pyenv/versions/3.6.2/lib/python3.6/site-packages/sklearn/metrics/classification.py:1135: UndefinedMetricWarning: Precision is ill-defined and being set to 0.0 in labels with no predicted samples.\n",
      "  'precision', 'predicted', average, warn_for)\n",
      "/Users/hidehiro/.pyenv/versions/3.6.2/lib/python3.6/site-packages/sklearn/metrics/classification.py:1135: UndefinedMetricWarning: Precision is ill-defined and being set to 0.0 in labels with no predicted samples.\n",
      "  'precision', 'predicted', average, warn_for)\n",
      "/Users/hidehiro/.pyenv/versions/3.6.2/lib/python3.6/site-packages/sklearn/metrics/classification.py:1135: UndefinedMetricWarning: Precision is ill-defined and being set to 0.0 in labels with no predicted samples.\n",
      "  'precision', 'predicted', average, warn_for)\n",
      "/Users/hidehiro/.pyenv/versions/3.6.2/lib/python3.6/site-packages/sklearn/metrics/classification.py:1135: UndefinedMetricWarning: Precision is ill-defined and being set to 0.0 in labels with no predicted samples.\n",
      "  'precision', 'predicted', average, warn_for)\n",
      "/Users/hidehiro/.pyenv/versions/3.6.2/lib/python3.6/site-packages/sklearn/metrics/classification.py:1135: UndefinedMetricWarning: Precision is ill-defined and being set to 0.0 in labels with no predicted samples.\n",
      "  'precision', 'predicted', average, warn_for)\n",
      "/Users/hidehiro/.pyenv/versions/3.6.2/lib/python3.6/site-packages/sklearn/metrics/classification.py:1135: UndefinedMetricWarning: Precision is ill-defined and being set to 0.0 in labels with no predicted samples.\n",
      "  'precision', 'predicted', average, warn_for)\n",
      "/Users/hidehiro/.pyenv/versions/3.6.2/lib/python3.6/site-packages/sklearn/metrics/classification.py:1135: UndefinedMetricWarning: Precision is ill-defined and being set to 0.0 in labels with no predicted samples.\n",
      "  'precision', 'predicted', average, warn_for)\n",
      "/Users/hidehiro/.pyenv/versions/3.6.2/lib/python3.6/site-packages/sklearn/metrics/classification.py:1135: UndefinedMetricWarning: Precision is ill-defined and being set to 0.0 in labels with no predicted samples.\n",
      "  'precision', 'predicted', average, warn_for)\n",
      "/Users/hidehiro/.pyenv/versions/3.6.2/lib/python3.6/site-packages/sklearn/metrics/classification.py:1135: UndefinedMetricWarning: Precision is ill-defined and being set to 0.0 in labels with no predicted samples.\n",
      "  'precision', 'predicted', average, warn_for)\n",
      "/Users/hidehiro/.pyenv/versions/3.6.2/lib/python3.6/site-packages/sklearn/metrics/classification.py:1135: UndefinedMetricWarning: Precision is ill-defined and being set to 0.0 in labels with no predicted samples.\n",
      "  'precision', 'predicted', average, warn_for)\n",
      "/Users/hidehiro/.pyenv/versions/3.6.2/lib/python3.6/site-packages/sklearn/metrics/classification.py:1135: UndefinedMetricWarning: Precision is ill-defined and being set to 0.0 in labels with no predicted samples.\n",
      "  'precision', 'predicted', average, warn_for)\n",
      "/Users/hidehiro/.pyenv/versions/3.6.2/lib/python3.6/site-packages/sklearn/metrics/classification.py:1135: UndefinedMetricWarning: Precision is ill-defined and being set to 0.0 in labels with no predicted samples.\n",
      "  'precision', 'predicted', average, warn_for)\n",
      "/Users/hidehiro/.pyenv/versions/3.6.2/lib/python3.6/site-packages/sklearn/metrics/classification.py:1135: UndefinedMetricWarning: Precision is ill-defined and being set to 0.0 in labels with no predicted samples.\n",
      "  'precision', 'predicted', average, warn_for)\n",
      "/Users/hidehiro/.pyenv/versions/3.6.2/lib/python3.6/site-packages/sklearn/metrics/classification.py:1135: UndefinedMetricWarning: Precision is ill-defined and being set to 0.0 in labels with no predicted samples.\n",
      "  'precision', 'predicted', average, warn_for)\n",
      "/Users/hidehiro/.pyenv/versions/3.6.2/lib/python3.6/site-packages/sklearn/metrics/classification.py:1135: UndefinedMetricWarning: Precision is ill-defined and being set to 0.0 in labels with no predicted samples.\n",
      "  'precision', 'predicted', average, warn_for)\n",
      "/Users/hidehiro/.pyenv/versions/3.6.2/lib/python3.6/site-packages/sklearn/metrics/classification.py:1135: UndefinedMetricWarning: Precision is ill-defined and being set to 0.0 in labels with no predicted samples.\n",
      "  'precision', 'predicted', average, warn_for)\n",
      "/Users/hidehiro/.pyenv/versions/3.6.2/lib/python3.6/site-packages/sklearn/metrics/classification.py:1135: UndefinedMetricWarning: Precision is ill-defined and being set to 0.0 in labels with no predicted samples.\n",
      "  'precision', 'predicted', average, warn_for)\n",
      "/Users/hidehiro/.pyenv/versions/3.6.2/lib/python3.6/site-packages/sklearn/metrics/classification.py:1135: UndefinedMetricWarning: Precision is ill-defined and being set to 0.0 in labels with no predicted samples.\n",
      "  'precision', 'predicted', average, warn_for)\n",
      "/Users/hidehiro/.pyenv/versions/3.6.2/lib/python3.6/site-packages/sklearn/metrics/classification.py:1135: UndefinedMetricWarning: Precision is ill-defined and being set to 0.0 in labels with no predicted samples.\n",
      "  'precision', 'predicted', average, warn_for)\n",
      "/Users/hidehiro/.pyenv/versions/3.6.2/lib/python3.6/site-packages/sklearn/metrics/classification.py:1135: UndefinedMetricWarning: Precision is ill-defined and being set to 0.0 in labels with no predicted samples.\n",
      "  'precision', 'predicted', average, warn_for)\n",
      "/Users/hidehiro/.pyenv/versions/3.6.2/lib/python3.6/site-packages/sklearn/metrics/classification.py:1135: UndefinedMetricWarning: Precision is ill-defined and being set to 0.0 in labels with no predicted samples.\n",
      "  'precision', 'predicted', average, warn_for)\n"
     ]
    },
    {
     "name": "stderr",
     "output_type": "stream",
     "text": [
      "/Users/hidehiro/.pyenv/versions/3.6.2/lib/python3.6/site-packages/sklearn/metrics/classification.py:1135: UndefinedMetricWarning: Precision is ill-defined and being set to 0.0 in labels with no predicted samples.\n",
      "  'precision', 'predicted', average, warn_for)\n",
      "/Users/hidehiro/.pyenv/versions/3.6.2/lib/python3.6/site-packages/sklearn/metrics/classification.py:1135: UndefinedMetricWarning: Precision is ill-defined and being set to 0.0 in labels with no predicted samples.\n",
      "  'precision', 'predicted', average, warn_for)\n",
      "/Users/hidehiro/.pyenv/versions/3.6.2/lib/python3.6/site-packages/sklearn/metrics/classification.py:1135: UndefinedMetricWarning: Precision is ill-defined and being set to 0.0 in labels with no predicted samples.\n",
      "  'precision', 'predicted', average, warn_for)\n",
      "/Users/hidehiro/.pyenv/versions/3.6.2/lib/python3.6/site-packages/sklearn/metrics/classification.py:1135: UndefinedMetricWarning: Precision is ill-defined and being set to 0.0 in labels with no predicted samples.\n",
      "  'precision', 'predicted', average, warn_for)\n",
      "/Users/hidehiro/.pyenv/versions/3.6.2/lib/python3.6/site-packages/sklearn/metrics/classification.py:1135: UndefinedMetricWarning: Precision is ill-defined and being set to 0.0 in labels with no predicted samples.\n",
      "  'precision', 'predicted', average, warn_for)\n",
      "/Users/hidehiro/.pyenv/versions/3.6.2/lib/python3.6/site-packages/sklearn/metrics/classification.py:1135: UndefinedMetricWarning: Precision is ill-defined and being set to 0.0 in labels with no predicted samples.\n",
      "  'precision', 'predicted', average, warn_for)\n",
      "/Users/hidehiro/.pyenv/versions/3.6.2/lib/python3.6/site-packages/sklearn/metrics/classification.py:1135: UndefinedMetricWarning: Precision is ill-defined and being set to 0.0 in labels with no predicted samples.\n",
      "  'precision', 'predicted', average, warn_for)\n",
      "/Users/hidehiro/.pyenv/versions/3.6.2/lib/python3.6/site-packages/sklearn/metrics/classification.py:1135: UndefinedMetricWarning: Precision is ill-defined and being set to 0.0 in labels with no predicted samples.\n",
      "  'precision', 'predicted', average, warn_for)\n",
      "/Users/hidehiro/.pyenv/versions/3.6.2/lib/python3.6/site-packages/sklearn/metrics/classification.py:1135: UndefinedMetricWarning: Precision is ill-defined and being set to 0.0 in labels with no predicted samples.\n",
      "  'precision', 'predicted', average, warn_for)\n",
      "/Users/hidehiro/.pyenv/versions/3.6.2/lib/python3.6/site-packages/sklearn/metrics/classification.py:1135: UndefinedMetricWarning: Precision is ill-defined and being set to 0.0 in labels with no predicted samples.\n",
      "  'precision', 'predicted', average, warn_for)\n",
      "/Users/hidehiro/.pyenv/versions/3.6.2/lib/python3.6/site-packages/sklearn/metrics/classification.py:1135: UndefinedMetricWarning: Precision is ill-defined and being set to 0.0 in labels with no predicted samples.\n",
      "  'precision', 'predicted', average, warn_for)\n",
      "/Users/hidehiro/.pyenv/versions/3.6.2/lib/python3.6/site-packages/sklearn/metrics/classification.py:1135: UndefinedMetricWarning: Precision is ill-defined and being set to 0.0 in labels with no predicted samples.\n",
      "  'precision', 'predicted', average, warn_for)\n",
      "/Users/hidehiro/.pyenv/versions/3.6.2/lib/python3.6/site-packages/sklearn/metrics/classification.py:1135: UndefinedMetricWarning: Precision is ill-defined and being set to 0.0 in labels with no predicted samples.\n",
      "  'precision', 'predicted', average, warn_for)\n",
      "/Users/hidehiro/.pyenv/versions/3.6.2/lib/python3.6/site-packages/sklearn/metrics/classification.py:1135: UndefinedMetricWarning: Precision is ill-defined and being set to 0.0 in labels with no predicted samples.\n",
      "  'precision', 'predicted', average, warn_for)\n",
      "/Users/hidehiro/.pyenv/versions/3.6.2/lib/python3.6/site-packages/sklearn/metrics/classification.py:1135: UndefinedMetricWarning: Precision is ill-defined and being set to 0.0 in labels with no predicted samples.\n",
      "  'precision', 'predicted', average, warn_for)\n",
      "/Users/hidehiro/.pyenv/versions/3.6.2/lib/python3.6/site-packages/sklearn/metrics/classification.py:1135: UndefinedMetricWarning: Precision is ill-defined and being set to 0.0 in labels with no predicted samples.\n",
      "  'precision', 'predicted', average, warn_for)\n",
      "/Users/hidehiro/.pyenv/versions/3.6.2/lib/python3.6/site-packages/sklearn/metrics/classification.py:1135: UndefinedMetricWarning: Precision is ill-defined and being set to 0.0 in labels with no predicted samples.\n",
      "  'precision', 'predicted', average, warn_for)\n",
      "/Users/hidehiro/.pyenv/versions/3.6.2/lib/python3.6/site-packages/sklearn/metrics/classification.py:1135: UndefinedMetricWarning: Precision is ill-defined and being set to 0.0 in labels with no predicted samples.\n",
      "  'precision', 'predicted', average, warn_for)\n",
      "/Users/hidehiro/.pyenv/versions/3.6.2/lib/python3.6/site-packages/sklearn/metrics/classification.py:1135: UndefinedMetricWarning: Precision is ill-defined and being set to 0.0 in labels with no predicted samples.\n",
      "  'precision', 'predicted', average, warn_for)\n",
      "/Users/hidehiro/.pyenv/versions/3.6.2/lib/python3.6/site-packages/sklearn/metrics/classification.py:1135: UndefinedMetricWarning: Precision is ill-defined and being set to 0.0 in labels with no predicted samples.\n",
      "  'precision', 'predicted', average, warn_for)\n",
      "/Users/hidehiro/.pyenv/versions/3.6.2/lib/python3.6/site-packages/sklearn/metrics/classification.py:1135: UndefinedMetricWarning: Precision is ill-defined and being set to 0.0 in labels with no predicted samples.\n",
      "  'precision', 'predicted', average, warn_for)\n",
      "/Users/hidehiro/.pyenv/versions/3.6.2/lib/python3.6/site-packages/sklearn/metrics/classification.py:1135: UndefinedMetricWarning: Precision is ill-defined and being set to 0.0 in labels with no predicted samples.\n",
      "  'precision', 'predicted', average, warn_for)\n",
      "/Users/hidehiro/.pyenv/versions/3.6.2/lib/python3.6/site-packages/sklearn/metrics/classification.py:1135: UndefinedMetricWarning: Precision is ill-defined and being set to 0.0 in labels with no predicted samples.\n",
      "  'precision', 'predicted', average, warn_for)\n",
      "/Users/hidehiro/.pyenv/versions/3.6.2/lib/python3.6/site-packages/sklearn/metrics/classification.py:1135: UndefinedMetricWarning: Precision is ill-defined and being set to 0.0 in labels with no predicted samples.\n",
      "  'precision', 'predicted', average, warn_for)\n",
      "/Users/hidehiro/.pyenv/versions/3.6.2/lib/python3.6/site-packages/sklearn/metrics/classification.py:1135: UndefinedMetricWarning: Precision is ill-defined and being set to 0.0 in labels with no predicted samples.\n",
      "  'precision', 'predicted', average, warn_for)\n",
      "/Users/hidehiro/.pyenv/versions/3.6.2/lib/python3.6/site-packages/sklearn/metrics/classification.py:1135: UndefinedMetricWarning: Precision is ill-defined and being set to 0.0 in labels with no predicted samples.\n",
      "  'precision', 'predicted', average, warn_for)\n",
      "/Users/hidehiro/.pyenv/versions/3.6.2/lib/python3.6/site-packages/sklearn/metrics/classification.py:1135: UndefinedMetricWarning: Precision is ill-defined and being set to 0.0 in labels with no predicted samples.\n",
      "  'precision', 'predicted', average, warn_for)\n",
      "/Users/hidehiro/.pyenv/versions/3.6.2/lib/python3.6/site-packages/sklearn/metrics/classification.py:1135: UndefinedMetricWarning: Precision is ill-defined and being set to 0.0 in labels with no predicted samples.\n",
      "  'precision', 'predicted', average, warn_for)\n",
      "/Users/hidehiro/.pyenv/versions/3.6.2/lib/python3.6/site-packages/sklearn/metrics/classification.py:1135: UndefinedMetricWarning: Precision is ill-defined and being set to 0.0 in labels with no predicted samples.\n",
      "  'precision', 'predicted', average, warn_for)\n",
      "/Users/hidehiro/.pyenv/versions/3.6.2/lib/python3.6/site-packages/sklearn/metrics/classification.py:1135: UndefinedMetricWarning: Precision is ill-defined and being set to 0.0 in labels with no predicted samples.\n",
      "  'precision', 'predicted', average, warn_for)\n",
      "/Users/hidehiro/.pyenv/versions/3.6.2/lib/python3.6/site-packages/sklearn/metrics/classification.py:1135: UndefinedMetricWarning: Precision is ill-defined and being set to 0.0 in labels with no predicted samples.\n",
      "  'precision', 'predicted', average, warn_for)\n",
      "/Users/hidehiro/.pyenv/versions/3.6.2/lib/python3.6/site-packages/sklearn/metrics/classification.py:1135: UndefinedMetricWarning: Precision is ill-defined and being set to 0.0 in labels with no predicted samples.\n",
      "  'precision', 'predicted', average, warn_for)\n"
     ]
    },
    {
     "name": "stderr",
     "output_type": "stream",
     "text": [
      "/Users/hidehiro/.pyenv/versions/3.6.2/lib/python3.6/site-packages/sklearn/metrics/classification.py:1135: UndefinedMetricWarning: Precision is ill-defined and being set to 0.0 in labels with no predicted samples.\n",
      "  'precision', 'predicted', average, warn_for)\n",
      "/Users/hidehiro/.pyenv/versions/3.6.2/lib/python3.6/site-packages/sklearn/metrics/classification.py:1135: UndefinedMetricWarning: Precision is ill-defined and being set to 0.0 in labels with no predicted samples.\n",
      "  'precision', 'predicted', average, warn_for)\n"
     ]
    },
    {
     "name": "stdout",
     "output_type": "stream",
     "text": [
      "{'C': 1, 'gamma': 0.001, 'kernel': 'rbf'}\n",
      "Grid scores on development　set:\n",
      "0.011 (+/-0.000) for {'C': 0.01, 'gamma': 0.01, 'kernel': 'rbf'}\n",
      "0.982 (+/-0.006) for {'C': 0.01, 'gamma': 0.01, 'kernel': 'linear'}\n",
      "0.011 (+/-0.000) for {'C': 0.01, 'gamma': 0.01, 'kernel': 'sigmoid'}\n",
      "0.988 (+/-0.010) for {'C': 0.01, 'gamma': 0.01, 'kernel': 'poly'}\n",
      "0.011 (+/-0.000) for {'C': 0.01, 'gamma': 0.001, 'kernel': 'rbf'}\n",
      "0.982 (+/-0.006) for {'C': 0.01, 'gamma': 0.001, 'kernel': 'linear'}\n",
      "0.011 (+/-0.000) for {'C': 0.01, 'gamma': 0.001, 'kernel': 'sigmoid'}\n",
      "0.977 (+/-0.015) for {'C': 0.01, 'gamma': 0.001, 'kernel': 'poly'}\n",
      "0.011 (+/-0.000) for {'C': 0.01, 'gamma': 0.0001, 'kernel': 'rbf'}\n",
      "0.982 (+/-0.006) for {'C': 0.01, 'gamma': 0.0001, 'kernel': 'linear'}\n",
      "0.011 (+/-0.000) for {'C': 0.01, 'gamma': 0.0001, 'kernel': 'sigmoid'}\n",
      "0.011 (+/-0.000) for {'C': 0.01, 'gamma': 0.0001, 'kernel': 'poly'}\n",
      "0.011 (+/-0.000) for {'C': 0.01, 'gamma': 1e-05, 'kernel': 'rbf'}\n",
      "0.982 (+/-0.006) for {'C': 0.01, 'gamma': 1e-05, 'kernel': 'linear'}\n",
      "0.011 (+/-0.000) for {'C': 0.01, 'gamma': 1e-05, 'kernel': 'sigmoid'}\n",
      "0.011 (+/-0.000) for {'C': 0.01, 'gamma': 1e-05, 'kernel': 'poly'}\n",
      "0.011 (+/-0.000) for {'C': 0.1, 'gamma': 0.01, 'kernel': 'rbf'}\n",
      "0.982 (+/-0.008) for {'C': 0.1, 'gamma': 0.01, 'kernel': 'linear'}\n",
      "0.011 (+/-0.000) for {'C': 0.1, 'gamma': 0.01, 'kernel': 'sigmoid'}\n",
      "0.988 (+/-0.010) for {'C': 0.1, 'gamma': 0.01, 'kernel': 'poly'}\n",
      "0.962 (+/-0.016) for {'C': 0.1, 'gamma': 0.001, 'kernel': 'rbf'}\n",
      "0.982 (+/-0.008) for {'C': 0.1, 'gamma': 0.001, 'kernel': 'linear'}\n",
      "0.011 (+/-0.000) for {'C': 0.1, 'gamma': 0.001, 'kernel': 'sigmoid'}\n",
      "0.989 (+/-0.011) for {'C': 0.1, 'gamma': 0.001, 'kernel': 'poly'}\n",
      "0.875 (+/-0.009) for {'C': 0.1, 'gamma': 0.0001, 'kernel': 'rbf'}\n",
      "0.982 (+/-0.008) for {'C': 0.1, 'gamma': 0.0001, 'kernel': 'linear'}\n",
      "0.452 (+/-0.084) for {'C': 0.1, 'gamma': 0.0001, 'kernel': 'sigmoid'}\n",
      "0.011 (+/-0.000) for {'C': 0.1, 'gamma': 0.0001, 'kernel': 'poly'}\n",
      "0.011 (+/-0.000) for {'C': 0.1, 'gamma': 1e-05, 'kernel': 'rbf'}\n",
      "0.982 (+/-0.008) for {'C': 0.1, 'gamma': 1e-05, 'kernel': 'linear'}\n",
      "0.011 (+/-0.000) for {'C': 0.1, 'gamma': 1e-05, 'kernel': 'sigmoid'}\n",
      "0.011 (+/-0.000) for {'C': 0.1, 'gamma': 1e-05, 'kernel': 'poly'}\n",
      "0.925 (+/-0.005) for {'C': 1, 'gamma': 0.01, 'kernel': 'rbf'}\n",
      "0.982 (+/-0.008) for {'C': 1, 'gamma': 0.01, 'kernel': 'linear'}\n",
      "0.011 (+/-0.000) for {'C': 1, 'gamma': 0.01, 'kernel': 'sigmoid'}\n",
      "0.988 (+/-0.010) for {'C': 1, 'gamma': 0.01, 'kernel': 'poly'}\n",
      "0.991 (+/-0.008) for {'C': 1, 'gamma': 0.001, 'kernel': 'rbf'}\n",
      "0.982 (+/-0.008) for {'C': 1, 'gamma': 0.001, 'kernel': 'linear'}\n",
      "0.690 (+/-0.070) for {'C': 1, 'gamma': 0.001, 'kernel': 'sigmoid'}\n",
      "0.988 (+/-0.010) for {'C': 1, 'gamma': 0.001, 'kernel': 'poly'}\n",
      "0.971 (+/-0.022) for {'C': 1, 'gamma': 0.0001, 'kernel': 'rbf'}\n",
      "0.982 (+/-0.008) for {'C': 1, 'gamma': 0.0001, 'kernel': 'linear'}\n",
      "0.955 (+/-0.024) for {'C': 1, 'gamma': 0.0001, 'kernel': 'sigmoid'}\n",
      "0.926 (+/-0.030) for {'C': 1, 'gamma': 0.0001, 'kernel': 'poly'}\n",
      "0.896 (+/-0.031) for {'C': 1, 'gamma': 1e-05, 'kernel': 'rbf'}\n",
      "0.982 (+/-0.008) for {'C': 1, 'gamma': 1e-05, 'kernel': 'linear'}\n",
      "0.642 (+/-0.114) for {'C': 1, 'gamma': 1e-05, 'kernel': 'sigmoid'}\n",
      "0.011 (+/-0.000) for {'C': 1, 'gamma': 1e-05, 'kernel': 'poly'}\n",
      "0.927 (+/-0.005) for {'C': 10, 'gamma': 0.01, 'kernel': 'rbf'}\n",
      "0.982 (+/-0.008) for {'C': 10, 'gamma': 0.01, 'kernel': 'linear'}\n",
      "0.011 (+/-0.000) for {'C': 10, 'gamma': 0.01, 'kernel': 'sigmoid'}\n",
      "0.988 (+/-0.010) for {'C': 10, 'gamma': 0.01, 'kernel': 'poly'}\n",
      "0.988 (+/-0.008) for {'C': 10, 'gamma': 0.001, 'kernel': 'rbf'}\n",
      "0.982 (+/-0.008) for {'C': 10, 'gamma': 0.001, 'kernel': 'linear'}\n",
      "0.696 (+/-0.023) for {'C': 10, 'gamma': 0.001, 'kernel': 'sigmoid'}\n",
      "0.988 (+/-0.010) for {'C': 10, 'gamma': 0.001, 'kernel': 'poly'}\n",
      "0.985 (+/-0.010) for {'C': 10, 'gamma': 0.0001, 'kernel': 'rbf'}\n",
      "0.982 (+/-0.008) for {'C': 10, 'gamma': 0.0001, 'kernel': 'linear'}\n",
      "0.980 (+/-0.012) for {'C': 10, 'gamma': 0.0001, 'kernel': 'sigmoid'}\n",
      "0.977 (+/-0.015) for {'C': 10, 'gamma': 0.0001, 'kernel': 'poly'}\n",
      "0.970 (+/-0.020) for {'C': 10, 'gamma': 1e-05, 'kernel': 'rbf'}\n",
      "0.982 (+/-0.008) for {'C': 10, 'gamma': 1e-05, 'kernel': 'linear'}\n",
      "0.959 (+/-0.023) for {'C': 10, 'gamma': 1e-05, 'kernel': 'sigmoid'}\n",
      "0.011 (+/-0.000) for {'C': 10, 'gamma': 1e-05, 'kernel': 'poly'}\n",
      "0.927 (+/-0.005) for {'C': 100, 'gamma': 0.01, 'kernel': 'rbf'}\n",
      "0.982 (+/-0.008) for {'C': 100, 'gamma': 0.01, 'kernel': 'linear'}\n",
      "0.011 (+/-0.000) for {'C': 100, 'gamma': 0.01, 'kernel': 'sigmoid'}\n",
      "0.988 (+/-0.010) for {'C': 100, 'gamma': 0.01, 'kernel': 'poly'}\n",
      "0.988 (+/-0.008) for {'C': 100, 'gamma': 0.001, 'kernel': 'rbf'}\n",
      "0.982 (+/-0.008) for {'C': 100, 'gamma': 0.001, 'kernel': 'linear'}\n",
      "0.645 (+/-0.015) for {'C': 100, 'gamma': 0.001, 'kernel': 'sigmoid'}\n",
      "0.988 (+/-0.010) for {'C': 100, 'gamma': 0.001, 'kernel': 'poly'}\n",
      "0.984 (+/-0.003) for {'C': 100, 'gamma': 0.0001, 'kernel': 'rbf'}\n",
      "0.982 (+/-0.008) for {'C': 100, 'gamma': 0.0001, 'kernel': 'linear'}\n",
      "0.981 (+/-0.013) for {'C': 100, 'gamma': 0.0001, 'kernel': 'sigmoid'}\n",
      "0.989 (+/-0.011) for {'C': 100, 'gamma': 0.0001, 'kernel': 'poly'}\n",
      "0.985 (+/-0.011) for {'C': 100, 'gamma': 1e-05, 'kernel': 'rbf'}\n",
      "0.982 (+/-0.008) for {'C': 100, 'gamma': 1e-05, 'kernel': 'linear'}\n",
      "0.980 (+/-0.012) for {'C': 100, 'gamma': 1e-05, 'kernel': 'sigmoid'}\n",
      "0.011 (+/-0.000) for {'C': 100, 'gamma': 1e-05, 'kernel': 'poly'}\n",
      "0.927 (+/-0.005) for {'C': 1000, 'gamma': 0.01, 'kernel': 'rbf'}\n",
      "0.982 (+/-0.008) for {'C': 1000, 'gamma': 0.01, 'kernel': 'linear'}\n",
      "0.011 (+/-0.000) for {'C': 1000, 'gamma': 0.01, 'kernel': 'sigmoid'}\n",
      "0.988 (+/-0.010) for {'C': 1000, 'gamma': 0.01, 'kernel': 'poly'}\n",
      "0.988 (+/-0.008) for {'C': 1000, 'gamma': 0.001, 'kernel': 'rbf'}\n",
      "0.982 (+/-0.008) for {'C': 1000, 'gamma': 0.001, 'kernel': 'linear'}\n",
      "0.655 (+/-0.012) for {'C': 1000, 'gamma': 0.001, 'kernel': 'sigmoid'}\n",
      "0.988 (+/-0.010) for {'C': 1000, 'gamma': 0.001, 'kernel': 'poly'}\n",
      "0.984 (+/-0.003) for {'C': 1000, 'gamma': 0.0001, 'kernel': 'rbf'}\n",
      "0.982 (+/-0.008) for {'C': 1000, 'gamma': 0.0001, 'kernel': 'linear'}\n",
      "0.976 (+/-0.016) for {'C': 1000, 'gamma': 0.0001, 'kernel': 'sigmoid'}\n",
      "0.988 (+/-0.010) for {'C': 1000, 'gamma': 0.0001, 'kernel': 'poly'}\n",
      "0.981 (+/-0.009) for {'C': 1000, 'gamma': 1e-05, 'kernel': 'rbf'}\n",
      "0.982 (+/-0.008) for {'C': 1000, 'gamma': 1e-05, 'kernel': 'linear'}\n",
      "0.982 (+/-0.006) for {'C': 1000, 'gamma': 1e-05, 'kernel': 'sigmoid'}\n",
      "0.926 (+/-0.030) for {'C': 1000, 'gamma': 1e-05, 'kernel': 'poly'}\n",
      "# Tuning hyper-parameters for recall\n",
      "{'C': 1, 'gamma': 0.001, 'kernel': 'rbf'}\n",
      "Grid scores on development　set:\n",
      "0.100 (+/-0.000) for {'C': 0.01, 'gamma': 0.01, 'kernel': 'rbf'}\n",
      "0.981 (+/-0.006) for {'C': 0.01, 'gamma': 0.01, 'kernel': 'linear'}\n",
      "0.100 (+/-0.000) for {'C': 0.01, 'gamma': 0.01, 'kernel': 'sigmoid'}\n",
      "0.987 (+/-0.011) for {'C': 0.01, 'gamma': 0.01, 'kernel': 'poly'}\n",
      "0.100 (+/-0.000) for {'C': 0.01, 'gamma': 0.001, 'kernel': 'rbf'}\n",
      "0.981 (+/-0.006) for {'C': 0.01, 'gamma': 0.001, 'kernel': 'linear'}\n",
      "0.100 (+/-0.000) for {'C': 0.01, 'gamma': 0.001, 'kernel': 'sigmoid'}\n",
      "0.975 (+/-0.016) for {'C': 0.01, 'gamma': 0.001, 'kernel': 'poly'}\n",
      "0.100 (+/-0.000) for {'C': 0.01, 'gamma': 0.0001, 'kernel': 'rbf'}\n",
      "0.981 (+/-0.006) for {'C': 0.01, 'gamma': 0.0001, 'kernel': 'linear'}\n",
      "0.100 (+/-0.000) for {'C': 0.01, 'gamma': 0.0001, 'kernel': 'sigmoid'}\n",
      "0.100 (+/-0.000) for {'C': 0.01, 'gamma': 0.0001, 'kernel': 'poly'}\n",
      "0.100 (+/-0.000) for {'C': 0.01, 'gamma': 1e-05, 'kernel': 'rbf'}\n",
      "0.981 (+/-0.006) for {'C': 0.01, 'gamma': 1e-05, 'kernel': 'linear'}\n",
      "0.100 (+/-0.000) for {'C': 0.01, 'gamma': 1e-05, 'kernel': 'sigmoid'}\n",
      "0.100 (+/-0.000) for {'C': 0.01, 'gamma': 1e-05, 'kernel': 'poly'}\n",
      "0.100 (+/-0.000) for {'C': 0.1, 'gamma': 0.01, 'kernel': 'rbf'}\n",
      "0.981 (+/-0.008) for {'C': 0.1, 'gamma': 0.01, 'kernel': 'linear'}\n",
      "0.100 (+/-0.000) for {'C': 0.1, 'gamma': 0.01, 'kernel': 'sigmoid'}\n",
      "0.987 (+/-0.011) for {'C': 0.1, 'gamma': 0.01, 'kernel': 'poly'}\n",
      "0.959 (+/-0.019) for {'C': 0.1, 'gamma': 0.001, 'kernel': 'rbf'}\n",
      "0.981 (+/-0.008) for {'C': 0.1, 'gamma': 0.001, 'kernel': 'linear'}\n",
      "0.100 (+/-0.000) for {'C': 0.1, 'gamma': 0.001, 'kernel': 'sigmoid'}\n",
      "0.989 (+/-0.012) for {'C': 0.1, 'gamma': 0.001, 'kernel': 'poly'}\n",
      "0.857 (+/-0.014) for {'C': 0.1, 'gamma': 0.0001, 'kernel': 'rbf'}\n",
      "0.981 (+/-0.008) for {'C': 0.1, 'gamma': 0.0001, 'kernel': 'linear'}\n",
      "0.425 (+/-0.058) for {'C': 0.1, 'gamma': 0.0001, 'kernel': 'sigmoid'}\n",
      "0.100 (+/-0.000) for {'C': 0.1, 'gamma': 0.0001, 'kernel': 'poly'}\n",
      "0.100 (+/-0.000) for {'C': 0.1, 'gamma': 1e-05, 'kernel': 'rbf'}\n",
      "0.981 (+/-0.008) for {'C': 0.1, 'gamma': 1e-05, 'kernel': 'linear'}\n",
      "0.100 (+/-0.000) for {'C': 0.1, 'gamma': 1e-05, 'kernel': 'sigmoid'}\n",
      "0.100 (+/-0.000) for {'C': 0.1, 'gamma': 1e-05, 'kernel': 'poly'}\n",
      "0.685 (+/-0.095) for {'C': 1, 'gamma': 0.01, 'kernel': 'rbf'}\n",
      "0.981 (+/-0.008) for {'C': 1, 'gamma': 0.01, 'kernel': 'linear'}\n",
      "0.100 (+/-0.000) for {'C': 1, 'gamma': 0.01, 'kernel': 'sigmoid'}\n",
      "0.987 (+/-0.011) for {'C': 1, 'gamma': 0.01, 'kernel': 'poly'}\n",
      "0.990 (+/-0.008) for {'C': 1, 'gamma': 0.001, 'kernel': 'rbf'}\n",
      "0.981 (+/-0.008) for {'C': 1, 'gamma': 0.001, 'kernel': 'linear'}\n",
      "0.662 (+/-0.038) for {'C': 1, 'gamma': 0.001, 'kernel': 'sigmoid'}\n",
      "0.987 (+/-0.011) for {'C': 1, 'gamma': 0.001, 'kernel': 'poly'}\n",
      "0.969 (+/-0.022) for {'C': 1, 'gamma': 0.0001, 'kernel': 'rbf'}\n",
      "0.981 (+/-0.008) for {'C': 1, 'gamma': 0.0001, 'kernel': 'linear'}\n",
      "0.953 (+/-0.025) for {'C': 1, 'gamma': 0.0001, 'kernel': 'sigmoid'}\n",
      "0.921 (+/-0.035) for {'C': 1, 'gamma': 0.0001, 'kernel': 'poly'}\n",
      "0.889 (+/-0.031) for {'C': 1, 'gamma': 1e-05, 'kernel': 'rbf'}\n",
      "0.981 (+/-0.008) for {'C': 1, 'gamma': 1e-05, 'kernel': 'linear'}\n",
      "0.519 (+/-0.046) for {'C': 1, 'gamma': 1e-05, 'kernel': 'sigmoid'}\n",
      "0.100 (+/-0.000) for {'C': 1, 'gamma': 1e-05, 'kernel': 'poly'}\n",
      "0.714 (+/-0.071) for {'C': 10, 'gamma': 0.01, 'kernel': 'rbf'}\n",
      "0.981 (+/-0.008) for {'C': 10, 'gamma': 0.01, 'kernel': 'linear'}\n",
      "0.100 (+/-0.000) for {'C': 10, 'gamma': 0.01, 'kernel': 'sigmoid'}\n",
      "0.987 (+/-0.011) for {'C': 10, 'gamma': 0.01, 'kernel': 'poly'}\n",
      "0.988 (+/-0.008) for {'C': 10, 'gamma': 0.001, 'kernel': 'rbf'}\n",
      "0.981 (+/-0.008) for {'C': 10, 'gamma': 0.001, 'kernel': 'linear'}\n",
      "0.560 (+/-0.027) for {'C': 10, 'gamma': 0.001, 'kernel': 'sigmoid'}\n",
      "0.987 (+/-0.011) for {'C': 10, 'gamma': 0.001, 'kernel': 'poly'}\n",
      "0.985 (+/-0.010) for {'C': 10, 'gamma': 0.0001, 'kernel': 'rbf'}\n",
      "0.981 (+/-0.008) for {'C': 10, 'gamma': 0.0001, 'kernel': 'linear'}\n",
      "0.979 (+/-0.013) for {'C': 10, 'gamma': 0.0001, 'kernel': 'sigmoid'}\n",
      "0.975 (+/-0.016) for {'C': 10, 'gamma': 0.0001, 'kernel': 'poly'}\n",
      "0.968 (+/-0.019) for {'C': 10, 'gamma': 1e-05, 'kernel': 'rbf'}\n",
      "0.981 (+/-0.008) for {'C': 10, 'gamma': 1e-05, 'kernel': 'linear'}\n",
      "0.957 (+/-0.023) for {'C': 10, 'gamma': 1e-05, 'kernel': 'sigmoid'}\n",
      "0.100 (+/-0.000) for {'C': 10, 'gamma': 1e-05, 'kernel': 'poly'}\n",
      "0.714 (+/-0.071) for {'C': 100, 'gamma': 0.01, 'kernel': 'rbf'}\n",
      "0.981 (+/-0.008) for {'C': 100, 'gamma': 0.01, 'kernel': 'linear'}\n",
      "0.100 (+/-0.000) for {'C': 100, 'gamma': 0.01, 'kernel': 'sigmoid'}\n",
      "0.987 (+/-0.011) for {'C': 100, 'gamma': 0.01, 'kernel': 'poly'}\n",
      "0.988 (+/-0.008) for {'C': 100, 'gamma': 0.001, 'kernel': 'rbf'}\n",
      "0.981 (+/-0.008) for {'C': 100, 'gamma': 0.001, 'kernel': 'linear'}\n",
      "0.513 (+/-0.050) for {'C': 100, 'gamma': 0.001, 'kernel': 'sigmoid'}\n",
      "0.987 (+/-0.011) for {'C': 100, 'gamma': 0.001, 'kernel': 'poly'}\n",
      "0.983 (+/-0.003) for {'C': 100, 'gamma': 0.0001, 'kernel': 'rbf'}\n",
      "0.981 (+/-0.008) for {'C': 100, 'gamma': 0.0001, 'kernel': 'linear'}\n",
      "0.980 (+/-0.014) for {'C': 100, 'gamma': 0.0001, 'kernel': 'sigmoid'}\n",
      "0.989 (+/-0.012) for {'C': 100, 'gamma': 0.0001, 'kernel': 'poly'}\n",
      "0.985 (+/-0.012) for {'C': 100, 'gamma': 1e-05, 'kernel': 'rbf'}\n",
      "0.981 (+/-0.008) for {'C': 100, 'gamma': 1e-05, 'kernel': 'linear'}\n",
      "0.979 (+/-0.012) for {'C': 100, 'gamma': 1e-05, 'kernel': 'sigmoid'}\n",
      "0.100 (+/-0.000) for {'C': 100, 'gamma': 1e-05, 'kernel': 'poly'}\n",
      "0.714 (+/-0.071) for {'C': 1000, 'gamma': 0.01, 'kernel': 'rbf'}\n",
      "0.981 (+/-0.008) for {'C': 1000, 'gamma': 0.01, 'kernel': 'linear'}\n",
      "0.100 (+/-0.000) for {'C': 1000, 'gamma': 0.01, 'kernel': 'sigmoid'}\n",
      "0.987 (+/-0.011) for {'C': 1000, 'gamma': 0.01, 'kernel': 'poly'}\n",
      "0.988 (+/-0.008) for {'C': 1000, 'gamma': 0.001, 'kernel': 'rbf'}\n",
      "0.981 (+/-0.008) for {'C': 1000, 'gamma': 0.001, 'kernel': 'linear'}\n",
      "0.514 (+/-0.060) for {'C': 1000, 'gamma': 0.001, 'kernel': 'sigmoid'}\n",
      "0.987 (+/-0.011) for {'C': 1000, 'gamma': 0.001, 'kernel': 'poly'}\n",
      "0.983 (+/-0.003) for {'C': 1000, 'gamma': 0.0001, 'kernel': 'rbf'}\n",
      "0.981 (+/-0.008) for {'C': 1000, 'gamma': 0.0001, 'kernel': 'linear'}\n",
      "0.975 (+/-0.016) for {'C': 1000, 'gamma': 0.0001, 'kernel': 'sigmoid'}\n",
      "0.987 (+/-0.011) for {'C': 1000, 'gamma': 0.0001, 'kernel': 'poly'}\n",
      "0.981 (+/-0.009) for {'C': 1000, 'gamma': 1e-05, 'kernel': 'rbf'}\n",
      "0.981 (+/-0.008) for {'C': 1000, 'gamma': 1e-05, 'kernel': 'linear'}\n",
      "0.981 (+/-0.006) for {'C': 1000, 'gamma': 1e-05, 'kernel': 'sigmoid'}\n",
      "0.921 (+/-0.035) for {'C': 1000, 'gamma': 1e-05, 'kernel': 'poly'}\n"
     ]
    }
   ],
   "source": [
    "from sklearn.model_selection import GridSearchCV\n",
    "tuned_parameters = {\"kernel\":[\"rbf\", \"linear\", \"sigmoid\", \"poly\"], \n",
    "                                       \"gamma\":[1e-2, 1e-3, 1e-4, 1e-5], \n",
    "                                        \"C\":[1e-2, 1e-1, 1, 10, 100, 1000]}\n",
    "\n",
    "scores = [\"precision\", \"recall\"]\n",
    "\n",
    "for score in scores:\n",
    "    print(\"# Tuning hyper-parameters for %s\" % score)\n",
    "    clf = GridSearchCV(SVC(), tuned_parameters, cv=5, scoring=\"%s_macro\" % score, n_jobs=10)\n",
    "    clf.fit(x_train, y_train)\n",
    "    print(clf.best_params_)\n",
    "    print(\"Grid scores on development　set:\")\n",
    "    means = clf.cv_results_[\"mean_test_score\"]\n",
    "    stds = clf.cv_results_[\"std_test_score\"]\n",
    "    for mean, std, params in zip (means, stds, clf.cv_results_[\"params\"]):\n",
    "        print(\"%0.3f (+/-%0.03f) for %r\" % (mean, std * 2, params))"
   ]
  },
  {
   "cell_type": "code",
   "execution_count": 34,
   "metadata": {
    "collapsed": true
   },
   "outputs": [],
   "source": [
    "from sklearn.model_selection import learning_curve\n",
    "def plot_learning_curve(estimator, title, x, y, ylim=None, cv=None,\n",
    "                                           n_jobs=4, train_sizes=np.linspace(.1, 1.0, 5)):\n",
    "    plt.figure()\n",
    "    plt.title(title)\n",
    "    if ylim is not None:\n",
    "        plt.ylim(*ylim)\n",
    "    plt.ylabel(\"Score\")\n",
    "    train_sizes, train_scores, test_scores = learning_curve(estimator, x, y, cv=cv, n_jobs=n_jobs, train_sizes=train_sizes)\n",
    "    train_scores_mean = np.mean(train_scores, axis=1)\n",
    "    train_scores_std = np.std(train_scores, axis=1)\n",
    "    test_scores_mean = np.mean(test_scores, axis=1)\n",
    "    test_scores_std = np.std(test_scores, axis=1)\n",
    "    plt.grid\n",
    "    \n",
    "    plt.fill_between(train_sizes, train_scores_mean - train_scores_std, \n",
    "                                train_scores_mean + train_scores_std, alpha=0.1)\n",
    "    plt.fill_between(train_sizes, test_scores_mean - test_scores_std, \n",
    "                                 test_scores_mean + test_scores_std, alpha=0.1)\n",
    "    plt.plot(train_sizes, train_scores_mean, \"o-\", label=\"Training score\")\n",
    "    plt.plot(train_sizes, test_scores_mean, \"o-\", label=\"Cross-validation score\")\n",
    "    plt.legend(loc=\"best\")\n",
    "    return plt"
   ]
  },
  {
   "cell_type": "code",
   "execution_count": 35,
   "metadata": {},
   "outputs": [
    {
     "data": {
      "text/plain": [
       "<module 'matplotlib.pyplot' from '/Users/hidehiro/.pyenv/versions/3.6.2/lib/python3.6/site-packages/matplotlib/pyplot.py'>"
      ]
     },
     "execution_count": 35,
     "metadata": {},
     "output_type": "execute_result"
    },
    {
     "data": {
      "image/png": "[encoded data removed]",
      "text/plain": [
       "<matplotlib.figure.Figure at 0x113890940>"
      ]
     },
     "metadata": {},
     "output_type": "display_data"
    }
   ],
   "source": [
    "from sklearn.model_selection import ShuffleSplit\n",
    "title = \"Learning Curves (SVM, RBF kernel, $\\gamma=0.001$)\"\n",
    "cv = ShuffleSplit(n_splits=10, test_size=0.2)\n",
    "estimator = SVC(gamma=0.001, C=1.0)\n",
    "plot_learning_curve(estimator, title, x, y, (0.7, 1.01), cv=cv, n_jobs=4)"
   ]
  },
  {
   "cell_type": "code",
   "execution_count": null,
   "metadata": {
    "collapsed": true
   },
   "outputs": [],
   "source": [
    "from sklearn.linear_model import Perceptron\n",
    "title = \"Learning Curves (Perceptron)\"\n",
    "cv = ShuffleSplit(n_splits=100, test_size=0.2, random_state=0)\n",
    "estimator = Perceptron(max_iter=10, eta0=0.01, shuffle=True)\n",
    "plot_learning_curve(estimator, title, x, y, ylim=(0.7, 1.01), cv=cv, n_jobs=4)"
   ]
  },
  {
   "cell_type": "code",
   "execution_count": null,
   "metadata": {
    "collapsed": true
   },
   "outputs": [],
   "source": []
  }
 ],
 "metadata": {
  "kernelspec": {
   "display_name": "Python [default]",
   "language": "python",
   "name": "python3"
  },
  "language_info": {
   "codemirror_mode": {
    "name": "ipython",
    "version": 3
   },
   "file_extension": ".py",
   "mimetype": "text/x-python",
   "name": "python",
   "nbconvert_exporter": "python",
   "pygments_lexer": "ipython3",
   "version": "3.6.2"
  }
 },
 "nbformat": 4,
 "nbformat_minor": 2
}
