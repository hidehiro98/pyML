{
 "cells": [
  {
   "cell_type": "markdown",
   "metadata": {},
   "source": [
    "# Exercise of chapter7"
   ]
  },
  {
   "cell_type": "code",
   "execution_count": 1,
   "metadata": {
    "collapsed": true
   },
   "outputs": [],
   "source": [
    "import theano"
   ]
  },
  {
   "cell_type": "code",
   "execution_count": 2,
   "metadata": {
    "collapsed": true
   },
   "outputs": [],
   "source": [
    "from theano import tensor as T"
   ]
  },
  {
   "cell_type": "code",
   "execution_count": 12,
   "metadata": {},
   "outputs": [],
   "source": [
    "x = T.dmatrix()\n",
    "w = T.dmatrix()\n",
    "b = T.dmatrix()\n",
    "\n",
    "# w = T.dvector()\n",
    "# b = T.dvector()\n",
    "\n",
    "y = T.dot(x, w) + b\n",
    "\n",
    "f = theano.function([x, w, b], y)"
   ]
  },
  {
   "cell_type": "code",
   "execution_count": 14,
   "metadata": {},
   "outputs": [
    {
     "data": {
      "text/plain": [
       "array([[ 1.],\n",
       "       [ 4.]])"
      ]
     },
     "execution_count": 14,
     "metadata": {},
     "output_type": "execute_result"
    }
   ],
   "source": [
    "f([[1,2],[3,4]], [[1],[0]], [[0],[1]])"
   ]
  },
  {
   "cell_type": "code",
   "execution_count": 49,
   "metadata": {},
   "outputs": [
    {
     "name": "stdout",
     "output_type": "stream",
     "text": [
      "x_final: -1.9385371912\n"
     ]
    }
   ],
   "source": [
    "import numpy as np\n",
    "\n",
    "def f(x):\n",
    "    return x**4 - 7*x**2 + 2*x\n",
    "\n",
    "x_init = -1.0\n",
    "lr = 0.01\n",
    "steps=10000\n",
    "\n",
    "x = theano.shared(x_init, name='x')\n",
    "y = f(x)\n",
    "gy = T.grad(cost=y, wrt=x)\n",
    "\n",
    "train=theano.function(inputs=[], outputs=[y], updates=({x:x-lr*gy}))\n",
    "\n",
    "for _ in range(steps):\n",
    "    train()\n",
    "    \n",
    "x_fin=x.get_value()\n",
    "print('x_final: %.10f' % x_fin)"
   ]
  },
  {
   "cell_type": "code",
   "execution_count": 50,
   "metadata": {
    "collapsed": true
   },
   "outputs": [],
   "source": [
    "class LinearRegression(object):\n",
    "    def __init__(self, X, n_in):\n",
    "        self.W = theano.shared(value=np.random.randn(n_in), name='W', borrow=True)\n",
    "        self.b = theano.shared(value=.0, name='b', borrow=True)\n",
    "        self.y_pred = T.dot(X, self.W) + self.b\n",
    "        self.params = [self.W, self.b]\n",
    "        self.X = X\n",
    "        \n",
    "    def square_error(self, y):\n",
    "        return T.sum(T.pow(y - self.y_pred, 2))"
   ]
  },
  {
   "cell_type": "code",
   "execution_count": 52,
   "metadata": {},
   "outputs": [],
   "source": [
    "X = T.dmatrix('X') # double matrix\n",
    "y = T.dvector('y')\n",
    "n_in = 1\n",
    "\n",
    "lr = LinearRegression(X, n_in)\n",
    "cost = lr.square_error(y)\n",
    "gw, gb = T.grad(cost, [lr.W, lr.b])\n",
    "\n",
    "learning_rate = 0.01\n",
    "updates = ((lr.W, lr.W - learning_rate * gw), (lr.b, lr.b - learning_rate * gb))\n",
    "train = theano.function(inputs=[lr.X, y], outputs=[cost], updates=updates)\n",
    "epochs=10\n",
    "costs=[]\n",
    "\n",
    "sample=[[i] for i in range(1,6)]\n",
    "X_train=np.array(sample,dtype=theano.config.floatX)\n",
    "y_train=np.array([1.1,2.2,2.9,3.8,5.3],dtype=theano.config.floatX)\n",
    "\n",
    "for i in range(epochs):\n",
    "    costs.append(train(X_train,y_train))"
   ]
  },
  {
   "cell_type": "code",
   "execution_count": 53,
   "metadata": {},
   "outputs": [
    {
     "data": {
      "text/plain": [
       "[[array(126.94134124251667)],\n",
       " [array(4.514602698209664)],\n",
       " [array(0.40727604195212974)],\n",
       " [array(0.2665757145301363)],\n",
       " [array(0.2589527707708873)],\n",
       " [array(0.2558885176201109)],\n",
       " [array(0.25307124784713414)],\n",
       " [array(0.2503532598762426)],\n",
       " [array(0.2477265514459954)],\n",
       " [array(0.24518790582600514)]]"
      ]
     },
     "execution_count": 53,
     "metadata": {},
     "output_type": "execute_result"
    }
   ],
   "source": [
    "costs"
   ]
  },
  {
   "cell_type": "code",
   "execution_count": null,
   "metadata": {
    "collapsed": true
   },
   "outputs": [],
   "source": []
  }
 ],
 "metadata": {
  "kernelspec": {
   "display_name": "Python [default]",
   "language": "python",
   "name": "python3"
  },
  "language_info": {
   "codemirror_mode": {
    "name": "ipython",
    "version": 3
   },
   "file_extension": ".py",
   "mimetype": "text/x-python",
   "name": "python",
   "nbconvert_exporter": "python",
   "pygments_lexer": "ipython3",
   "version": "3.6.2"
  }
 },
 "nbformat": 4,
 "nbformat_minor": 2
}
