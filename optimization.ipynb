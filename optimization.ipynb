{
 "cells": [
  {
   "cell_type": "markdown",
   "metadata": {},
   "source": [
    "## 目的関数の最適化"
   ]
  },
  {
   "cell_type": "markdown",
   "metadata": {
    "collapsed": true
   },
   "source": [
    "## ロジスティック回帰の尤度関数"
   ]
  },
  {
   "cell_type": "code",
   "execution_count": 1,
   "metadata": {
    "collapsed": true
   },
   "outputs": [],
   "source": [
    "import numpy as np\n",
    "def logit(x,w):\n",
    "    return 1/(1+np.exp(-x+w))"
   ]
  },
  {
   "cell_type": "markdown",
   "metadata": {},
   "source": [
    "与えられたデータが$x=0,2,3,5,6,7,9$でそれぞれの分類が$y=0,0,0,1,0,1,1$の場合の尤度関数を計算する。"
   ]
  },
  {
   "cell_type": "code",
   "execution_count": 2,
   "metadata": {},
   "outputs": [
    {
     "data": {
      "text/plain": [
       "6.9352847482798534e-06"
      ]
     },
     "execution_count": 2,
     "metadata": {},
     "output_type": "execute_result"
    }
   ],
   "source": [
    "(1-logit(0,0))*(1-logit(2,0))*(1-logit(3,0))*logit(5,0)*(1-logit(6,0))*logit(7,0)*logit(9,0)"
   ]
  },
  {
   "cell_type": "code",
   "execution_count": 3,
   "metadata": {
    "collapsed": true
   },
   "outputs": [],
   "source": [
    "def liklihood(w):\n",
    "    return (1-logit(0,w))*(1-logit(2,w))*(1-logit(3,w))*logit(5,w)*(1-logit(6,w))*logit(7,w)*logit(9,w)"
   ]
  },
  {
   "cell_type": "code",
   "execution_count": 4,
   "metadata": {},
   "outputs": [
    {
     "name": "stdout",
     "output_type": "stream",
     "text": [
      "0:6.93528474828e-06\n",
      "1:0.000153604759101\n",
      "2:0.00201386206814\n",
      "3:0.0142480219087\n",
      "4:0.05213952268\n",
      "5:0.0969347198627\n",
      "6:0.0873815714263\n",
      "7:0.037401606048\n",
      "8:0.00813511682479\n",
      "9:0.0010175850826\n"
     ]
    }
   ],
   "source": [
    "for w in range(10):\n",
    "    print(str(w)+':'+str(liklihood(w)))"
   ]
  },
  {
   "cell_type": "code",
   "execution_count": 5,
   "metadata": {},
   "outputs": [
    {
     "data": {
      "image/png": "[encoded data removed]",
      "text/plain": [
       "<matplotlib.figure.Figure at 0x104d9db00>"
      ]
     },
     "metadata": {},
     "output_type": "display_data"
    }
   ],
   "source": [
    "import matplotlib.pyplot as plt\n",
    "x=np.linspace(0,10,100)\n",
    "y=[liklihood(w) for w in x]\n",
    "plt.plot(x,y)\n",
    "plt.show()"
   ]
  },
  {
   "cell_type": "markdown",
   "metadata": {},
   "source": [
    "与えられたデータが$x=150,160,165,170$でそれぞれの分類が$y=0,0,1,1$の場合の尤度関数を計算する。"
   ]
  },
  {
   "cell_type": "code",
   "execution_count": 6,
   "metadata": {},
   "outputs": [
    {
     "data": {
      "image/png": "[encoded data removed]",
      "text/plain": [
       "<matplotlib.figure.Figure at 0x105e95b38>"
      ]
     },
     "metadata": {},
     "output_type": "display_data"
    }
   ],
   "source": [
    "def liklihood(w):\n",
    "    return (1-logit(150,w))*(1-logit(160,w))*logit(165,w)*logit(170,w)\n",
    "w=np.linspace(150,170)\n",
    "l=liklihood(w)\n",
    "plt.plot(w,l)\n",
    "plt.show()"
   ]
  },
  {
   "cell_type": "markdown",
   "metadata": {},
   "source": [
    "### Newton法\n",
    "$f(x)=0$の解を求めよう。\n",
    "$f'(x)$が接線の傾きであったことを思い出す。\n",
    "まず適当な$x_0$で$f(x_0)$の値を計算する。\n",
    "$(x_0,f(x_0))$から接線を引いて、$x$軸との交点を求めて$x_1$とする。\n",
    "接線の式$y=f'(x_0)(x-x_0)+f(x_0)$となり、これと$y=0$の交点は$x=x_0-\\dfrac{f(x_0)}{f'(x_0)}$である。\n",
    "これを$x_2, x_3,\\ldots$と同じように$x_{n+1}=x_n-\\dfrac{f(x_n)}{f'(x_n)}$という式に従って更新していく。\n",
    "これを繰り返すと$f(x)=0$の解に近づく。"
   ]
  },
  {
   "cell_type": "markdown",
   "metadata": {},
   "source": [
    "$x^2=2$の解を上の方法で求めるコードを書こう。"
   ]
  },
  {
   "cell_type": "code",
   "execution_count": 7,
   "metadata": {},
   "outputs": [
    {
     "name": "stdout",
     "output_type": "stream",
     "text": [
      "1.5\n",
      "1.4166666666666667\n",
      "1.4142156862745099\n",
      "1.4142135623746899\n",
      "1.4142135623730951\n",
      "1.414213562373095\n",
      "1.4142135623730951\n",
      "1.414213562373095\n",
      "1.4142135623730951\n",
      "1.414213562373095\n"
     ]
    }
   ],
   "source": [
    "def f(x):\n",
    "    return x**2-2\n",
    "\n",
    "def df(x):\n",
    "    return 2*x\n",
    "\n",
    "x=2\n",
    "for n in range(10):\n",
    "    x=x-f(x)/df(x)\n",
    "    print(x)"
   ]
  },
  {
   "cell_type": "markdown",
   "metadata": {},
   "source": [
    "$x^3=5$となる$x$の近似値を上と同じ方法で求めよう。"
   ]
  },
  {
   "cell_type": "code",
   "execution_count": 8,
   "metadata": {},
   "outputs": [
    {
     "name": "stdout",
     "output_type": "stream",
     "text": [
      "1.75\n",
      "1.7108843537414966\n",
      "1.7099764289169748\n",
      "1.709975946676833\n",
      "1.709975946676697\n",
      "1.709975946676697\n",
      "1.709975946676697\n",
      "1.709975946676697\n",
      "1.709975946676697\n",
      "1.709975946676697\n"
     ]
    }
   ],
   "source": [
    "def f(x):\n",
    "    return x**3-5\n",
    "\n",
    "def df(x):\n",
    "    return 3*x**2\n",
    "\n",
    "x=2\n",
    "for n in range(10):\n",
    "    x=x-f(x)/df(x)\n",
    "    print(x)"
   ]
  },
  {
   "cell_type": "markdown",
   "metadata": {},
   "source": [
    "### 勾配\n",
    "\n",
    "関数$f(x,y)$の値が$(x,y)$を変化させた時に最も変化する方向を求める。\n",
    "$$\n",
    "grad~f=\\begin{pmatrix}\\frac{\\partial f}{\\partial x}\\\\ \\frac{\\partial f}{\\partial y}\\end{pmatrix}\n",
    "$$\n",
    "を計算すればよい。\n",
    "これを$f$の勾配という。\n",
    "\n",
    "例えば$y=f(x)$の場合、どのようになるか。\n",
    "法線の方向は$(f'(x),-1)$で$x$を正の方向に動かすか負の方向に動かすか。\n",
    "$f'(x)>0$なら$x$を増加させると$f(x)$も増加する。\n",
    "$f'(x)<0$なら$x$を増加させると$f(x)$は減少する。"
   ]
  },
  {
   "cell_type": "markdown",
   "metadata": {},
   "source": [
    "### 勾配法\n",
    "$f(x,y)$の最小値、最大値を求めたい。\n",
    "勾配$grad~f$の向きに少しづつ更新していく。\n",
    "初期値$(x_0,y_0)$とし、$(x_1,y_1)=(x_0,y_0)+\\lambda grad(f)(x_0,y_0)$と更新する。\n",
    "$\\lambda$は適当なパラメータを設定しておく。\n",
    "\n",
    "ニュートン法と同様に初期値によっては収束しなかったり、局所最適にしかならなかったりする。"
   ]
  },
  {
   "cell_type": "markdown",
   "metadata": {},
   "source": [
    "$f(x)=x^2+x$の最小値を求めよう。"
   ]
  },
  {
   "cell_type": "code",
   "execution_count": 1,
   "metadata": {},
   "outputs": [
    {
     "data": {
      "image/png": "[encoded data removed]",
      "text/plain": [
       "<matplotlib.figure.Figure at 0x1102accf8>"
      ]
     },
     "metadata": {},
     "output_type": "display_data"
    }
   ],
   "source": [
    "import numpy as np\n",
    "import matplotlib.pyplot as plt\n",
    "def f(x):\n",
    "    return x**2+x\n",
    "\n",
    "x=np.linspace(-3,3)\n",
    "y=[f(z) for z in x]\n",
    "plt.plot(x,y)\n",
    "plt.show()"
   ]
  },
  {
   "cell_type": "code",
   "execution_count": 6,
   "metadata": {},
   "outputs": [
    {
     "data": {
      "text/plain": [
       "[1,\n",
       " 0.10000000000000009,\n",
       " -0.25999999999999995,\n",
       " -0.40399999999999997,\n",
       " -0.4616,\n",
       " -0.48464,\n",
       " -0.493856,\n",
       " -0.4975424,\n",
       " -0.49901696,\n",
       " -0.499606784,\n",
       " -0.4998427136]"
      ]
     },
     "execution_count": 6,
     "metadata": {},
     "output_type": "execute_result"
    }
   ],
   "source": [
    "def df(x):\n",
    "    return 2*x+1\n",
    "l=.3\n",
    "x=[1]\n",
    "for n in range(10):\n",
    "    x.append(x[n]-l*df(x[n]))\n",
    "x"
   ]
  },
  {
   "cell_type": "code",
   "execution_count": 7,
   "metadata": {},
   "outputs": [
    {
     "data": {
      "image/png": "[encoded data removed]",
      "text/plain": [
       "<matplotlib.figure.Figure at 0x114561518>"
      ]
     },
     "metadata": {},
     "output_type": "display_data"
    }
   ],
   "source": [
    "plt.plot(x,[f(i) for i in x])\n",
    "x=np.linspace(-2,2)\n",
    "y=[f(z) for z in x]\n",
    "plt.plot(x,y)\n",
    "plt.show()"
   ]
  },
  {
   "cell_type": "markdown",
   "metadata": {},
   "source": [
    "$f(x)=x^4-7x^2+2x$の最小値を勾配法で求めよう。"
   ]
  },
  {
   "cell_type": "code",
   "execution_count": 15,
   "metadata": {},
   "outputs": [
    {
     "data": {
      "text/plain": [
       "[<matplotlib.lines.Line2D at 0x1148b6390>]"
      ]
     },
     "execution_count": 15,
     "metadata": {},
     "output_type": "execute_result"
    },
    {
     "data": {
      "image/png": "[encoded data removed]",
      "text/plain": [
       "<matplotlib.figure.Figure at 0x11456ffd0>"
      ]
     },
     "metadata": {},
     "output_type": "display_data"
    }
   ],
   "source": [
    "import numpy as np\n",
    "import matplotlib.pyplot as plt\n",
    "%matplotlib inline\n",
    "def f(x):\n",
    "    return x**4-7*x**2+2*x\n",
    "\n",
    "x=np.linspace(-3,3)\n",
    "y=[f(z) for z in x]\n",
    "plt.plot(x,y)"
   ]
  },
  {
   "cell_type": "code",
   "execution_count": 35,
   "metadata": {},
   "outputs": [
    {
     "data": {
      "text/plain": [
       "[3,\n",
       " 2.32,\n",
       " 2.12531328,\n",
       " 2.018859230571959,\n",
       " 1.9523614629318915,\n",
       " 1.9080182267771058,\n",
       " 1.8772926034987296,\n",
       " 1.855473317798595,\n",
       " 1.8397200336117878,\n",
       " 1.8282144035162233,\n",
       " 1.819741814161247,\n",
       " 1.8134655593586562,\n",
       " 1.8087960651281296,\n",
       " 1.8053108648173852,\n",
       " 1.8027034233174581,\n",
       " 1.8007492321702672,\n",
       " 1.799282701938131,\n",
       " 1.7981810545751205,\n",
       " 1.7973528937880632,\n",
       " 1.796729981006542,\n",
       " 1.796261253437539]"
      ]
     },
     "execution_count": 35,
     "metadata": {},
     "output_type": "execute_result"
    }
   ],
   "source": [
    "def df(x):\n",
    "    return 4*x**3-14*x+2\n",
    "l=.01\n",
    "x=[3]\n",
    "for n in range(20):\n",
    "    x.append(x[n]-l*df(x[n]))\n",
    "x"
   ]
  },
  {
   "cell_type": "code",
   "execution_count": 36,
   "metadata": {},
   "outputs": [
    {
     "data": {
      "image/png": "[encoded data removed]",
      "text/plain": [
       "<matplotlib.figure.Figure at 0x1143e0048>"
      ]
     },
     "metadata": {},
     "output_type": "display_data"
    }
   ],
   "source": [
    "plt.plot(x,[f(i) for i in x])\n",
    "xx=np.linspace(-3,3)\n",
    "y=[f(z) for z in xx]\n",
    "plt.plot(xx,y)\n",
    "plt.show()"
   ]
  },
  {
   "cell_type": "markdown",
   "metadata": {},
   "source": [
    "初期値や$l$を変化させて何が起こるか観察してみよう。"
   ]
  },
  {
   "cell_type": "markdown",
   "metadata": {},
   "source": [
    "$f(x,y)=x^2+y^2$の最小値を勾配法で求めよう。"
   ]
  },
  {
   "cell_type": "code",
   "execution_count": 13,
   "metadata": {},
   "outputs": [
    {
     "name": "stdout",
     "output_type": "stream",
     "text": [
      "[ 0.6  0.6]\n",
      "0.72\n",
      "[ 0.36  0.36]\n",
      "0.2592\n",
      "[ 0.216  0.216]\n",
      "0.093312\n",
      "[ 0.1296  0.1296]\n",
      "0.03359232\n",
      "[ 0.07776  0.07776]\n",
      "0.0120932352\n",
      "[ 0.046656  0.046656]\n",
      "0.004353564672\n",
      "[ 0.0279936  0.0279936]\n",
      "0.00156728328192\n",
      "[ 0.01679616  0.01679616]\n",
      "0.000564221981491\n",
      "[ 0.0100777  0.0100777]\n",
      "0.000203119913337\n",
      "[ 0.00604662  0.00604662]\n",
      "7.31231688013e-05\n"
     ]
    }
   ],
   "source": [
    "def f(x,y):\n",
    "    return x**2+y**2\n",
    "\n",
    "def gradf(x):\n",
    "    return 2*x\n",
    "\n",
    "n=10\n",
    "x=np.array([1,1])\n",
    "l=.2\n",
    "for i in range(n):\n",
    "    x=x-l*gradf(x)\n",
    "    print(x)\n",
    "    print(f(x[0],x[1]))"
   ]
  },
  {
   "cell_type": "markdown",
   "metadata": {},
   "source": [
    "3Dプロット？"
   ]
  },
  {
   "cell_type": "markdown",
   "metadata": {},
   "source": [
    "### ロジスティック回帰\n",
    "\n",
    "ここでは2クラス分類する場合を考える。\n",
    "説明変数$x=(x_1,\\ldots,x_k)$で与えられたデータをクラスaまたはクラスbの二つに分類する。\n",
    "クラスを表す変数を\n",
    "$$\n",
    "y=\\begin{cases}1&\\mbox{クラスa}\\\\\n",
    "0&\\mbox{クラスb}\\end{cases}\n",
    "$$\n",
    "とする。\n",
    "するとデータ$x$がクラス$y$となる確率を$P(a\\mid X=x)^{y}P(b\\mid X=x)^{1-y}$と表すことができる。\n",
    "記述を単純化するため$x=(x_0=1,x_1,\\ldots,x_k)$としておく。\n",
    "ロジスティック回帰のモデルは、パラメータ$w=(w_0,\\ldots,w_k)$を使って、クラスaになる確率を\n",
    "$$P(a\\mid X=x)=\\frac{1}{1+\\exp(-w^Tx)}$$とするもの。\n",
    "このとき、\n",
    "$$P(b\\mid X=x)=1-\\frac{1}{1+\\exp(-w^Tx)}=\\frac{\\exp(-w^Tx)}{1+\\exp(-w^Tx)}$$\n",
    "となる。\n",
    "\n",
    "\n",
    "クラスラベルが$1,\\ldots,m$の多クラス分類の場合、パラメータを$w_1,\\ldots,w_m$として、確率を表すモデルを\n",
    "$P(G=k\\mid X=x)=\\dfrac{\\exp(w_k^Tx)}{\\sum_l\\exp(w_l^Tx)}$とする。"
   ]
  },
  {
   "cell_type": "markdown",
   "metadata": {},
   "source": [
    "$f(x)=\\dfrac{1}{1+\\exp(-x)}$のグラフ"
   ]
  },
  {
   "cell_type": "code",
   "execution_count": 14,
   "metadata": {},
   "outputs": [
    {
     "data": {
      "image/png": "[encoded data removed]",
      "text/plain": [
       "<matplotlib.figure.Figure at 0x1061bc438>"
      ]
     },
     "metadata": {},
     "output_type": "display_data"
    }
   ],
   "source": [
    "import numpy as np\n",
    "def sigmoid(x):\n",
    "    return 1/(1+np.exp(-x))\n",
    "import matplotlib.pyplot as plt\n",
    "x=np.linspace(-5,5,100)\n",
    "y=[sigmoid(i) for i in x]\n",
    "plt.plot(x,y)\n",
    "plt.show()"
   ]
  },
  {
   "cell_type": "markdown",
   "metadata": {},
   "source": [
    "尤度関数を計算しよう。\n",
    "$$\n",
    "P(a\\mid X=x)^yP(b\\mid X=x)^{1-y}=(\\frac{1}{1+\\exp(-w^Tx)})^{y}(\\frac{\\exp(-w^Tx)}{1+\\exp(-w^Tx)})^{1-y}\\\\\n",
    "=\\frac{\\exp(-w^Tx)^{1-y}}{1+\\exp(-w^Tx)}=\\frac{\\exp(-(1-y)w^Tx)}{1+\\exp(-w^Tx)}\\\\\n",
    "=\\frac{1}{1+\\exp((-1)^yw^Tx)}\n",
    "$$\n",
    "であるので、\n",
    "\n",
    "$$\n",
    "L(w_0,w_1,\\ldots,w_k)=\\prod_{i=1}^NP(a\\mid X=x^{(i)})^{y^{(i)}}P(b\\mid X=x^{(i)})^{1-y^{(i)}}\\\\\n",
    "=\\prod_{i=1}^N\\frac{1}{1+\\exp((-1)^{y^{(i)}}w^Tx^{(i)})}\n",
    "$$\n",
    "と計算できる。\n",
    "\n",
    "ここで計算しやすいように対数尤度関数$l(w)=\\log L(w)$を考えると、\n",
    "$$\n",
    "l(w_0,\\ldots,w_k)=-\\sum_{i=1}^N\\log(1+\\exp((-1)^{y^{(i)}}w^Tx^{(i)})\n",
    "$$\n",
    "と計算できる。\n",
    "\n",
    "最尤推定でパラメータを決めることにすると、$l(w_0,\\ldots,w_k)$を最も大きくするパラメータ$w$を探す。"
   ]
  },
  {
   "cell_type": "markdown",
   "metadata": {},
   "source": [
    "### 勾配法と確率勾配法\n",
    "\n",
    "勾配法でこれを求めることにしよう。\n",
    "そのために$grad(l(w))$を計算しよう。\n",
    "\n",
    "$$\n",
    "(\\log(1+\\exp(aw+b)))'=\\frac{a\\exp(aw+b)}{1+\\exp(aw+b)}\n",
    "$$\n",
    "となることを使えば\n",
    "$$\n",
    "grad(l(w))=-\\sum_{i=1}^N\\dfrac{(-1)^{y^{(i)}}\\exp((-1)^{y^{(i)}}w^Tx)}{1+\\exp((-1)^{y^{(i)}}w^Tx)}x^{(i)}\n",
    "$$\n",
    "となる。\n",
    "\n",
    "これを用いて勾配法により尤度関数$l(w)$を最適化する。\n",
    "全てのデータを使って更新するのではなく、一部のデータを用いて更新するのが確率勾配法。"
   ]
  },
  {
   "cell_type": "markdown",
   "metadata": {},
   "source": [
    "### 正則化\n",
    "\n",
    "損失関数を\n",
    "$$\n",
    "\\min_{w,c}\\frac{1}{2}w^Tw+C\\sum^n_{i=1}\\log(\\exp(-y_i(X_i^Tw+c))+1)\n",
    "$$\n",
    "としたのが$L2$正則化という。\n",
    "\n",
    "$$\n",
    "\\min_{w,c}\\vert\\vert w\\vert\\vert_1+C\\sum^n_{i=1}\\log(\\exp(-y_i(X_i^Tw+c))+1)\n",
    "$$\n",
    "としたのが$L1$正則化という。\n",
    "とする。\n",
    "\n",
    "第一項を正則化項という。\n",
    "これがパラメータ$w$の大きさを抑える効果がある。\n",
    "特に$L1$正則化ではパラメータが$0$になりやすい傾向がある。"
   ]
  }
 ],
 "metadata": {
  "kernelspec": {
   "display_name": "Python 3",
   "language": "python",
   "name": "python3"
  },
  "language_info": {
   "codemirror_mode": {
    "name": "ipython",
    "version": 3
   },
   "file_extension": ".py",
   "mimetype": "text/x-python",
   "name": "python",
   "nbconvert_exporter": "python",
   "pygments_lexer": "ipython3",
   "version": "3.6.1"
  }
 },
 "nbformat": 4,
 "nbformat_minor": 1
}
