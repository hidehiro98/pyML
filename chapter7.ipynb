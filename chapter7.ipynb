{
 "cells": [
  {
   "cell_type": "markdown",
   "metadata": {},
   "source": [
    "## Theano\n",
    "\n",
    "Theanoとは？\n",
    "- GPUへの最適化\n",
    "- 自動微分\n",
    "\n",
    "参考ページ\n",
    "- http://deeplearning.net/software/theano/tutorial/index.html\n",
    "- http://deeplearning.net/tutorial/logreg.html"
   ]
  },
  {
   "cell_type": "code",
   "execution_count": 2,
   "metadata": {},
   "outputs": [
    {
     "name": "stdout",
     "output_type": "stream",
     "text": [
      "float64\n",
      "cpu\n"
     ]
    }
   ],
   "source": [
    "import theano\n",
    "\n",
    "print(theano.config.floatX)\n",
    "print(theano.config.device)"
   ]
  },
  {
   "cell_type": "code",
   "execution_count": 3,
   "metadata": {},
   "outputs": [
    {
     "name": "stdout",
     "output_type": "stream",
     "text": [
      "float32\n"
     ]
    }
   ],
   "source": [
    "theano.config.floatX='float32'\n",
    "print(theano.config.floatX)"
   ]
  },
  {
   "cell_type": "code",
   "execution_count": 4,
   "metadata": {},
   "outputs": [
    {
     "name": "stderr",
     "output_type": "stream",
     "text": [
      "Using TensorFlow backend.\n",
      "/Users/hidehiro/.pyenv/versions/anaconda3-5.0.0/lib/python3.6/importlib/_bootstrap.py:205: RuntimeWarning: compiletime version 3.5 of module 'tensorflow.python.framework.fast_tensor_util' does not match runtime version 3.6\n",
      "  return f(*args, **kwds)\n"
     ]
    }
   ],
   "source": [
    "import keras"
   ]
  },
  {
   "cell_type": "markdown",
   "metadata": {},
   "source": [
    "#### シンボリック変数\n",
    "変数を記号として扱う。scalar, vector, matrixなどの次元。\n",
    "d, fなどを頭につけると数値の型を決めることができる。\n",
    "データに使う（最後にデータ入れて計算するとき）。更新していく変数（パラメータ）には共有変数を使う"
   ]
  },
  {
   "cell_type": "code",
   "execution_count": 5,
   "metadata": {},
   "outputs": [
    {
     "name": "stdout",
     "output_type": "stream",
     "text": [
      "<class 'theano.tensor.var.TensorVariable'>\n",
      "TensorType(float64, scalar)\n"
     ]
    }
   ],
   "source": [
    "from theano import tensor as T\n",
    "\n",
    "#double型の0-d array(scalar)の記号x, yを定義\n",
    "# 'x' は名前\n",
    "x=T.dscalar('x')\n",
    "print(type(x))\n",
    "print(x.type)"
   ]
  },
  {
   "cell_type": "markdown",
   "metadata": {},
   "source": [
    "関数の式を定義できる。"
   ]
  },
  {
   "cell_type": "code",
   "execution_count": 6,
   "metadata": {},
   "outputs": [
    {
     "name": "stdout",
     "output_type": "stream",
     "text": [
      "(x + y)\n"
     ]
    }
   ],
   "source": [
    "y=T.dscalar('y')\n",
    "z=x+y\n",
    "print(theano.pp(z))"
   ]
  },
  {
   "cell_type": "code",
   "execution_count": 7,
   "metadata": {},
   "outputs": [
    {
     "data": {
      "text/plain": [
       "Elemwise{add,no_inplace}.0"
      ]
     },
     "execution_count": 7,
     "metadata": {},
     "output_type": "execute_result"
    }
   ],
   "source": [
    "z"
   ]
  },
  {
   "cell_type": "markdown",
   "metadata": {},
   "source": [
    "実際に値を計算することもできる"
   ]
  },
  {
   "cell_type": "code",
   "execution_count": 8,
   "metadata": {},
   "outputs": [
    {
     "data": {
      "text/plain": [
       "array(5.0)"
      ]
     },
     "execution_count": 8,
     "metadata": {},
     "output_type": "execute_result"
    }
   ],
   "source": [
    "f=theano.function([x,y],z)\n",
    "f(2,3)"
   ]
  },
  {
   "cell_type": "code",
   "execution_count": 9,
   "metadata": {},
   "outputs": [
    {
     "data": {
      "text/plain": [
       "array([[ 11.,  22.],\n",
       "       [ 33.,  44.]])"
      ]
     },
     "execution_count": 9,
     "metadata": {},
     "output_type": "execute_result"
    }
   ],
   "source": [
    "#行列の足し算。サイズ指定の必要なし\n",
    "x=T.dmatrix('x')\n",
    "y=T.dmatrix('y')\n",
    "z=x + y\n",
    "f=theano.function([x,y],z)\n",
    "f([[1,2],[3,4]],[[10,20],[30,40]])"
   ]
  },
  {
   "cell_type": "code",
   "execution_count": 10,
   "metadata": {},
   "outputs": [
    {
     "data": {
      "text/plain": [
       "array([[ 0.5       ,  0.73105858],\n",
       "       [ 0.26894142,  0.11920292]])"
      ]
     },
     "execution_count": 10,
     "metadata": {},
     "output_type": "execute_result"
    }
   ],
   "source": [
    "x=T.dmatrix('x')\n",
    "s=1/(1+T.exp(-x))\n",
    "logistic=theano.function([x],s)\n",
    "logistic([[0,1],[-1,-2]])"
   ]
  },
  {
   "cell_type": "markdown",
   "metadata": {},
   "source": [
    "下のような書き方もできる"
   ]
  },
  {
   "cell_type": "code",
   "execution_count": 11,
   "metadata": {},
   "outputs": [
    {
     "name": "stdout",
     "output_type": "stream",
     "text": [
      "Net input: 2.50\n"
     ]
    }
   ],
   "source": [
    "x1=T.scalar()\n",
    "w1=T.scalar()\n",
    "w0=T.scalar()\n",
    "z1=w1*x1+w0\n",
    "\n",
    "net_input=theano.function(inputs=[w1,x1,w0],outputs=z1)\n",
    "\n",
    "print('Net input: %.2f' % net_input(2.0,1.0,0.5))"
   ]
  },
  {
   "cell_type": "markdown",
   "metadata": {},
   "source": [
    "問題。行列の積は`T.dot(x,y)`で計算できる。これを用いて以下の計算を実装し、いくつかの数値例で確かめよ。\n",
    "\n",
    "$w, b$はベクトル、$X$は行列として、\n",
    "$$\n",
    "y=wX+b\n",
    "$$"
   ]
  },
  {
   "cell_type": "markdown",
   "metadata": {},
   "source": [
    "### 共有変数\n",
    "機械学習におけるパラメータなど、頻繁に値を書き換えるものは共有変数として定義する。\n",
    "sharedメソッドを使って定義。\n",
    "\n",
    "共有変数は`get_value()`で値を見ることができるが、シンボリック変数はできない。シンボリック変数はコンパイルして値を入れて初めて使える"
   ]
  },
  {
   "cell_type": "code",
   "execution_count": 12,
   "metadata": {},
   "outputs": [
    {
     "name": "stdout",
     "output_type": "stream",
     "text": [
      "[ 0.  0.  0.  0.  0.  0.  0.  0.  0.  0.]\n"
     ]
    }
   ],
   "source": [
    "import numpy as np\n",
    "\n",
    "w=theano.shared(np.zeros(10),name='w')\n",
    "print(w.get_value())"
   ]
  },
  {
   "cell_type": "markdown",
   "metadata": {},
   "source": [
    "updateにより共有変数を更新する。"
   ]
  },
  {
   "cell_type": "code",
   "execution_count": 15,
   "metadata": {},
   "outputs": [],
   "source": [
    "#updatesの使い方\n",
    "\n",
    "# x はシンボリック変数（更新しない）\n",
    "x=T.scalar('x')\n",
    "\n",
    "# w は共有変数（更新していく）\n",
    "w=theano.shared(0.0,name='w')\n",
    "y=w*x\n",
    "f=theano.function([x],y,updates=({w:w+1}))"
   ]
  },
  {
   "cell_type": "code",
   "execution_count": 12,
   "metadata": {},
   "outputs": [
    {
     "data": {
      "text/plain": [
       "array(0.0)"
      ]
     },
     "execution_count": 12,
     "metadata": {},
     "output_type": "execute_result"
    }
   ],
   "source": [
    "f(1)"
   ]
  },
  {
   "cell_type": "code",
   "execution_count": 13,
   "metadata": {},
   "outputs": [
    {
     "data": {
      "text/plain": [
       "array(2.0)"
      ]
     },
     "execution_count": 13,
     "metadata": {},
     "output_type": "execute_result"
    }
   ],
   "source": [
    "f(2)"
   ]
  },
  {
   "cell_type": "code",
   "execution_count": 14,
   "metadata": {},
   "outputs": [
    {
     "data": {
      "text/plain": [
       "array(6.0)"
      ]
     },
     "execution_count": 14,
     "metadata": {},
     "output_type": "execute_result"
    }
   ],
   "source": [
    "f(3)"
   ]
  },
  {
   "cell_type": "markdown",
   "metadata": {},
   "source": [
    "問題。`f(4)`が何になるか予想し実行して確かめよ。"
   ]
  },
  {
   "cell_type": "markdown",
   "metadata": {},
   "source": [
    "以下では`theano.function`のいくつかの書き方を紹介する。"
   ]
  },
  {
   "cell_type": "code",
   "execution_count": 15,
   "metadata": {},
   "outputs": [
    {
     "name": "stdout",
     "output_type": "stream",
     "text": [
      "z0: [[ 0.]]\n",
      "z1: [[ 6.]]\n",
      "z2: [[ 12.]]\n",
      "z3: [[ 18.]]\n",
      "z4: [[ 24.]]\n"
     ]
    }
   ],
   "source": [
    "x=T.fmatrix('x')\n",
    "w=theano.shared(np.asarray([[0.0,0.0,0.0]],dtype=theano.config.floatX))\n",
    "z=x.dot(w.T)\n",
    "update=[[w,w+1.0]]\n",
    "net_input=theano.function(inputs=[x],updates=update,outputs=z)\n",
    "data=np.array([[1,2,3]],dtype=theano.config.floatX)\n",
    "for i in range(5):\n",
    "    print('z%d:' % i, net_input(data))"
   ]
  },
  {
   "cell_type": "code",
   "execution_count": 16,
   "metadata": {},
   "outputs": [
    {
     "name": "stdout",
     "output_type": "stream",
     "text": [
      "z0: [[ 0.]]\n",
      "z1: [[ 6.]]\n",
      "z2: [[ 12.]]\n",
      "z3: [[ 18.]]\n",
      "z4: [[ 24.]]\n"
     ]
    }
   ],
   "source": [
    "data=np.array([[1,2,3]],dtype=theano.config.floatX)\n",
    "x=T.fmatrix('x')\n",
    "w=theano.shared(np.asarray([[0.0,0.0,0.0]],dtype=theano.config.floatX))\n",
    "z=x.dot(w.T)\n",
    "update=[[w,w+1.0]]\n",
    "net_input=theano.function(inputs=[],updates=update,outputs=z,givens={x:data})\n",
    "for i in range(5):\n",
    "    print('z%d:' % i, net_input())"
   ]
  },
  {
   "cell_type": "code",
   "execution_count": 17,
   "metadata": {},
   "outputs": [
    {
     "name": "stdout",
     "output_type": "stream",
     "text": [
      "Column sum: [ 2.  4.  6.]\n",
      "Column sum: [ 2.  4.  6.]\n",
      "<TensorType(float32, matrix)>\n"
     ]
    }
   ],
   "source": [
    "import numpy as np\n",
    "\n",
    "x=T.fmatrix(name='x')\n",
    "x_sum=T.sum(x,axis=0)\n",
    "\n",
    "calc_sum=theano.function(inputs=[x],outputs=x_sum)\n",
    "\n",
    "ary=[[1,2,3],[1,2,3]]\n",
    "print('Column sum:', calc_sum(ary))\n",
    "\n",
    "ary=np.array([[1,2,3],[1,2,3]],dtype=theano.config.floatX)\n",
    "print('Column sum:', calc_sum(ary))\n",
    "\n",
    "print(x.type())"
   ]
  },
  {
   "cell_type": "markdown",
   "metadata": {},
   "source": [
    "### 自動微分"
   ]
  },
  {
   "cell_type": "code",
   "execution_count": 7,
   "metadata": {},
   "outputs": [
    {
     "data": {
      "text/plain": [
       "'(((fill((((x ** TensorConstant{2}) + (TensorConstant{2} * x)) + TensorConstant{3}), TensorConstant{1.0}) * TensorConstant{2}) * (x ** (TensorConstant{2} - TensorConstant{1}))) + (fill((((x ** TensorConstant{2}) + (TensorConstant{2} * x)) + TensorConstant{3}), TensorConstant{1.0}) * TensorConstant{2}))'"
      ]
     },
     "execution_count": 7,
     "metadata": {},
     "output_type": "execute_result"
    }
   ],
   "source": [
    "#自動微分\n",
    "# ???: What is wrt? -> with respect to\n",
    "x=T.dscalar('x')\n",
    "y=x**2+2*x+3\n",
    "gy=T.grad(cost=y,wrt=x)\n",
    "\n",
    "f=theano.function(inputs=[x],outputs=gy)\n",
    "theano.pp(gy)"
   ]
  },
  {
   "cell_type": "code",
   "execution_count": 19,
   "metadata": {},
   "outputs": [
    {
     "data": {
      "text/plain": [
       "array(4.0)"
      ]
     },
     "execution_count": 19,
     "metadata": {},
     "output_type": "execute_result"
    }
   ],
   "source": [
    "f(1)"
   ]
  },
  {
   "cell_type": "markdown",
   "metadata": {},
   "source": [
    "勾配降下法により関数の最小値を求めることができる。"
   ]
  },
  {
   "cell_type": "code",
   "execution_count": 8,
   "metadata": {},
   "outputs": [
    {
     "name": "stdout",
     "output_type": "stream",
     "text": [
      "x_final=0.1326195619\n"
     ]
    }
   ],
   "source": [
    "x_init=1.0#初期値\n",
    "l=0.01#学習率\n",
    "\n",
    "x=theano.shared(x_init,name='x')\n",
    "y=x**2\n",
    "gy=T.grad(cost=y,wrt=x)\n",
    "\n",
    "train=theano.function(inputs=[],outputs=[y],updates=({x:x-l*gy}))\n",
    "\n",
    "x_tmp=[]\n",
    "y_tmp=[]\n",
    "steps=100#更新回数\n",
    "for i in range(steps):\n",
    "    x_tmp.append(x.get_value())\n",
    "    y_tmp.append(train())\n",
    "\n",
    "x_fin=x.get_value()\n",
    "print('x_final=%9.10f' % x_fin)"
   ]
  },
  {
   "cell_type": "markdown",
   "metadata": {},
   "source": [
    "問題。$f(x)=x^4-7x^2+2x$の最小値を求めよう。初期値や学習率を変化させて結果がどのように変わるか観察せよ。"
   ]
  },
  {
   "cell_type": "code",
   "execution_count": 20,
   "metadata": {},
   "outputs": [
    {
     "data": {
      "image/png": "[encoded data removed]",
      "text/plain": [
       "<matplotlib.figure.Figure at 0x1c21574710>"
      ]
     },
     "metadata": {},
     "output_type": "display_data"
    }
   ],
   "source": [
    "import numpy as np\n",
    "import matplotlib.pyplot as plt\n",
    "%matplotlib inline\n",
    "\n",
    "def f(x):\n",
    "    return x**4-7*x**2+2*x\n",
    "\n",
    "x=np.linspace(-3,3)\n",
    "y=[f(z) for z in x]\n",
    "plt.plot(x,y)\n",
    "plt.show()"
   ]
  },
  {
   "cell_type": "code",
   "execution_count": 22,
   "metadata": {},
   "outputs": [
    {
     "name": "stdout",
     "output_type": "stream",
     "text": [
      "x_final=-1.9385371912\n"
     ]
    }
   ],
   "source": [
    "x_init=-1.0#初期値\n",
    "l=0.01#学習率\n",
    "\n",
    "x=theano.shared(x_init,name='x')\n",
    "y=x**4-7*x**2+2*x\n",
    "gy=T.grad(cost=y,wrt=x)\n",
    "\n",
    "train=theano.function(inputs=[],outputs=[y],updates=({x:x-l*gy}))\n",
    "\n",
    "x_tmp=[]\n",
    "y_tmp=[]\n",
    "steps=10000#更新回数\n",
    "for i in range(steps):\n",
    "    x_tmp.append(x.get_value())\n",
    "    y_tmp.append(train())\n",
    "\n",
    "x_fin=x.get_value()\n",
    "print('x_final=%9.10f' % x_fin)"
   ]
  },
  {
   "cell_type": "markdown",
   "metadata": {},
   "source": [
    "### 線形回帰の実装\n",
    "以下では線形回帰の誤差関数を定義し、勾配降下法でパラメータを更新することにより線形回帰モデルの学習を行う。\n",
    "コードはテキストと同じもの。"
   ]
  },
  {
   "cell_type": "code",
   "execution_count": 15,
   "metadata": {},
   "outputs": [
    {
     "data": {
      "text/plain": [
       "array(0.3341840579649479)"
      ]
     },
     "execution_count": 15,
     "metadata": {},
     "output_type": "execute_result"
    }
   ],
   "source": [
    "n_in=1 # 説明変数の数\n",
    "W = theano.shared(value=np.random.randn(n_in), name='W')\n",
    "b = theano.shared(value=.0, name='b')\n",
    "\n",
    "X=T.dmatrix('X')\n",
    "y=T.dvector('y')\n",
    "\n",
    "y_pred = T.dot(X, W) + b\n",
    "error = T.sum(T.pow(y - y_pred, 2)) # error function E(w)\n",
    "\n",
    "train_model = theano.function(inputs=[X,y], outputs=error)\n",
    "train_model([[1],[1],[2]],[1,1,1])"
   ]
  },
  {
   "cell_type": "code",
   "execution_count": 71,
   "metadata": {},
   "outputs": [
    {
     "name": "stdout",
     "output_type": "stream",
     "text": [
      "0.22350052735648807\n",
      "0.03218407929639508\n",
      "0.0057931345898740464\n",
      "0.0020855283073296176\n",
      "0.0015015802768592967\n"
     ]
    }
   ],
   "source": [
    "y = T.vector('y')\n",
    "x = T.matrix('x')\n",
    "\n",
    "n_in=1\n",
    "w = theano.shared(value=np.random.randn(n_in), name='w')\n",
    "b = theano.shared(value=.0, name='b')\n",
    "\n",
    "y_pred = T.dot(x, w) + b\n",
    "z = T.sum(T.pow(y - y_pred, 2))\n",
    "\n",
    "gw, gb = T.grad(z, [w, b])\n",
    "updates = ((w, w - 0.1 * gw), (b, b - 0.1 * gb))\n",
    "\n",
    "sqer = theano.function(inputs=[x,y], outputs=z, updates=updates)\n",
    "for i in range(5):\n",
    "    print(sqer([[1],[2]],[2,4]))"
   ]
  },
  {
   "cell_type": "code",
   "execution_count": 23,
   "metadata": {
    "collapsed": true
   },
   "outputs": [],
   "source": [
    "class LinearRegression(object):\n",
    "    def __init__(self, X, n_in):\n",
    "        self.W = theano.shared(value=np.random.randn(n_in), name='W', borrow=True)\n",
    "        self.b = theano.shared(value=.0, name='b', borrow=True)\n",
    "        self.y_pred = T.dot(X, self.W) + self.b\n",
    "        self.params = [self.W, self.b]\n",
    "        self.X = X\n",
    "    \n",
    "    def square_error(self, y):\n",
    "        return T.sum(T.pow(y - self.y_pred, 2))"
   ]
  },
  {
   "cell_type": "code",
   "execution_count": 25,
   "metadata": {
    "collapsed": true
   },
   "outputs": [],
   "source": [
    "import numpy as np\n",
    "X = T.dmatrix(\"X\")\n",
    "y = T.dvector(\"y\")\n",
    "n_in = 1\n",
    "\n",
    "lr = LinearRegression(X, n_in)\n",
    "cost = lr.square_error(y)\n",
    "gw, gb = T.grad(cost, [lr.W, lr.b])\n",
    "\n",
    "learning_rate=0.01\n",
    "updates=((lr.W, lr.W - learning_rate * gw), (lr.b, lr.b - learning_rate * gb))\n",
    "train = theano.function(inputs=[lr.X,y], outputs=[cost], updates=updates)\n",
    "epochs=10\n",
    "costs=[]\n",
    "\n",
    "sample=[[i] for i in range(1,6)]\n",
    "X_train=np.array(sample,dtype=theano.config.floatX)\n",
    "y_train=np.array([1.1,2.2,2.9,3.8,5.3],dtype=theano.config.floatX)\n",
    "\n",
    "for i in range(epochs):\n",
    "    costs.append(train(X_train,y_train))"
   ]
  },
  {
   "cell_type": "code",
   "execution_count": 26,
   "metadata": {},
   "outputs": [
    {
     "data": {
      "image/png": "[encoded data removed]",
      "text/plain": [
       "<matplotlib.figure.Figure at 0x1091dcf60>"
      ]
     },
     "metadata": {},
     "output_type": "display_data"
    }
   ],
   "source": [
    "import matplotlib.pyplot as plt\n",
    "%matplotlib inline\n",
    "\n",
    "plt.plot(range(1,len(costs)+1),costs)\n",
    "plt.xlabel('Epoch')\n",
    "plt.ylabel('Cost')\n",
    "plt.tight_layout()"
   ]
  },
  {
   "cell_type": "code",
   "execution_count": 27,
   "metadata": {},
   "outputs": [
    {
     "data": {
      "text/plain": [
       "[<matplotlib.lines.Line2D at 0x109b2dcf8>]"
      ]
     },
     "execution_count": 27,
     "metadata": {},
     "output_type": "execute_result"
    },
    {
     "data": {
      "image/png": "[encoded data removed]",
      "text/plain": [
       "<matplotlib.figure.Figure at 0x109b2dd30>"
      ]
     },
     "metadata": {},
     "output_type": "display_data"
    }
   ],
   "source": [
    "plt.scatter(X_train,y_train)\n",
    "plt.plot(X_train,np.dot(X_train,lr.W.get_value())+lr.b.get_value())"
   ]
  },
  {
   "cell_type": "markdown",
   "metadata": {
    "collapsed": true
   },
   "source": [
    "### ロジスティック回帰の実装\n",
    "\n",
    "確率的勾配降下法のよるロジスティック回帰の学習を実装する。"
   ]
  },
  {
   "cell_type": "code",
   "execution_count": 24,
   "metadata": {
    "collapsed": true
   },
   "outputs": [],
   "source": [
    "class LogisticRegression(object):\n",
    "    def __init__(self, X, n_in):\n",
    "        self.W = theano.shared(value=100*np.random.randn(n_in), name='W', borrow=True)\n",
    "        self.b = theano.shared(value=.0, name='b', borrow=True)\n",
    "        self.X = X\n",
    "        self.p = 1 / (1 + T.exp(-T.dot(self.X, self.W) - self.b))\n",
    "        self.pred = self.p > 0.5 # 半分より上でtrue\n",
    "        self.params = [self.W, self.b]\n",
    "    \n",
    "    def entropy(self, y):\n",
    "        xent = -y * T.log(self.p) - (1-y) * T.log(1-self.p) # xent is cross entropy, 対数尤度関数を使っている\n",
    "        return xent.mean() + 0.01 * (self.W ** 2).sum() #L2正則化T.sum(T.pow(y - self.y_pred, 2))"
   ]
  },
  {
   "cell_type": "code",
   "execution_count": 25,
   "metadata": {},
   "outputs": [],
   "source": [
    "X = T.dmatrix(\"X\")\n",
    "y = T.dvector(\"y\")\n",
    "\n",
    "n_in = 1\n",
    "clf = LogisticRegression(X, n_in)\n",
    "\n",
    "cost= clf.entropy(y)\n",
    "gw, gb = T.grad(cost, [clf.W, clf.b])\n",
    "\n",
    "learning_rate=1\n",
    "updates=((clf.W, clf.W - learning_rate * gw), (clf.b, clf.b - learning_rate * gb))\n",
    "train = theano.function(inputs=[clf.X,y], outputs=[cost, clf.pred], updates=updates)\n",
    "epochs=100\n",
    "costs=[]\n",
    "\n",
    "sample=[[i] for i in range(1,6)]\n",
    "X_train=np.array(sample,dtype=theano.config.floatX)\n",
    "y_train=np.array([0,0,1,1,1],dtype=theano.config.floatX)\n",
    "\n",
    "for i in range(epochs):\n",
    "    costs.append(train(X_train,y_train)[0])"
   ]
  },
  {
   "cell_type": "code",
   "execution_count": 18,
   "metadata": {},
   "outputs": [
    {
     "name": "stdout",
     "output_type": "stream",
     "text": [
      "[[ 1.]\n",
      " [ 2.]\n",
      " [ 3.]\n",
      " [ 4.]\n",
      " [ 5.]]\n"
     ]
    }
   ],
   "source": [
    "sample=[[i] for i in range(1,6)]\n",
    "X_train=np.array(sample,dtype=theano.config.floatX)\n",
    "print(X_train)"
   ]
  },
  {
   "cell_type": "code",
   "execution_count": 53,
   "metadata": {},
   "outputs": [
    {
     "data": {
      "image/png": "[encoded data removed]",
      "text/plain": [
       "<matplotlib.figure.Figure at 0x10bbab048>"
      ]
     },
     "metadata": {},
     "output_type": "display_data"
    }
   ],
   "source": [
    "plt.plot(range(1,len(costs)+1),costs)\n",
    "plt.xlabel('Epoch')\n",
    "plt.ylabel('Cost')\n",
    "plt.tight_layout()"
   ]
  },
  {
   "cell_type": "code",
   "execution_count": 54,
   "metadata": {},
   "outputs": [
    {
     "data": {
      "text/plain": [
       "array([False, False,  True,  True,  True], dtype=bool)"
      ]
     },
     "execution_count": 54,
     "metadata": {},
     "output_type": "execute_result"
    }
   ],
   "source": [
    "predict = theano.function(inputs=[X], outputs=clf.pred)\n",
    "predict(X_train)"
   ]
  },
  {
   "cell_type": "code",
   "execution_count": 55,
   "metadata": {},
   "outputs": [
    {
     "data": {
      "text/plain": [
       "array([ 0.13923487,  0.40645747,  0.74353054,  0.92466106,  0.98111756])"
      ]
     },
     "execution_count": 55,
     "metadata": {},
     "output_type": "execute_result"
    }
   ],
   "source": [
    "p = theano.function(inputs=[X], outputs=clf.p)\n",
    "p(X_train)"
   ]
  },
  {
   "cell_type": "code",
   "execution_count": 26,
   "metadata": {},
   "outputs": [
    {
     "data": {
      "text/plain": [
       "<matplotlib.collections.PathCollection at 0x1c2169f860>"
      ]
     },
     "execution_count": 26,
     "metadata": {},
     "output_type": "execute_result"
    },
    {
     "data": {
      "image/png": "[encoded data removed]",
      "text/plain": [
       "<matplotlib.figure.Figure at 0x1c21edcac8>"
      ]
     },
     "metadata": {},
     "output_type": "display_data"
    }
   ],
   "source": [
    "plt.scatter(X_train,y_train)"
   ]
  },
  {
   "cell_type": "code",
   "execution_count": 56,
   "metadata": {},
   "outputs": [
    {
     "data": {
      "text/plain": [
       "[<matplotlib.lines.Line2D at 0x10bec1860>]"
      ]
     },
     "execution_count": 56,
     "metadata": {},
     "output_type": "execute_result"
    },
    {
     "data": {
      "image/png": "[encoded data removed]",
      "text/plain": [
       "<matplotlib.figure.Figure at 0x10bec18d0>"
      ]
     },
     "metadata": {},
     "output_type": "display_data"
    }
   ],
   "source": [
    "plt.scatter(X_train,y_train)\n",
    "plt.plot(X_train, p(X_train))"
   ]
  },
  {
   "cell_type": "markdown",
   "metadata": {},
   "source": [
    "## MNISTのデータを準備\n",
    "\n",
    "次のページにあるMNISTのデータをダウンロードし、gzipを適当な方法で解凍してください。\n",
    "\n",
    "http://yann.lecun.com/exdb/mnist/"
   ]
  },
  {
   "cell_type": "code",
   "execution_count": 14,
   "metadata": {},
   "outputs": [
    {
     "data": {
      "text/plain": [
       "((60000, 784), (60000,), (10000, 784))"
      ]
     },
     "execution_count": 14,
     "metadata": {},
     "output_type": "execute_result"
    }
   ],
   "source": [
    "#mnistのデータを準備する\n",
    "import os\n",
    "import struct\n",
    "def load_mnist(path,kind='train'):\n",
    "    labels_path=os.path.join(path,'%s-labels.idx1-ubyte' % kind)\n",
    "    images_path=os.path.join(path,'%s-images.idx3-ubyte' % kind)\n",
    "    \n",
    "    with open(labels_path,'rb') as lbpath:\n",
    "        magic, n=struct.unpack('>II', lbpath.read(8))\n",
    "        labels=np.fromfile(lbpath,dtype=np.uint8)\n",
    "    with open(images_path,'rb') as imgpath:\n",
    "        magic,nu,rows,cols=struct.unpack('>IIII',imgpath.read(16))\n",
    "        images=np.fromfile(imgpath,dtype=np.uint8).reshape(len(labels),784)\n",
    "    return images,labels\n",
    "\n",
    "X_train,y_train=load_mnist('mnist',kind='train')\n",
    "X_test,y_test=load_mnist('mnist',kind='t10k')"
   ]
  },
  {
   "cell_type": "code",
   "execution_count": 38,
   "metadata": {
    "collapsed": true
   },
   "outputs": [],
   "source": [
    "valid_set,test_set,train_set=(X_train[:10000,],y_train[:10000]),(X_test,y_test),(X_train[10000:,],y_train[10000:])"
   ]
  },
  {
   "cell_type": "code",
   "execution_count": 39,
   "metadata": {
    "collapsed": true
   },
   "outputs": [],
   "source": [
    "#データを共有変数に代入する。GPUを用いる際に計算を高速化させるため\n",
    "def shared_dataset(data_xy, borrow=True):\n",
    "\n",
    "    data_x, data_y = data_xy\n",
    "    shared_x = theano.shared(np.asarray(data_x,\n",
    "                                           dtype=theano.config.floatX),\n",
    "                             borrow=borrow)\n",
    "    shared_y = theano.shared(np.asarray(data_y,\n",
    "                                           dtype=theano.config.floatX),\n",
    "                             borrow=borrow)\n",
    "    \n",
    "    #分類なのでshared_yは整数にする必要がある。回帰ならfloatのまま\n",
    "    return shared_x, T.cast(shared_y, 'int32')\n",
    "\n",
    "test_set_x, test_set_y = shared_dataset(test_set)\n",
    "valid_set_x, valid_set_y = shared_dataset(valid_set)\n",
    "train_set_x, train_set_y = shared_dataset(train_set)"
   ]
  },
  {
   "cell_type": "markdown",
   "metadata": {},
   "source": [
    "## 確率勾配法 SGD\n",
    "\n",
    "ニューラルネットのパラメータ更新においては確率勾配法と呼ばれる手法が用いられる。\n",
    "\n",
    "通常の勾配法では全サンプルを用いて損失関数の勾配を計算し、それに基づいてパラメータを更新する。\n",
    "\n",
    "確率勾配法ではサンプルのうち一部分を用いて損失関数の勾配を計算し、パラメータを更新。\n",
    "用いるサンプルを都度入れ替える。"
   ]
  },
  {
   "cell_type": "markdown",
   "metadata": {},
   "source": [
    "### ロジスティック回帰の実装\n",
    "\n",
    "確率的勾配降下法による多クラスロジスティック回帰を実装しよう。\n",
    "\n",
    "$$\n",
    "P(Y=i|x, W,b) = softmax_i(W x + b)\\\\\n",
    "= \\frac {e^{W_i x + b_i}} {\\sum_j e^{W_j x + b_j}}\n",
    "$$\n",
    "$$\n",
    "y_{pred} = argmax_i P(Y=i|x,W,b)\n",
    "$$\n",
    "\n",
    "$k$クラス分類に対するソフトマックス関数とは\n",
    "$x=(x_1,\\ldots,x_n)$に対し\n",
    "$$\n",
    "s_i(x)=\\frac{\\exp(W_ix+b_i)}{\\sum_j\\exp(W_jx+b_j)}\n",
    "$$\n",
    "のこと。\n",
    "これを$i=1,\\ldots,k$それぞれのクラスに分類される確率の予測に使う。\n",
    "$b=(b_1,\\ldots,b_k)$であり$W_i=(w_{i1},\\ldots,w_{in})$である。\n",
    "$W_i$をまとめて行列$W$とする。\n",
    "\n",
    "（二クラスロジスティックだと$\\sigma(x)$を$1-\\sigma(x)$を二クラスの確率の予測値としていたが、これも上の形でかけることに注意）\n",
    "\n",
    "$$\n",
    "\\frac{1}{|\\mathcal{D}|} \\mathcal{L} (\\theta=\\{W,b\\}, \\mathcal{D}) =\\frac{1}{|\\mathcal{D}|} \\sum_{i=0}^{|\\mathcal{D}|}\\log(P(Y=y^{(i)}|x^{(i)}, W,b)) \\\\\n",
    "\\ell (\\theta=\\{W,b\\}, \\mathcal{D})\n",
    "$$"
   ]
  },
  {
   "cell_type": "code",
   "execution_count": 40,
   "metadata": {},
   "outputs": [
    {
     "data": {
      "text/plain": [
       "array(0.42857142857142855)"
      ]
     },
     "execution_count": 40,
     "metadata": {},
     "output_type": "execute_result"
    }
   ],
   "source": [
    "# 正解率の計算\n",
    "import theano\n",
    "import theano.tensor as T\n",
    "y=T.ivector('y')\n",
    "y_pred=T.ivector('y_pred')\n",
    "error_rate=T.mean(T.neq(y,y_pred))\n",
    "errors=theano.function([y,y_pred],error_rate)\n",
    "errors([1,0,1,0,1,0,1],[0,0,0,0,0,0,1])"
   ]
  },
  {
   "cell_type": "code",
   "execution_count": 41,
   "metadata": {
    "collapsed": true
   },
   "outputs": [],
   "source": [
    "#対数尤度関数を計算する\n",
    "#対数尤度の-1倍の各サンプルによる平均を返す。\n",
    "#yはtheano.tensor.TensorTypeで各サンプルの正解ラベル\n",
    "def negative_log_likelihood(self, y):\n",
    "#行列Xはj行目がj番目のサンプル。これをinputとする\n",
    "    p_y_given_x = T.nnet.softmax(T.dot(input, self.W) + self.b)#ソフトマックス関数\n",
    "    #返り値は行列。各サンプルごとに各クラスの確率を並べた行列になる\n",
    "\n",
    "    # y.shape[0]はサンプル数n\n",
    "    # T.arange(n)はシンボリック変数のベクトル[0,1,2,...,n-1]\n",
    "    # LP(i,y[i])はi番目のサンプルがy[i]になる確率で、それの平均を取るので対数尤度\n",
    "    return -T.mean(T.log(p_y_given_x)[T.arange(y.shape[0]), y])"
   ]
  },
  {
   "cell_type": "code",
   "execution_count": 42,
   "metadata": {
    "collapsed": true
   },
   "outputs": [],
   "source": [
    "#多クラス分類ロジスティック回帰クラス\n",
    "class LogisticRegression(object):\n",
    "    def __init__(self, X, n_in, n_out): # n_outは分類クラスの数\n",
    "        self.W = theano.shared(value=np.zeros((n_in, n_out), dtype=theano.config.floatX),\n",
    "                               name='W', borrow=True)\n",
    "        self.b = theano.shared(value=np.zeros((n_out,), dtype=theano.config.floatX),\n",
    "                               name='b', borrow=True)\n",
    "        self.p_y_given_x = T.nnet.softmax(T.dot(X, self.W) + self.b) #分類確率を表すシンボル変数\n",
    "        self.y_pred = T.argmax(self.p_y_given_x, axis=1) #予測クラスを表すシンボル変数\n",
    "        self.params = [self.W, self.b]\n",
    "        self.X = X\n",
    "\n",
    "    def negative_log_likelihood(self, y):\n",
    "        return -T.mean(T.log(self.p_y_given_x)[T.arange(y.shape[0]), y])\n",
    "\n",
    "    def errors(self, y):    #ミニバッチでの誤判別率を返す\n",
    "        if y.ndim != self.y_pred.ndim:\n",
    "            raise TypeError(\n",
    "                'y should have the same shape as self.y_pred',\n",
    "                ('y', y.type, 'y_pred', self.y_pred.type)\n",
    "            )\n",
    "        if y.dtype.startswith('int'):\n",
    "            return T.mean(T.neq(self.y_pred, y))\n",
    "        else:\n",
    "            raise NotImplementedError()"
   ]
  },
  {
   "cell_type": "code",
   "execution_count": 43,
   "metadata": {
    "collapsed": true
   },
   "outputs": [],
   "source": [
    "x = T.matrix('x')\n",
    "y = T.ivector('y')\n",
    "\n",
    "# MNIST は 28 * 28 の入力、10 クラス分類\n",
    "classifier = LogisticRegression(X=x, n_in=28 * 28, n_out=10)\n",
    "cost = classifier.negative_log_likelihood(y)\n",
    "index = T.lscalar() # ミニバッチのインデックスを表すシンボル変数\n",
    "\n",
    "g_W = T.grad(cost=cost, wrt=classifier.W)\n",
    "g_b = T.grad(cost=cost, wrt=classifier.b)\n",
    "\n",
    "learning_rate=0.13\n",
    "batch_size=600 # ミニバッチ一つあたりのサンプル数\n",
    "n_epochs=10000\n",
    "\n",
    "updates = [(classifier.W, classifier.W - learning_rate * g_W),\n",
    "           (classifier.b, classifier.b - learning_rate * g_b)]\n",
    "\n",
    "train_model = theano.function(inputs=[index], outputs=cost, updates=updates,\n",
    "    givens={x: train_set_x[index * batch_size: (index + 1) * batch_size],\n",
    "            y: train_set_y[index * batch_size: (index + 1) * batch_size]})\n",
    "\n",
    "test_model = theano.function(inputs=[index], outputs=classifier.errors(y),\n",
    "    givens={x: test_set_x[index * batch_size: (index + 1) * batch_size],\n",
    "            y: test_set_y[index * batch_size: (index + 1) * batch_size]})\n",
    "\n",
    "validate_model = theano.function(inputs=[index], outputs=classifier.errors(y),\n",
    "    givens={x: valid_set_x[index * batch_size: (index + 1) * batch_size],\n",
    "            y: valid_set_y[index * batch_size: (index + 1) * batch_size]})"
   ]
  },
  {
   "cell_type": "markdown",
   "metadata": {},
   "source": [
    "early stoppingについて。\n",
    "\n",
    "このコードではpatienceで管理する。\n",
    "scoreが更新されたらpatienceを更新して、パラメータ更新回数を増やす"
   ]
  },
  {
   "cell_type": "code",
   "execution_count": 47,
   "metadata": {},
   "outputs": [
    {
     "name": "stdout",
     "output_type": "stream",
     "text": [
      "epoch 1, minibatch 83/83, validation error 8.895833 %\n",
      " epoch 1, minibatch 83/83, test error of best model 8.718750 %\n",
      "epoch 2, minibatch 83/83, validation error 9.437500 %\n",
      "epoch 3, minibatch 83/83, validation error 8.729167 %\n",
      " epoch 3, minibatch 83/83, test error of best model 8.656250 %\n",
      "epoch 4, minibatch 83/83, validation error 9.093750 %\n",
      "epoch 5, minibatch 83/83, validation error 9.791667 %\n",
      "epoch 6, minibatch 83/83, validation error 9.447917 %\n",
      "epoch 7, minibatch 83/83, validation error 12.020833 %\n",
      "epoch 8, minibatch 83/83, validation error 9.333333 %\n",
      "epoch 9, minibatch 83/83, validation error 9.791667 %\n",
      "epoch 10, minibatch 83/83, validation error 9.541667 %\n",
      "epoch 11, minibatch 83/83, validation error 9.489583 %\n",
      "epoch 12, minibatch 83/83, validation error 10.333333 %\n",
      "epoch 13, minibatch 83/83, validation error 9.197917 %\n",
      "epoch 14, minibatch 83/83, validation error 9.072917 %\n",
      "epoch 15, minibatch 83/83, validation error 9.416667 %\n",
      "epoch 16, minibatch 83/83, validation error 11.458333 %\n",
      "epoch 17, minibatch 83/83, validation error 9.072917 %\n",
      "epoch 18, minibatch 83/83, validation error 10.687500 %\n",
      "epoch 19, minibatch 83/83, validation error 9.479167 %\n",
      "epoch 20, minibatch 83/83, validation error 9.500000 %\n",
      "epoch 21, minibatch 83/83, validation error 10.177083 %\n",
      "epoch 22, minibatch 83/83, validation error 9.625000 %\n",
      "epoch 23, minibatch 83/83, validation error 9.541667 %\n",
      "epoch 24, minibatch 83/83, validation error 9.625000 %\n",
      "epoch 25, minibatch 83/83, validation error 9.104167 %\n",
      "epoch 26, minibatch 83/83, validation error 9.468750 %\n",
      "epoch 27, minibatch 83/83, validation error 9.364583 %\n",
      "epoch 28, minibatch 83/83, validation error 10.156250 %\n",
      "epoch 29, minibatch 83/83, validation error 9.302083 %\n",
      "epoch 30, minibatch 83/83, validation error 10.062500 %\n",
      "epoch 31, minibatch 83/83, validation error 10.718750 %\n",
      "epoch 32, minibatch 83/83, validation error 9.270833 %\n",
      "epoch 33, minibatch 83/83, validation error 9.239583 %\n",
      "epoch 34, minibatch 83/83, validation error 9.770833 %\n",
      "epoch 35, minibatch 83/83, validation error 9.239583 %\n",
      "epoch 36, minibatch 83/83, validation error 9.708333 %\n",
      "epoch 37, minibatch 83/83, validation error 9.625000 %\n",
      "epoch 38, minibatch 83/83, validation error 9.500000 %\n",
      "epoch 39, minibatch 83/83, validation error 10.187500 %\n",
      "epoch 40, minibatch 83/83, validation error 10.604167 %\n",
      "epoch 41, minibatch 83/83, validation error 9.229167 %\n",
      "epoch 42, minibatch 83/83, validation error 9.125000 %\n",
      "epoch 43, minibatch 83/83, validation error 9.614583 %\n",
      "epoch 44, minibatch 83/83, validation error 10.989583 %\n",
      "epoch 45, minibatch 83/83, validation error 9.614583 %\n",
      "epoch 46, minibatch 83/83, validation error 9.093750 %\n",
      "epoch 47, minibatch 83/83, validation error 10.718750 %\n",
      "epoch 48, minibatch 83/83, validation error 8.968750 %\n",
      "epoch 49, minibatch 83/83, validation error 9.145833 %\n",
      "epoch 50, minibatch 83/83, validation error 9.854167 %\n",
      "epoch 51, minibatch 83/83, validation error 10.385417 %\n",
      "epoch 52, minibatch 83/83, validation error 9.500000 %\n",
      "epoch 53, minibatch 83/83, validation error 10.031250 %\n",
      "epoch 54, minibatch 83/83, validation error 9.562500 %\n",
      "epoch 55, minibatch 83/83, validation error 9.552083 %\n",
      "epoch 56, minibatch 83/83, validation error 9.322917 %\n",
      "epoch 57, minibatch 83/83, validation error 9.895833 %\n",
      "epoch 58, minibatch 83/83, validation error 9.791667 %\n",
      "epoch 59, minibatch 83/83, validation error 9.552083 %\n",
      "epoch 60, minibatch 83/83, validation error 10.010417 %\n",
      "Optimization complete with best validation score of 8.729167 %,with test performance 8.656250 %\n",
      "The code run for 61 epochs, with 5.907469 epochs/sec\n",
      "The code for file ran for 10.3s\n"
     ]
    }
   ],
   "source": [
    "import timeit\n",
    "\n",
    "# ミニバッチの数を計算する\n",
    "n_train_batches = train_set_x.get_value(borrow=True).shape[0] // batch_size\n",
    "n_valid_batches = valid_set_x.get_value(borrow=True).shape[0] // batch_size\n",
    "n_test_batches = test_set_x.get_value(borrow=True).shape[0] // batch_size\n",
    "\n",
    "patience = 5000\n",
    "patience_increase = 2\n",
    "improvement_threshold = 0.995\n",
    "validation_frequency = min(n_train_batches, patience // 2)\n",
    "\n",
    "best_val_loss = np.inf\n",
    "test_score = 0.\n",
    "start_time = timeit.default_timer()\n",
    "\n",
    "done_looping = False\n",
    "epoch = 0\n",
    "while (epoch < n_epochs) and (not done_looping):\n",
    "    epoch = epoch + 1\n",
    "    for minibatch_index in range(n_train_batches):\n",
    "\n",
    "        minibatch_avg_cost = train_model(minibatch_index)\n",
    "        # iteration number\n",
    "        iter = (epoch - 1) * n_train_batches + minibatch_index\n",
    "\n",
    "        if (iter + 1) % validation_frequency == 0:\n",
    "            this_val_loss = np.mean([validate_model(i) for i in range(n_valid_batches)])\n",
    "\n",
    "            print('epoch %i, minibatch %i/%i, validation error %f %%' %\n",
    "                  (epoch, minibatch_index + 1, n_train_batches, this_val_loss * 100.))\n",
    "            \n",
    "            # val_loss が最小なら、best_val_lossを更新する\n",
    "            if this_val_loss < best_val_loss:\n",
    "                # さらに閾値より小さければ、patienceを大きくする（iterが大きい時のみ）\n",
    "                if this_val_loss < best_val_loss * improvement_threshold:\n",
    "                    patience = max(patience, iter * patience_increase)\n",
    "\n",
    "                best_val_loss = this_val_loss\n",
    "\n",
    "                test_score = np.mean([test_model(i) for i in range(n_test_batches)])\n",
    "\n",
    "                print((' epoch %i, minibatch %i/%i, test error of best model %f %%') %\n",
    "                      (epoch, minibatch_index + 1, n_train_batches, test_score * 100.))\n",
    "\n",
    "        if patience <= iter:\n",
    "            done_looping = True\n",
    "            break\n",
    "\n",
    "end_time = timeit.default_timer()\n",
    "print(('Optimization complete with best validation score of %f %%,'\n",
    "       'with test performance %f %%') % (best_val_loss * 100., test_score * 100.))\n",
    "print('The code run for %d epochs, with %f epochs/sec' %\n",
    "      (epoch, 1. * epoch / (end_time - start_time)))\n",
    "print(('The code for file ran for %.1fs' % ((end_time - start_time))))"
   ]
  },
  {
   "cell_type": "code",
   "execution_count": 46,
   "metadata": {},
   "outputs": [
    {
     "name": "stdout",
     "output_type": "stream",
     "text": [
      "Predicted values for the first 10 examples in test set:\n",
      "[7 2 1 0 4 1 4 9 6 9]\n"
     ]
    }
   ],
   "source": [
    "predict_model = theano.function(\n",
    "    inputs=[classifier.X],\n",
    "    outputs=classifier.y_pred)\n",
    "\n",
    "test_set_x_value = test_set_x.get_value()\n",
    "\n",
    "predicted_values = predict_model(test_set_x_value[:10])\n",
    "print(\"Predicted values for the first 10 examples in test set:\")\n",
    "print(predicted_values)"
   ]
  },
  {
   "cell_type": "markdown",
   "metadata": {},
   "source": [
    "### 多層パーセプトロンの実装\n",
    "\n",
    "活性化関数$s(x)$としてtanhやsigmaoid、ReLUなど\n",
    "\n",
    "隠れ層が一層のモデルをここでは実装する。\n",
    "$$\n",
    "f(x) = G( b^{(2)} + W^{(2)}( s( b^{(1)} + W^{(1)} x)))\n",
    "$$"
   ]
  },
  {
   "cell_type": "code",
   "execution_count": 48,
   "metadata": {
    "collapsed": true
   },
   "outputs": [],
   "source": [
    "#http://deeplearning.net/tutorial/mlp.html\n",
    "class HiddenLayer(object):\n",
    "    def __init__(self, rng, input, n_in, n_out, W=None, b=None,\n",
    "                 activation=T.tanh):\n",
    "        # 活性化関数は tanh(dot(input,W) + b) を使う\n",
    "        # 重さ行列 W はサイズ (n_in,n_out) 行列\n",
    "        # 切片 b はサイズ (n_out,)\n",
    "        # rng はパラメータ初期化のための乱数生成器\n",
    "        # input はデータ\n",
    "        # 持ってる属性は input, W, b, output, params\n",
    "        \n",
    "        self.input = input\n",
    "        \n",
    "        # パラメータの初期化。活性化関数によって最適な初期値が違う\n",
    "        if W is None:\n",
    "            W_values = np.asarray(\n",
    "                rng.uniform(\n",
    "                    low=-np.sqrt(6. / (n_in + n_out)),\n",
    "                    high=np.sqrt(6. / (n_in + n_out)),\n",
    "                    size=(n_in, n_out)\n",
    "                ),\n",
    "                dtype=theano.config.floatX\n",
    "            )\n",
    "            if activation == theano.tensor.nnet.sigmoid:\n",
    "                W_values *= 4\n",
    "\n",
    "            W = theano.shared(value=W_values, name='W', borrow=True)\n",
    "\n",
    "        if b is None:\n",
    "            b_values = np.zeros((n_out,), dtype=theano.config.floatX)\n",
    "            b = theano.shared(value=b_values, name='b', borrow=True)\n",
    "\n",
    "        self.W = W\n",
    "        self.b = b\n",
    "\n",
    "        lin_output = T.dot(input, self.W) + self.b\n",
    "        self.output = (\n",
    "            lin_output if activation is None\n",
    "            else activation(lin_output)\n",
    "        )\n",
    "        # parameters of the model\n",
    "        self.params = [self.W, self.b]"
   ]
  },
  {
   "cell_type": "code",
   "execution_count": 49,
   "metadata": {
    "collapsed": true
   },
   "outputs": [],
   "source": [
    "# ここでは隠れ層が一層のMLP\n",
    "class MLP(object):\n",
    "    def __init__(self, rng, input, n_in, n_hidden, n_out):\n",
    "        # rngは乱数生成器\n",
    "        # n_inは入力層のunitの数, n_hiddenは隠れ層のunitの数, n_outは出力層のunitの数\n",
    "        \n",
    "        # tanhを活性化関数にもつHidenLayerクラスのオブジェクトとLogisticRegressionクラスをつなぐ\n",
    "        self.hiddenLayer = HiddenLayer(\n",
    "            rng=rng,\n",
    "            input=input,\n",
    "            n_in=n_in,\n",
    "            n_out=n_hidden,\n",
    "            activation=T.tanh\n",
    "        )\n",
    "\n",
    "        #出力層\n",
    "        self.logRegressionLayer = LogisticRegression(\n",
    "            X=self.hiddenLayer.output,\n",
    "            n_in=n_hidden,\n",
    "            n_out=n_out\n",
    "        )\n",
    "\n",
    "        # L1正則化\n",
    "        self.L1 = (\n",
    "            abs(self.hiddenLayer.W).sum()\n",
    "            + abs(self.logRegressionLayer.W).sum()\n",
    "        )\n",
    "\n",
    "        # L2正則化\n",
    "        self.L2_sqr = (\n",
    "            (self.hiddenLayer.W ** 2).sum()\n",
    "            + (self.logRegressionLayer.W ** 2).sum()\n",
    "        )\n",
    "\n",
    "        self.negative_log_likelihood = (\n",
    "            self.logRegressionLayer.negative_log_likelihood\n",
    "        )\n",
    "        self.errors = self.logRegressionLayer.errors\n",
    "\n",
    "        self.params = self.hiddenLayer.params + self.logRegressionLayer.params\n",
    "\n",
    "        self.input = input"
   ]
  },
  {
   "cell_type": "code",
   "execution_count": 50,
   "metadata": {
    "collapsed": true
   },
   "outputs": [],
   "source": [
    "# 確率勾配法でMLPのトレーニング\n",
    "learning_rate=0.01\n",
    "# L1_regはL1正則化の強さ、L2_regはL2正則化の強さ\n",
    "L1_reg=0.00\n",
    "L2_reg=0.0001\n",
    "n_epochs=1000\n",
    "batch_size=20\n",
    "n_hidden=500"
   ]
  },
  {
   "cell_type": "code",
   "execution_count": 52,
   "metadata": {
    "collapsed": true
   },
   "outputs": [],
   "source": [
    "n_train_batches = train_set_x.get_value(borrow=True).shape[0] // batch_size\n",
    "n_valid_batches = valid_set_x.get_value(borrow=True).shape[0] // batch_size\n",
    "n_test_batches = test_set_x.get_value(borrow=True).shape[0] // batch_size\n",
    "\n",
    "index = T.lscalar()\n",
    "x = T.matrix('x')\n",
    "y = T.ivector('y')\n",
    "\n",
    "rng = np.random.RandomState(1234)\n",
    "\n",
    "classifier = MLP(rng=rng, input=x, n_in=28 * 28, \n",
    "                 n_hidden=n_hidden, n_out=10)\n",
    "    \n",
    "cost = (classifier.negative_log_likelihood(y)\n",
    "        + L1_reg * classifier.L1 + L2_reg * classifier.L2_sqr)\n",
    "\n",
    "test_model = theano.function(\n",
    "    inputs=[index],\n",
    "    outputs=classifier.errors(y),\n",
    "    givens={x: test_set_x[index * batch_size:(index + 1) * batch_size],\n",
    "            y: test_set_y[index * batch_size:(index + 1) * batch_size]})\n",
    "\n",
    "validate_model = theano.function(\n",
    "    inputs=[index],\n",
    "    outputs=classifier.errors(y),\n",
    "    givens={x: valid_set_x[index * batch_size:(index + 1) * batch_size],\n",
    "            y: valid_set_y[index * batch_size:(index + 1) * batch_size]})\n",
    "\n",
    "gparams = [T.grad(cost, param) for param in classifier.params]\n",
    "\n",
    "# A = [a1, a2, a3, a4] と B = [b1, b2, b3, b4] に対し\n",
    "# zip(A,B) = [(a1, b1), (a2, b2), (a3, b3), (a4, b4)]\n",
    "updates = [(param, param - learning_rate * gparam)\n",
    "           for param, gparam in zip(classifier.params, gparams)]\n",
    "\n",
    "train_model = theano.function(\n",
    "    inputs=[index],\n",
    "    outputs=cost,\n",
    "    updates=updates,\n",
    "    givens={x: train_set_x[index * batch_size: (index + 1) * batch_size],\n",
    "            y: train_set_y[index * batch_size: (index + 1) * batch_size]})"
   ]
  },
  {
   "cell_type": "code",
   "execution_count": 53,
   "metadata": {},
   "outputs": [
    {
     "name": "stdout",
     "output_type": "stream",
     "text": [
      "... training\n",
      "epoch 1, minibatch 2500/2500, validation error 10.570000 %\n",
      " epoch 1, minibatch 2500/2500, test error of best model 9.750000 %\n",
      "epoch 2, minibatch 2500/2500, validation error 10.490000 %\n",
      " epoch 2, minibatch 2500/2500, test error of best model 9.660000 %\n",
      "epoch 3, minibatch 2500/2500, validation error 9.150000 %\n",
      " epoch 3, minibatch 2500/2500, test error of best model 9.140000 %\n",
      "epoch 4, minibatch 2500/2500, validation error 9.630000 %\n",
      "epoch 5, minibatch 2500/2500, validation error 9.490000 %\n",
      "Optimization complete. Best validation score of 9.150000 % obtained at iteration 7500, with test performance 9.140000 %\n",
      "The code for file  ran for 0.65m\n"
     ]
    }
   ],
   "source": [
    "print('... training')\n",
    "\n",
    "patience = 10000\n",
    "patience_increase = 2\n",
    "improvement_threshold = 0.995\n",
    "validation_frequency = min(n_train_batches, patience // 2)\n",
    "\n",
    "best_validation_loss = np.inf\n",
    "best_iter = 0\n",
    "test_score = 0.\n",
    "start_time = timeit.default_timer()\n",
    "\n",
    "epoch = 0\n",
    "done_looping = False\n",
    "\n",
    "while (epoch < n_epochs) and (not done_looping):\n",
    "    epoch = epoch + 1\n",
    "    for minibatch_index in range(n_train_batches):\n",
    "\n",
    "        minibatch_avg_cost = train_model(minibatch_index)\n",
    "        iter = (epoch - 1) * n_train_batches + minibatch_index\n",
    "\n",
    "        if (iter + 1) % validation_frequency == 0:\n",
    "            validation_losses = [validate_model(i) for i\n",
    "                                 in range(n_valid_batches)]\n",
    "            this_validation_loss = np.mean(validation_losses)\n",
    "\n",
    "            print('epoch %i, minibatch %i/%i, validation error %f %%' %\n",
    "                  (epoch, minibatch_index + 1, n_train_batches,\n",
    "                   this_validation_loss * 100.))\n",
    "\n",
    "            if this_validation_loss < best_validation_loss:\n",
    "                if (this_validation_loss < best_validation_loss * improvement_threshold):\n",
    "                    patience = max(patience, iter * patience_increase)\n",
    "\n",
    "                best_validation_loss = this_validation_loss\n",
    "                best_iter = iter\n",
    "\n",
    "                test_losses = [test_model(i) for i\n",
    "                               in range(n_test_batches)]\n",
    "                test_score = np.mean(test_losses)\n",
    "\n",
    "                print((' epoch %i, minibatch %i/%i, test error of best model %f %%') %\n",
    "                      (epoch, minibatch_index + 1, n_train_batches, test_score * 100.))\n",
    "\n",
    "        if patience <= iter:\n",
    "            done_looping = True\n",
    "            break\n",
    "\n",
    "end_time = timeit.default_timer()\n",
    "print(('Optimization complete. Best validation score of %f %% '\n",
    "       'obtained at iteration %i, with test performance %f %%') %\n",
    "      (best_validation_loss * 100., best_iter + 1, test_score * 100.))\n",
    "print(('The code for file ' +\n",
    "       ' ran for %.2fm' % ((end_time - start_time) / 60.)))"
   ]
  }
 ],
 "metadata": {
  "kernelspec": {
   "display_name": "Python [default]",
   "language": "python",
   "name": "python3"
  },
  "language_info": {
   "codemirror_mode": {
    "name": "ipython",
    "version": 3
   },
   "file_extension": ".py",
   "mimetype": "text/x-python",
   "name": "python",
   "nbconvert_exporter": "python",
   "pygments_lexer": "ipython3",
   "version": "3.6.2"
  }
 },
 "nbformat": 4,
 "nbformat_minor": 1
}
