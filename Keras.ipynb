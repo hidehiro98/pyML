{
 "cells": [
  {
   "cell_type": "code",
   "execution_count": 1,
   "metadata": {
    "collapsed": true
   },
   "outputs": [],
   "source": [
    "import numpy as np\n",
    "import pandas as pd\n",
    "import matplotlib.pyplot as plt\n",
    "%matplotlib inline"
   ]
  },
  {
   "cell_type": "markdown",
   "metadata": {},
   "source": [
    "# Keras入門\n",
    "\n",
    "ディープラーニングを実行するためのライブラリとしてKerasを紹介します。\n",
    "\n",
    "公式のドキュメント\n",
    "https://keras.io/ja/"
   ]
  },
  {
   "cell_type": "code",
   "execution_count": 2,
   "metadata": {
    "collapsed": true
   },
   "outputs": [],
   "source": [
    "from sklearn import datasets\n",
    "iris = datasets.load_iris()\n",
    "X = iris.data[:100,:]\n",
    "y = iris.target[:100]"
   ]
  },
  {
   "cell_type": "markdown",
   "metadata": {},
   "source": [
    "## モデルを構築する\n",
    "\n",
    "Sequenctialモデルに層を積み重ねていく。\n",
    "\n",
    "Denseは単純にすべてのネットワークを結合するもの。"
   ]
  },
  {
   "cell_type": "code",
   "execution_count": 3,
   "metadata": {
    "collapsed": false
   },
   "outputs": [
    {
     "name": "stderr",
     "output_type": "stream",
     "text": [
      "Using Theano backend.\n"
     ]
    }
   ],
   "source": [
    "from keras.models import Sequential\n",
    "from keras.layers import Dense, Activation\n",
    "\n",
    "model = Sequential()\n",
    "model.add(Dense(units=1, activation='sigmoid', input_dim=4))"
   ]
  },
  {
   "cell_type": "markdown",
   "metadata": {},
   "source": [
    "`summary()`メソッドで、現在のモデルの様子を見ることができる。"
   ]
  },
  {
   "cell_type": "code",
   "execution_count": 4,
   "metadata": {
    "collapsed": false
   },
   "outputs": [
    {
     "name": "stdout",
     "output_type": "stream",
     "text": [
      "_________________________________________________________________\n",
      "Layer (type)                 Output Shape              Param #   \n",
      "=================================================================\n",
      "dense_1 (Dense)              (None, 1)                 5         \n",
      "=================================================================\n",
      "Total params: 5\n",
      "Trainable params: 5\n",
      "Non-trainable params: 0\n",
      "_________________________________________________________________\n"
     ]
    }
   ],
   "source": [
    "model.summary()"
   ]
  },
  {
   "cell_type": "markdown",
   "metadata": {},
   "source": [
    "## モデルのコンパイル\n",
    "- 最適化アルゴリズムの指定\n",
    "- 損失関数の指定\n",
    "- 評価関数の指定\n",
    "\n",
    "をすることで、どのように学習するかを指定することができる。\n",
    "\n",
    "ここでは2クラス分類なので、`loss='binary_crossentropy'`を指定する。\n",
    "最適化は確率的勾配法sgdを用い、評価は正解率accuracyを用いる。\n",
    "\n",
    "他クラス分類なら`loss='categorical_crossentropy'`を、回帰なら`loss='mse'`を用いる"
   ]
  },
  {
   "cell_type": "code",
   "execution_count": 5,
   "metadata": {
    "collapsed": true
   },
   "outputs": [],
   "source": [
    "model.compile(optimizer='sgd',\n",
    "              loss='binary_crossentropy',\n",
    "              metrics=['accuracy'])"
   ]
  },
  {
   "cell_type": "markdown",
   "metadata": {},
   "source": [
    "## 訓練と予測、モデルと重みの保存、読み込み\n",
    "\n",
    "`model.fit()`で訓練、\n",
    "`model.evaluate()`でモデルの評価、\n",
    "`model.predict()`で予測ができる。\n",
    "\n",
    "モデルや学習したパラメータを保存することができる。\n",
    "また、保存してあるモデルやパラメータを読み込むことができる。"
   ]
  },
  {
   "cell_type": "code",
   "execution_count": 6,
   "metadata": {
    "collapsed": false
   },
   "outputs": [
    {
     "name": "stdout",
     "output_type": "stream",
     "text": [
      "Epoch 1/20\n",
      "90/90 [==============================] - 0s 51us/step - loss: 2.5320 - acc: 0.5000\n",
      "Epoch 2/20\n",
      "90/90 [==============================] - 0s 55us/step - loss: 2.0840 - acc: 0.5000\n",
      "Epoch 3/20\n",
      "90/90 [==============================] - 0s 58us/step - loss: 1.6618 - acc: 0.5000\n",
      "Epoch 4/20\n",
      "90/90 [==============================] - 0s 69us/step - loss: 1.3081 - acc: 0.5000\n",
      "Epoch 5/20\n",
      "90/90 [==============================] - 0s 56us/step - loss: 1.0346 - acc: 0.5000\n",
      "Epoch 6/20\n",
      "90/90 [==============================] - 0s 64us/step - loss: 0.8504 - acc: 0.5000\n",
      "Epoch 7/20\n",
      "90/90 [==============================] - 0s 69us/step - loss: 0.7421 - acc: 0.5000\n",
      "Epoch 8/20\n",
      "90/90 [==============================] - 0s 61us/step - loss: 0.6831 - acc: 0.5111\n",
      "Epoch 9/20\n",
      "90/90 [==============================] - 0s 71us/step - loss: 0.6482 - acc: 0.6444\n",
      "Epoch 10/20\n",
      "90/90 [==============================] - 0s 57us/step - loss: 0.6291 - acc: 0.8889\n",
      "Epoch 11/20\n",
      "90/90 [==============================] - 0s 47us/step - loss: 0.6145 - acc: 0.9000\n",
      "Epoch 12/20\n",
      "90/90 [==============================] - 0s 54us/step - loss: 0.5980 - acc: 0.9000\n",
      "Epoch 13/20\n",
      "90/90 [==============================] - 0s 53us/step - loss: 0.5881 - acc: 0.8778\n",
      "Epoch 14/20\n",
      "90/90 [==============================] - 0s 52us/step - loss: 0.5783 - acc: 0.8444\n",
      "Epoch 15/20\n",
      "90/90 [==============================] - 0s 54us/step - loss: 0.5669 - acc: 0.9333\n",
      "Epoch 16/20\n",
      "90/90 [==============================] - 0s 44us/step - loss: 0.5567 - acc: 0.9778\n",
      "Epoch 17/20\n",
      "90/90 [==============================] - 0s 52us/step - loss: 0.5479 - acc: 0.9444\n",
      "Epoch 18/20\n",
      "90/90 [==============================] - 0s 51us/step - loss: 0.5375 - acc: 0.9778\n",
      "Epoch 19/20\n",
      "90/90 [==============================] - 0s 45us/step - loss: 0.5295 - acc: 0.9667\n",
      "Epoch 20/20\n",
      "90/90 [==============================] - 0s 52us/step - loss: 0.5196 - acc: 0.9889\n"
     ]
    }
   ],
   "source": [
    "from sklearn.model_selection import train_test_split\n",
    "X_train, X_test, y_train, y_test = train_test_split(X, y, test_size=0.10)\n",
    "\n",
    "history = model.fit(X_train, y_train, epochs=20)"
   ]
  },
  {
   "cell_type": "code",
   "execution_count": 7,
   "metadata": {
    "collapsed": false
   },
   "outputs": [
    {
     "name": "stdout",
     "output_type": "stream",
     "text": [
      "90/90 [==============================] - 0s 21us/step\n"
     ]
    },
    {
     "data": {
      "text/plain": [
       "[0.51361474858389955, 0.98888888094160288]"
      ]
     },
     "execution_count": 7,
     "metadata": {},
     "output_type": "execute_result"
    }
   ],
   "source": [
    "model.evaluate(X_train, y_train)"
   ]
  },
  {
   "cell_type": "code",
   "execution_count": 8,
   "metadata": {
    "collapsed": false
   },
   "outputs": [
    {
     "name": "stdout",
     "output_type": "stream",
     "text": [
      "[[0]\n",
      " [0]\n",
      " [0]\n",
      " [0]\n",
      " [0]\n",
      " [1]\n",
      " [1]\n",
      " [1]\n",
      " [1]\n",
      " [1]]\n"
     ]
    }
   ],
   "source": [
    "prediction = model.predict_classes(X_test)\n",
    "print(prediction)"
   ]
  },
  {
   "cell_type": "code",
   "execution_count": 9,
   "metadata": {
    "collapsed": false
   },
   "outputs": [
    {
     "data": {
      "text/plain": [
       "array([[ True],\n",
       "       [ True],\n",
       "       [ True],\n",
       "       [ True],\n",
       "       [ True],\n",
       "       [ True],\n",
       "       [ True],\n",
       "       [ True],\n",
       "       [ True],\n",
       "       [ True]], dtype=bool)"
      ]
     },
     "execution_count": 9,
     "metadata": {},
     "output_type": "execute_result"
    }
   ],
   "source": [
    "y_test.reshape(-1,1) == prediction"
   ]
  },
  {
   "cell_type": "code",
   "execution_count": 10,
   "metadata": {
    "collapsed": true
   },
   "outputs": [],
   "source": [
    "model.save('my_model.h5')\n",
    "del model"
   ]
  },
  {
   "cell_type": "code",
   "execution_count": 11,
   "metadata": {
    "collapsed": false
   },
   "outputs": [
    {
     "ename": "NameError",
     "evalue": "name 'model' is not defined",
     "output_type": "error",
     "traceback": [
      "\u001b[0;31m---------------------------------------------------------------------------\u001b[0m",
      "\u001b[0;31mNameError\u001b[0m                                 Traceback (most recent call last)",
      "\u001b[0;32m<ipython-input-11-9a7881f870d4>\u001b[0m in \u001b[0;36m<module>\u001b[0;34m()\u001b[0m\n\u001b[0;32m----> 1\u001b[0;31m \u001b[0mmodel\u001b[0m\u001b[0;34m.\u001b[0m\u001b[0msummary\u001b[0m\u001b[0;34m(\u001b[0m\u001b[0;34m)\u001b[0m\u001b[0;34m\u001b[0m\u001b[0m\n\u001b[0m",
      "\u001b[0;31mNameError\u001b[0m: name 'model' is not defined"
     ]
    }
   ],
   "source": [
    "model.summary()"
   ]
  },
  {
   "cell_type": "code",
   "execution_count": 12,
   "metadata": {
    "collapsed": true
   },
   "outputs": [],
   "source": [
    "from keras.models import load_model\n",
    "model = load_model('my_model.h5')"
   ]
  },
  {
   "cell_type": "code",
   "execution_count": 13,
   "metadata": {
    "collapsed": false
   },
   "outputs": [
    {
     "name": "stdout",
     "output_type": "stream",
     "text": [
      "_________________________________________________________________\n",
      "Layer (type)                 Output Shape              Param #   \n",
      "=================================================================\n",
      "dense_1 (Dense)              (None, 1)                 5         \n",
      "=================================================================\n",
      "Total params: 5\n",
      "Trainable params: 5\n",
      "Non-trainable params: 0\n",
      "_________________________________________________________________\n"
     ]
    }
   ],
   "source": [
    "model.summary()"
   ]
  },
  {
   "cell_type": "code",
   "execution_count": 14,
   "metadata": {
    "collapsed": false
   },
   "outputs": [
    {
     "data": {
      "text/plain": [
       "99"
      ]
     },
     "execution_count": 14,
     "metadata": {},
     "output_type": "execute_result"
    }
   ],
   "source": [
    "((model.predict(X) > 0.5) == y.reshape(-1,1)).sum()"
   ]
  },
  {
   "cell_type": "markdown",
   "metadata": {},
   "source": [
    "## KerasでMNISTの分類"
   ]
  },
  {
   "cell_type": "code",
   "execution_count": 15,
   "metadata": {
    "collapsed": true
   },
   "outputs": [],
   "source": [
    "from keras.datasets import mnist\n",
    "\n",
    "(x_train, y_train), (x_test, y_test) = mnist.load_data()"
   ]
  },
  {
   "cell_type": "code",
   "execution_count": 16,
   "metadata": {
    "collapsed": false
   },
   "outputs": [
    {
     "data": {
      "image/png": "[encoded data removed]",
      "text/plain": [
       "<matplotlib.figure.Figure at 0x10cf31dd8>"
      ]
     },
     "metadata": {},
     "output_type": "display_data"
    }
   ],
   "source": [
    "plt.imshow(x_train[2], cmap=plt.get_cmap('gray'))\n",
    "plt.title(y_train[2]);"
   ]
  },
  {
   "cell_type": "code",
   "execution_count": 17,
   "metadata": {
    "collapsed": false
   },
   "outputs": [
    {
     "data": {
      "text/plain": [
       "((60000, 28, 28), (10000, 28, 28))"
      ]
     },
     "execution_count": 17,
     "metadata": {},
     "output_type": "execute_result"
    }
   ],
   "source": [
    "x_train.shape, x_test.shape"
   ]
  },
  {
   "cell_type": "code",
   "execution_count": 18,
   "metadata": {
    "collapsed": false
   },
   "outputs": [
    {
     "data": {
      "text/plain": [
       "((60000,), (10000,))"
      ]
     },
     "execution_count": 18,
     "metadata": {},
     "output_type": "execute_result"
    }
   ],
   "source": [
    "y_train.shape, y_test.shape"
   ]
  },
  {
   "cell_type": "code",
   "execution_count": 19,
   "metadata": {
    "collapsed": false
   },
   "outputs": [],
   "source": [
    "from sklearn.model_selection import train_test_split\n",
    "x_train, x_val, y_train, y_val = train_test_split(x_train, y_train, test_size=0.10, random_state=42)"
   ]
  },
  {
   "cell_type": "markdown",
   "metadata": {},
   "source": [
    "## 単純な一層モデル"
   ]
  },
  {
   "cell_type": "code",
   "execution_count": 43,
   "metadata": {
    "collapsed": false
   },
   "outputs": [],
   "source": [
    "from keras.models import Sequential\n",
    "from keras.layers.core import Dense, Flatten"
   ]
  },
  {
   "cell_type": "code",
   "execution_count": 44,
   "metadata": {
    "collapsed": false
   },
   "outputs": [
    {
     "name": "stdout",
     "output_type": "stream",
     "text": [
      "input shape  (None, 28, 28)\n",
      "output shape  (None, 10)\n",
      "_________________________________________________________________\n",
      "Layer (type)                 Output Shape              Param #   \n",
      "=================================================================\n",
      "flatten_5 (Flatten)          (None, 784)               0         \n",
      "_________________________________________________________________\n",
      "dense_10 (Dense)             (None, 10)                7850      \n",
      "=================================================================\n",
      "Total params: 7,850\n",
      "Trainable params: 7,850\n",
      "Non-trainable params: 0\n",
      "_________________________________________________________________\n",
      "None\n"
     ]
    }
   ],
   "source": [
    "model = Sequential()\n",
    "model.add(Flatten(input_shape=(28,28)))\n",
    "model.add(Dense(10, activation='softmax'))\n",
    "print(\"input shape \",model.input_shape)\n",
    "print(\"output shape \",model.output_shape)\n",
    "print(model.summary())"
   ]
  },
  {
   "cell_type": "markdown",
   "metadata": {},
   "source": [
    "### 最適化\n",
    "https://keras.io/ja/optimizers/\n",
    "\n",
    "勾配法を改良して、パラメータを最適化する方法が色々考えられている。"
   ]
  },
  {
   "cell_type": "code",
   "execution_count": 23,
   "metadata": {
    "collapsed": false
   },
   "outputs": [
    {
     "data": {
      "text/plain": [
       "array([ 0.,  1.,  0.,  0.,  0.,  0.,  0.,  0.,  0.,  0.])"
      ]
     },
     "execution_count": 23,
     "metadata": {},
     "output_type": "execute_result"
    }
   ],
   "source": [
    "from keras.utils.np_utils import to_categorical\n",
    "y_train = to_categorical(y_train)\n",
    "y_train[0]"
   ]
  },
  {
   "cell_type": "code",
   "execution_count": 45,
   "metadata": {
    "collapsed": true
   },
   "outputs": [],
   "source": [
    "model.compile(optimizer=\"sgd\", loss='categorical_crossentropy', metrics=['accuracy'])"
   ]
  },
  {
   "cell_type": "code",
   "execution_count": 46,
   "metadata": {
    "collapsed": false
   },
   "outputs": [
    {
     "name": "stdout",
     "output_type": "stream",
     "text": [
      "Epoch 1/20\n",
      "54000/54000 [==============================] - 1s 27us/step - loss: 14.2546 - acc: 0.1155\n",
      "Epoch 2/20\n",
      "54000/54000 [==============================] - 1s 27us/step - loss: 12.1853 - acc: 0.2437\n",
      "Epoch 3/20\n",
      "54000/54000 [==============================] - 1s 27us/step - loss: 10.4699 - acc: 0.3499\n",
      "Epoch 4/20\n",
      "54000/54000 [==============================] - 1s 27us/step - loss: 10.1860 - acc: 0.3679\n",
      "Epoch 5/20\n",
      "54000/54000 [==============================] - 1s 27us/step - loss: 10.0872 - acc: 0.3739\n",
      "Epoch 6/20\n",
      "54000/54000 [==============================] - 1s 27us/step - loss: 10.0809 - acc: 0.3744\n",
      "Epoch 7/20\n",
      "54000/54000 [==============================] - 1s 27us/step - loss: 9.9966 - acc: 0.3796\n",
      "Epoch 8/20\n",
      "54000/54000 [==============================] - 1s 27us/step - loss: 9.9591 - acc: 0.3820\n",
      "Epoch 9/20\n",
      "54000/54000 [==============================] - 1s 27us/step - loss: 9.9424 - acc: 0.3830\n",
      "Epoch 10/20\n",
      "54000/54000 [==============================] - 1s 27us/step - loss: 9.9386 - acc: 0.3832\n",
      "Epoch 11/20\n",
      "54000/54000 [==============================] - 1s 27us/step - loss: 9.9227 - acc: 0.3842\n",
      "Epoch 12/20\n",
      "54000/54000 [==============================] - 2s 29us/step - loss: 9.9515 - acc: 0.3824\n",
      "Epoch 13/20\n",
      "54000/54000 [==============================] - 1s 27us/step - loss: 9.9259 - acc: 0.3841\n",
      "Epoch 14/20\n",
      "54000/54000 [==============================] - 1s 27us/step - loss: 9.9126 - acc: 0.3849\n",
      "Epoch 15/20\n",
      "54000/54000 [==============================] - 1s 28us/step - loss: 9.8939 - acc: 0.3861\n",
      "Epoch 16/20\n",
      "54000/54000 [==============================] - 1s 27us/step - loss: 9.8650 - acc: 0.3879\n",
      "Epoch 17/20\n",
      "54000/54000 [==============================] - 1s 27us/step - loss: 9.9282 - acc: 0.3839\n",
      "Epoch 18/20\n",
      "54000/54000 [==============================] - 1s 27us/step - loss: 9.8716 - acc: 0.3874\n",
      "Epoch 19/20\n",
      "54000/54000 [==============================] - 1s 27us/step - loss: 9.9630 - acc: 0.3818\n",
      "Epoch 20/20\n",
      "54000/54000 [==============================] - 1s 27us/step - loss: 9.9731 - acc: 0.3811\n"
     ]
    }
   ],
   "source": [
    "history = model.fit(x_train, y_train, epochs=20)"
   ]
  },
  {
   "cell_type": "code",
   "execution_count": 47,
   "metadata": {
    "collapsed": false
   },
   "outputs": [
    {
     "data": {
      "text/plain": [
       "dict_keys(['acc', 'loss'])"
      ]
     },
     "execution_count": 47,
     "metadata": {},
     "output_type": "execute_result"
    }
   ],
   "source": [
    "history_dict = history.history\n",
    "history_dict.keys()"
   ]
  },
  {
   "cell_type": "code",
   "execution_count": 48,
   "metadata": {
    "collapsed": false
   },
   "outputs": [
    {
     "data": {
      "text/plain": [
       "[<matplotlib.lines.Line2D at 0x116832f28>]"
      ]
     },
     "execution_count": 48,
     "metadata": {},
     "output_type": "execute_result"
    },
    {
     "data": {
      "image/png": "[encoded data removed]",
      "text/plain": [
       "<matplotlib.figure.Figure at 0x116832ef0>"
      ]
     },
     "metadata": {},
     "output_type": "display_data"
    }
   ],
   "source": [
    "loss_values = history_dict['loss']\n",
    "acc_values = history_dict['acc']\n",
    "\n",
    "plt.plot(loss_values)\n",
    "plt.plot(acc_values)"
   ]
  },
  {
   "cell_type": "code",
   "execution_count": 49,
   "metadata": {
    "collapsed": false
   },
   "outputs": [
    {
     "data": {
      "text/plain": [
       "0.37233333333333335"
      ]
     },
     "execution_count": 49,
     "metadata": {},
     "output_type": "execute_result"
    }
   ],
   "source": [
    "predictions = model.predict_classes(x_val, verbose=0)\n",
    "(predictions == y_val).sum()/len(y_val)"
   ]
  },
  {
   "cell_type": "markdown",
   "metadata": {},
   "source": [
    "## 多層モデル"
   ]
  },
  {
   "cell_type": "code",
   "execution_count": 31,
   "metadata": {
    "collapsed": false
   },
   "outputs": [
    {
     "name": "stdout",
     "output_type": "stream",
     "text": [
      "input shape  (None, 28, 28)\n",
      "output shape  (None, 10)\n",
      "_________________________________________________________________\n",
      "Layer (type)                 Output Shape              Param #   \n",
      "=================================================================\n",
      "flatten_3 (Flatten)          (None, 784)               0         \n",
      "_________________________________________________________________\n",
      "dense_6 (Dense)              (None, 256)               200960    \n",
      "_________________________________________________________________\n",
      "dense_7 (Dense)              (None, 256)               65792     \n",
      "_________________________________________________________________\n",
      "dense_8 (Dense)              (None, 10)                2570      \n",
      "=================================================================\n",
      "Total params: 269,322\n",
      "Trainable params: 269,322\n",
      "Non-trainable params: 0\n",
      "_________________________________________________________________\n",
      "None\n"
     ]
    }
   ],
   "source": [
    "model = Sequential()\n",
    "model.add(Flatten(input_shape=(28,28)))\n",
    "model.add(Dense(256, activation='sigmoid')) #reluだと学習が上手くいかない\n",
    "model.add(Dense(256, activation='sigmoid'))\n",
    "model.add(Dense(10, activation='softmax'))\n",
    "print(\"input shape \",model.input_shape)\n",
    "print(\"output shape \",model.output_shape)\n",
    "print(model.summary())\n",
    "\n",
    "model.compile(optimizer=\"adam\", loss='categorical_crossentropy', metrics=['accuracy'])"
   ]
  },
  {
   "cell_type": "code",
   "execution_count": 32,
   "metadata": {
    "collapsed": false
   },
   "outputs": [
    {
     "name": "stdout",
     "output_type": "stream",
     "text": [
      "Epoch 1/10\n",
      "54000/54000 [==============================] - 17s 314us/step - loss: 0.4628 - acc: 0.8671\n",
      "Epoch 2/10\n",
      "54000/54000 [==============================] - 21s 397us/step - loss: 0.3207 - acc: 0.9019\n",
      "Epoch 3/10\n",
      "54000/54000 [==============================] - 25s 457us/step - loss: 0.2880 - acc: 0.9117\n",
      "Epoch 4/10\n",
      "54000/54000 [==============================] - 25s 463us/step - loss: 0.2584 - acc: 0.9209\n",
      "Epoch 5/10\n",
      "54000/54000 [==============================] - 27s 504us/step - loss: 0.2426 - acc: 0.9250\n",
      "Epoch 6/10\n",
      "54000/54000 [==============================] - 25s 463us/step - loss: 0.2266 - acc: 0.9291\n",
      "Epoch 7/10\n",
      "54000/54000 [==============================] - 27s 494us/step - loss: 0.2134 - acc: 0.9328\n",
      "Epoch 8/10\n",
      "54000/54000 [==============================] - 28s 511us/step - loss: 0.2003 - acc: 0.9374\n",
      "Epoch 9/10\n",
      "54000/54000 [==============================] - 30s 559us/step - loss: 0.1920 - acc: 0.9406\n",
      "Epoch 10/10\n",
      "54000/54000 [==============================] - 28s 511us/step - loss: 0.1804 - acc: 0.9431\n"
     ]
    }
   ],
   "source": [
    "history = model.fit(x_train, y_train, epochs=10)"
   ]
  },
  {
   "cell_type": "code",
   "execution_count": 33,
   "metadata": {
    "collapsed": false
   },
   "outputs": [
    {
     "data": {
      "text/plain": [
       "[<matplotlib.lines.Line2D at 0x1138c4dd8>]"
      ]
     },
     "execution_count": 33,
     "metadata": {},
     "output_type": "execute_result"
    },
    {
     "data": {
      "image/png": "[encoded data removed]",
      "text/plain": [
       "<matplotlib.figure.Figure at 0x1138c4e10>"
      ]
     },
     "metadata": {},
     "output_type": "display_data"
    }
   ],
   "source": [
    "history_dict = history.history\n",
    "loss_values = history_dict['loss']\n",
    "acc_values = history_dict['acc']\n",
    "\n",
    "plt.plot(loss_values)\n",
    "plt.plot(acc_values)"
   ]
  },
  {
   "cell_type": "code",
   "execution_count": 34,
   "metadata": {
    "collapsed": false
   },
   "outputs": [
    {
     "data": {
      "text/plain": [
       "0.94366666666666665"
      ]
     },
     "execution_count": 34,
     "metadata": {},
     "output_type": "execute_result"
    }
   ],
   "source": [
    "predictions = model.predict_classes(x_val, verbose=0)\n",
    "(predictions == y_val).sum()/len(y_val)"
   ]
  },
  {
   "cell_type": "markdown",
   "metadata": {},
   "source": [
    "## CNN"
   ]
  },
  {
   "cell_type": "code",
   "execution_count": 49,
   "metadata": {
    "collapsed": false
   },
   "outputs": [],
   "source": [
    "#https://github.com/fchollet/keras/blob/master/examples/mnist_cnn.py\n",
    "from keras.models import Sequential\n",
    "from keras.layers import Dense, Dropout, Flatten, Conv2D, MaxPool2D\n",
    "from keras.optimizers import Adadelta\n",
    "from keras.losses import categorical_crossentropy\n",
    "\n",
    "batch_size = 128\n",
    "num_classes = 10\n",
    "\n",
    "model = Sequential()\n",
    "model.add(Conv2D(32, kernel_size=(3, 3),\n",
    "                 activation='relu',\n",
    "                 input_shape=(28,28,1)))\n",
    "model.add(Conv2D(64, (3, 3), activation='relu'))\n",
    "model.add(MaxPool2D(pool_size=(2, 2)))\n",
    "model.add(Dropout(0.25))\n",
    "model.add(Flatten())\n",
    "model.add(Dense(128, activation='relu'))\n",
    "model.add(Dropout(0.5))\n",
    "model.add(Dense(num_classes, activation='softmax'))\n",
    "\n",
    "model.compile(loss=categorical_crossentropy,\n",
    "              optimizer=Adadelta(),\n",
    "              metrics=['accuracy'])"
   ]
  },
  {
   "cell_type": "code",
   "execution_count": 50,
   "metadata": {
    "collapsed": false
   },
   "outputs": [
    {
     "name": "stdout",
     "output_type": "stream",
     "text": [
      "_________________________________________________________________\n",
      "Layer (type)                 Output Shape              Param #   \n",
      "=================================================================\n",
      "conv2d_4 (Conv2D)            (None, 26, 26, 32)        320       \n",
      "_________________________________________________________________\n",
      "conv2d_5 (Conv2D)            (None, 24, 24, 64)        18496     \n",
      "_________________________________________________________________\n",
      "max_pooling2d_2 (MaxPooling2 (None, 12, 12, 64)        0         \n",
      "_________________________________________________________________\n",
      "dropout_3 (Dropout)          (None, 12, 12, 64)        0         \n",
      "_________________________________________________________________\n",
      "flatten_5 (Flatten)          (None, 9216)              0         \n",
      "_________________________________________________________________\n",
      "dense_11 (Dense)             (None, 128)               1179776   \n",
      "_________________________________________________________________\n",
      "dropout_4 (Dropout)          (None, 128)               0         \n",
      "_________________________________________________________________\n",
      "dense_12 (Dense)             (None, 10)                1290      \n",
      "=================================================================\n",
      "Total params: 1,199,882\n",
      "Trainable params: 1,199,882\n",
      "Non-trainable params: 0\n",
      "_________________________________________________________________\n"
     ]
    }
   ],
   "source": [
    "model.summary() #18496 = 64 * 289 = 64 * (1 + 9 * 32)"
   ]
  },
  {
   "cell_type": "code",
   "execution_count": 51,
   "metadata": {
    "collapsed": false
   },
   "outputs": [
    {
     "name": "stdout",
     "output_type": "stream",
     "text": [
      "Epoch 1/10\n",
      "54000/54000 [==============================] - 207s 4ms/step - loss: 1.0338 - acc: 0.8271\n",
      "Epoch 2/10\n",
      "54000/54000 [==============================] - 204s 4ms/step - loss: 0.1848 - acc: 0.9473\n",
      "Epoch 3/10\n",
      "54000/54000 [==============================] - 204s 4ms/step - loss: 0.1251 - acc: 0.9646\n",
      "Epoch 4/10\n",
      "54000/54000 [==============================] - 204s 4ms/step - loss: 0.0947 - acc: 0.9725\n",
      "Epoch 5/10\n",
      "54000/54000 [==============================] - 203s 4ms/step - loss: 0.0778 - acc: 0.9777\n",
      "Epoch 6/10\n",
      "54000/54000 [==============================] - 205s 4ms/step - loss: 0.0642 - acc: 0.9809\n",
      "Epoch 7/10\n",
      "54000/54000 [==============================] - 204s 4ms/step - loss: 0.0570 - acc: 0.9832\n",
      "Epoch 8/10\n",
      "54000/54000 [==============================] - 202s 4ms/step - loss: 0.0500 - acc: 0.9854\n",
      "Epoch 9/10\n",
      "54000/54000 [==============================] - 207s 4ms/step - loss: 0.0461 - acc: 0.9862\n",
      "Epoch 10/10\n",
      "54000/54000 [==============================] - 206s 4ms/step - loss: 0.0425 - acc: 0.9872\n"
     ]
    }
   ],
   "source": [
    "# 15分ぐらいかかる\n",
    "history = model.fit(x_train.reshape(-1,28,28,1),\n",
    "                    y_train, batch_size=batch_size, verbose=1, epochs=5)"
   ]
  },
  {
   "cell_type": "code",
   "execution_count": 52,
   "metadata": {
    "collapsed": false
   },
   "outputs": [
    {
     "data": {
      "text/plain": [
       "[<matplotlib.lines.Line2D at 0x113aba908>]"
      ]
     },
     "execution_count": 52,
     "metadata": {},
     "output_type": "execute_result"
    },
    {
     "data": {
      "image/png": "[encoded data removed]",
      "text/plain": [
       "<matplotlib.figure.Figure at 0x113aba4a8>"
      ]
     },
     "metadata": {},
     "output_type": "display_data"
    }
   ],
   "source": [
    "history_dict = history.history\n",
    "loss_values = history_dict['loss']\n",
    "acc_values = history_dict['acc']\n",
    "\n",
    "plt.plot(loss_values)\n",
    "plt.plot(acc_values)"
   ]
  },
  {
   "cell_type": "code",
   "execution_count": 55,
   "metadata": {
    "collapsed": false
   },
   "outputs": [
    {
     "data": {
      "text/plain": [
       "0.98950000000000005"
      ]
     },
     "execution_count": 55,
     "metadata": {},
     "output_type": "execute_result"
    }
   ],
   "source": [
    "predictions = model.predict_classes(x_val.reshape(-1,28,28,1), verbose=0)\n",
    "(predictions == y_val).sum()/len(y_val)"
   ]
  }
 ],
 "metadata": {
  "kernelspec": {
   "display_name": "Python 3",
   "language": "python",
   "name": "python3"
  },
  "language_info": {
   "codemirror_mode": {
    "name": "ipython",
    "version": 3
   },
   "file_extension": ".py",
   "mimetype": "text/x-python",
   "name": "python",
   "nbconvert_exporter": "python",
   "pygments_lexer": "ipython3",
   "version": "3.5.2"
  }
 },
 "nbformat": 4,
 "nbformat_minor": 1
}
